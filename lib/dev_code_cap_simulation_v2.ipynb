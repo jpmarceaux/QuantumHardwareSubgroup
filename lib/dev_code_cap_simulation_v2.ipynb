{
 "cells": [
  {
   "cell_type": "code",
   "execution_count": 18,
   "metadata": {},
   "outputs": [
    {
     "name": "stdout",
     "output_type": "stream",
     "text": [
      "The autoreload extension is already loaded. To reload it, use:\n",
      "  %reload_ext autoreload\n"
     ]
    }
   ],
   "source": [
    "import numpy as np\n",
    "import matplotlib.pyplot as plt\n",
    "import stim\n",
    "from lib.stabilizer import measurement_gadgets, StabilizerCode, stabilizer_circuits\n",
    "from lib.color_compass import Lattice2D, compass_to_surface, pauli2vector\n",
    "from lib.decoder import checkmatrix,pL_from_checkmatrix\n",
    "from lib.stim2pymatching import estimate_pL_noisy_graph\n",
    "import stimcirq\n",
    "from typing import *\n",
    "from cirq.contrib.svg import SVGCircuit\n",
    "import networkx as nx\n",
    "import time\n",
    "from tqdm import tqdm\n",
    "from pymatching import Matching\n",
    "\n",
    "%load_ext autoreload\n",
    "%autoreload 2"
   ]
  },
  {
   "cell_type": "code",
   "execution_count": 2,
   "metadata": {},
   "outputs": [
    {
     "name": "stdout",
     "output_type": "stream",
     "text": [
      "000---001---002\n",
      " |  ░  |  ░  |\n",
      "003---004---005\n",
      " |     |  ▓  |\n",
      "006---007---008\n",
      "\n"
     ]
    }
   ],
   "source": [
    "\"\"\"pick the compass code\"\"\"\n",
    "dim = 3\n",
    "lat = Lattice2D(dim, dim)\n",
    "\n",
    "coloring = np.random.randint(-1, 2, size=(dim-1)**2)\n",
    "lat.color_lattice(coloring)\n",
    "print(lat)"
   ]
  },
  {
   "cell_type": "markdown",
   "metadata": {},
   "source": [
    "### Scheme for Decoder Graph (Code Capacity Model)\n",
    "* Given a surface density code (a type of CSS code), we can construct decoder graphs for both $X$ and $Z$-type stabilizers\n",
    "* Each vertex of the graph corresponds to a stabilizer and each edge corresponds to a qubit\n",
    "    * In this scheme, if a qubit is involved in more than 2 stabilizer checks, then we can have a hyper-edge."
   ]
  },
  {
   "cell_type": "code",
   "execution_count": 3,
   "metadata": {},
   "outputs": [],
   "source": [
    "def get_parity_check_mat(stabs: List, stab_type: str):\n",
    "    \"\"\"\n",
    "    Define parity check matrix for 'stabs' of 'stab_type' \n",
    "\n",
    "    Params:\n",
    "    * stabs - List of stabilizers in string form where 'X' denotes X, 'Z' denotes Z and '_' denotes I\n",
    "    * stab_type - Either 'X' or 'Z' as these are CSS codes\n",
    "    \"\"\"\n",
    "    pc_mat = np.zeros((len(stabs), len(stabs[0])), dtype=int)\n",
    "    for i, stab in enumerate(stabs):\n",
    "        pc_mat[i] = np.array([1 * (lambda x : x == stab_type)(x) for x in stab])\n",
    "\n",
    "    return pc_mat\n"
   ]
  },
  {
   "cell_type": "code",
   "execution_count": 4,
   "metadata": {},
   "outputs": [],
   "source": [
    "pc_mat_X = get_parity_check_mat(lat.getSx(), stab_type='X')\n",
    "pc_mat_Z = get_parity_check_mat(lat.getSz(), stab_type='Z')"
   ]
  },
  {
   "cell_type": "code",
   "execution_count": 5,
   "metadata": {},
   "outputs": [],
   "source": [
    "def construct_decoder_graph_weighted(pc_mat : np.array, weights : np.array, num_rounds: int = 1):\n",
    "    decode_graph = nx.MultiGraph()\n",
    "    color_map = []\n",
    "\n",
    "    for k in range(num_rounds):\n",
    "        curr_decode_graph = nx.MultiGraph()\n",
    "        for i, stab in enumerate(pc_mat):\n",
    "            curr_decode_graph.add_node(str(i) + \",\" + str(k))\n",
    "\n",
    "        for j, qubit in enumerate(pc_mat.T):\n",
    "            stabs = [str(i) + \",\" + str(k) for i in range(len(qubit)) if qubit[i] == 1]\n",
    "            if (len(stabs) == 1):\n",
    "                stabs = tuple(stabs + ['B' + \",\" + str(k)])\n",
    "                curr_decode_graph.add_edge(*stabs, weight=weights[j])\n",
    "            else:\n",
    "                curr_decode_graph.add_edge(*tuple(stabs), weight=weights[j])\n",
    "\n",
    "        for node in curr_decode_graph:\n",
    "            if(str(node) == 'B' + \",\" + str(k)):\n",
    "                color_map.append('tab:red')\n",
    "            else:\n",
    "                color_map.append('tab:blue')\n",
    "\n",
    "        if (k > 0):\n",
    "            for node in curr_decode_graph:\n",
    "                decode_graph.add_edge(node[0] + \",\" + str(k), \n",
    "                                           node[0] + ',' + str(k - 1))\n",
    "        decode_graph = nx.compose(decode_graph, curr_decode_graph)\n",
    "\n",
    "    return decode_graph, color_map\n",
    "\n",
    "def construct_decoder_graph(pc_mat : np.array, num_rounds: int = 1):\n",
    "    decode_graph = nx.MultiGraph()\n",
    "    color_map = []\n",
    "\n",
    "    for k in range(num_rounds):\n",
    "        curr_decode_graph = nx.MultiGraph()\n",
    "        for i, stab in enumerate(pc_mat):\n",
    "            curr_decode_graph.add_node(str(i) + \",\" + str(k))\n",
    "\n",
    "        for j, qubit in enumerate(pc_mat.T):\n",
    "            stabs = [str(i) + \",\" + str(k) for i in range(len(qubit)) if qubit[i] == 1]\n",
    "            if (len(stabs) == 1):\n",
    "                stabs = tuple(stabs + ['B' + \",\" + str(k)])\n",
    "                curr_decode_graph.add_edge(*stabs)\n",
    "            else:\n",
    "                curr_decode_graph.add_edge(*tuple(stabs))\n",
    "\n",
    "        for node in curr_decode_graph:\n",
    "            if(str(node) == 'B' + \",\" + str(k)):\n",
    "                color_map.append('tab:red')\n",
    "            else:\n",
    "                color_map.append('tab:blue')\n",
    "\n",
    "        if (k > 0):\n",
    "            for node in curr_decode_graph:\n",
    "                decode_graph.add_edge(node[0] + \",\" + str(k), \n",
    "                                           node[0] + ',' + str(k - 1))\n",
    "        decode_graph = nx.compose(decode_graph, curr_decode_graph)\n",
    "\n",
    "    return decode_graph, color_map"
   ]
  },
  {
   "cell_type": "code",
   "execution_count": 6,
   "metadata": {},
   "outputs": [],
   "source": [
    "decode_graph_X, color_map_X = construct_decoder_graph(pc_mat_X, num_rounds=1)\n",
    "decode_graph_Z, color_map_Z = construct_decoder_graph(pc_mat_Z, num_rounds=1)"
   ]
  },
  {
   "cell_type": "code",
   "execution_count": 7,
   "metadata": {},
   "outputs": [
    {
     "data": {
      "image/png": "[encoded data removed]",
      "text/plain": [
       "<Figure size 640x480 with 1 Axes>"
      ]
     },
     "metadata": {},
     "output_type": "display_data"
    }
   ],
   "source": [
    "nx.draw(decode_graph_X, node_color = color_map_X, with_labels=True)"
   ]
  },
  {
   "cell_type": "code",
   "execution_count": 8,
   "metadata": {},
   "outputs": [
    {
     "data": {
      "image/png": "[encoded data removed]",
      "text/plain": [
       "<Figure size 640x480 with 1 Axes>"
      ]
     },
     "metadata": {},
     "output_type": "display_data"
    }
   ],
   "source": [
    "nx.draw(decode_graph_Z, node_color = color_map_Z, with_labels=True)"
   ]
  },
  {
   "cell_type": "code",
   "execution_count": 9,
   "metadata": {},
   "outputs": [
    {
     "name": "stdout",
     "output_type": "stream",
     "text": [
      "X PARITY CHECKk\n",
      "[[1 1 1 1 1 1 0 0 0]\n",
      " [0 0 0 1 1 0 1 1 0]\n",
      " [0 0 0 0 0 1 0 0 1]]\n",
      "\n",
      "\n",
      "Z PARITY CHECK\n",
      "[[1 1 0 0 0 0 0 0 0]\n",
      " [0 0 0 1 1 0 1 1 0]\n",
      " [0 1 1 0 0 0 0 0 0]\n",
      " [0 0 0 0 1 1 0 1 1]]\n"
     ]
    }
   ],
   "source": [
    "print(\"X PARITY CHECKk\")\n",
    "print(pc_mat_X)\n",
    "print('\\n')\n",
    "print(\"Z PARITY CHECK\")\n",
    "print(pc_mat_Z)"
   ]
  },
  {
   "cell_type": "code",
   "execution_count": 10,
   "metadata": {},
   "outputs": [],
   "source": [
    "nx.nx_agraph.write_dot(decode_graph_X, \"decoder_graph_files/decode_graph_X.dot\")\n",
    "!neato -T png \"decoder_graph_files/decode_graph_X.dot\" > \"decoder_graph_files/decode_graph_X.png\"\n",
    "\n",
    "nx.nx_agraph.write_dot(decode_graph_Z, \"decoder_graph_files/decode_graph_Z.dot\")\n",
    "!neato -T png \"decoder_graph_files/decode_graph_Z.dot\" > \"decoder_graph_files/decode_graph_Z.png\""
   ]
  },
  {
   "cell_type": "markdown",
   "metadata": {},
   "source": [
    "# Error Correction Loop\n",
    "1. Prepare in computational basis state\n",
    "2. Fix a simple noise model\n",
    "3. Note error operator at given timestep\n",
    "4. Perform syndrome measurement\n",
    "5. MWPM decoder\n",
    "6. Do you remain in computational basis state coset after applying operation?\n",
    "7. Repeat\n",
    "8. Calculate logical error rate"
   ]
  },
  {
   "cell_type": "code",
   "execution_count": 11,
   "metadata": {},
   "outputs": [
    {
     "name": "stdout",
     "output_type": "stream",
     "text": [
      "_________\n"
     ]
    }
   ],
   "source": [
    "\"\"\"Sample a random Pauli error\n",
    "    for now, I'll assume biased, symmetric, uncorrelated Pauli channel\n",
    "\"\"\"\n",
    "import random\n",
    "\n",
    "def random_pauli(num_qubits : int, rates : list):\n",
    "    assert rates[0] + rates[1] + rates[2] <= 1, \"Error rate must not exceed 1\"\"\"\n",
    "    paulis = []\n",
    "    for i in range(num_qubits):\n",
    "        x = random.uniform(0, 1)\n",
    "        if x <= rates[0]: \n",
    "            paulis.append('X')\n",
    "        elif x <= rates[0] + rates[1]:\n",
    "            paulis.append('Y')\n",
    "        elif x <= rates[0] + rates[1] + rates[2]:\n",
    "            paulis.append('Z')\n",
    "        else:\n",
    "            paulis.append('_')\n",
    "    return ''.join(paulis)\n",
    "\n",
    "P = random_pauli(lat.size(), [0.01, 0.01, 0.01])\n",
    "print(P)"
   ]
  },
  {
   "cell_type": "code",
   "execution_count": 12,
   "metadata": {},
   "outputs": [
    {
     "data": {
      "text/plain": [
       "array([0, 0, 0, 0, 0, 0, 0, 0, 0, 0, 0, 0, 0, 0, 0, 0, 0, 0])"
      ]
     },
     "execution_count": 12,
     "metadata": {},
     "output_type": "execute_result"
    }
   ],
   "source": [
    "pauli2vector(P)"
   ]
  },
  {
   "cell_type": "code",
   "execution_count": 13,
   "metadata": {},
   "outputs": [
    {
     "name": "stdout",
     "output_type": "stream",
     "text": [
      "[0 0 0] [0 0 0 0]\n"
     ]
    }
   ],
   "source": [
    "\"\"\"get the syndrome of the pauli operator \"\"\"\n",
    "\n",
    "def twisted_product(stab_binary, pauli_binary):\n",
    "    \"\"\"\n",
    "    take twisted product of stabilizer with pauli to calculate commutator \n",
    "    \"\"\"\n",
    "    \n",
    "    if len(stab_binary.shape) == 1:\n",
    "        # if we have only 1 stabilizer\n",
    "        L = int(len(stab_binary)/2)\n",
    "        return (stab_binary[:L]@pauli_binary[L:] + stab_binary[L:]@pauli_binary[:L]) % 2\n",
    "    else:\n",
    "        # if we have a parity check \n",
    "        L = int(stab_binary.shape[1]/2)\n",
    "        assert stab_binary.shape[1] == len(pauli_binary)\n",
    "        syndrome = []\n",
    "        for i in range(stab_binary.shape[0]):\n",
    "            syndrome.append((stab_binary[i, :L]@pauli_binary[L:] + stab_binary[i, L:]@pauli_binary[:L]) % 2)\n",
    "        return np.array(syndrome)\n",
    "syndromeZ = twisted_product(lat.pcheckX(), pauli2vector(P)) # Syndrome for Z errors\n",
    "syndromeX = twisted_product(lat.pcheckZ(), pauli2vector(P)) # Syndrome for X errors\n",
    "print(syndromeZ, syndromeX)"
   ]
  },
  {
   "cell_type": "code",
   "execution_count": 14,
   "metadata": {},
   "outputs": [],
   "source": [
    "\"\"\"setup datastructures for MWPM decoding\"\"\"\n",
    "\n",
    "def pcheck_clipZ(pcheck):\n",
    "    \"\"\"\n",
    "    clip (remove) the 1st half of the parity check matrix\n",
    "    \"\"\"\n",
    "    L = int(pcheck.shape[1]/2)\n",
    "    return pcheck[:, L:]\n",
    "\n",
    "def pcheck_clipX(pcheck):\n",
    "    \"\"\"\n",
    "    clip (remove) the 2nd half of the parity check matrix\n",
    "    \"\"\"\n",
    "    L = int(pcheck.shape[1]/2)\n",
    "    return pcheck[:, :L]"
   ]
  },
  {
   "cell_type": "markdown",
   "metadata": {},
   "source": [
    "### BP-Matching"
   ]
  },
  {
   "cell_type": "code",
   "execution_count": 15,
   "metadata": {},
   "outputs": [],
   "source": [
    "lat = Lattice2D(4, 4)\n",
    "\n",
    "coloring = np.random.randint(-1, 2, size=(4-1)**2)\n",
    "lat.color_lattice(coloring)\n",
    "error_probability = 0.09\n",
    "rates = [0.03, 0.03, 0.03]\n",
    "pcheckX = lat.pcheckX() # X-type Pauli check matrix\n",
    "pcheckZ = lat.pcheckZ() # Z-type Pauli check matrix\n",
    "num_qubits = lat.size()\n",
    "pcheck = np.vstack([pcheckX, pcheckZ])\n",
    "Hz = pcheck_clipZ(pcheckZ) # Z-type check matrix for checking X-type errors\n",
    "Hx = pcheck_clipX(pcheckX) # X-type check matrix for checking Z-type errors"
   ]
  },
  {
   "cell_type": "code",
   "execution_count": 16,
   "metadata": {},
   "outputs": [],
   "source": [
    "# Single Round Test Run\n",
    "import numpy as np\n",
    "from ldpc import bposd_decoder\n",
    "\n",
    "# BP decoder for X errors\n",
    "bpd_X=bposd_decoder(\n",
    "    Hz,#the parity check matrix\n",
    "    error_rate=error_probability,\n",
    "    channel_probs=[None], #assign error_rate to each qubit. This will override \"error_rate\" input variable\n",
    "    max_iter=num_qubits, #the maximum number of iterations for BP)\n",
    "    bp_method=\"ms\",\n",
    "    ms_scaling_factor=0, #min sum scaling factor. If set to zero the variable scaling factor method is used\n",
    "    osd_method=\"osd0\", #the OSD method. Choose from:  1) \"osd_e\", \"osd_cs\", \"osd0\"\n",
    "    osd_order=7 #the osd search depth\n",
    "    )\n",
    "\n",
    "# BP decoder for Z errors\n",
    "bpd_Z=bposd_decoder(\n",
    "    Hx,#the parity check matrix\n",
    "    error_rate=error_probability,\n",
    "    channel_probs=[None], #assign error_rate to each qubit. This will override \"error_rate\" input variable\n",
    "    max_iter=num_qubits, #the maximum number of iterations for BP)\n",
    "    bp_method=\"ms\",\n",
    "    ms_scaling_factor=0, #min sum scaling factor. If set to zero the variable scaling factor method is used\n",
    "    osd_method=\"osd0\", #the OSD method. Choose from:  1) \"osd_e\", \"osd_cs\", \"osd0\"\n",
    "    osd_order=7 #the osd search depth\n",
    "    )"
   ]
  },
  {
   "cell_type": "code",
   "execution_count": 17,
   "metadata": {},
   "outputs": [],
   "source": [
    "def undirected_decoder_graph(multi_graph : nx.Graph) -> nx.Graph:\n",
    "    \"\"\" \n",
    "    Takes a multigraph with weighted edges and returns an undirected graph with same vertices and edge weights summed together\n",
    "\n",
    "    Params:\n",
    "    * graph - Input multigraph\n",
    "    \"\"\"\n",
    "    G = nx.Graph\n",
    "    for u, v, data in multi_graph.edges(data=True):\n",
    "        w = data['weight'] if 'weight' in data else 0.0\n",
    "        print(G.has_edge(u,v))\n",
    "        if nx.has_edge(G,u,v):\n",
    "            G[u][v]['weight'] += w \n",
    "        else:\n",
    "            G.add_edge(u,v,weight=w)\n",
    "    return G"
   ]
  },
  {
   "cell_type": "code",
   "execution_count": 21,
   "metadata": {},
   "outputs": [
    {
     "name": "stdout",
     "output_type": "stream",
     "text": [
      "ERROR: [0 0 0 0 0 0 0 1 0 0 0 0 0 0 0 0 1 0 0 0 0 0 0 1 0 0 0 0 0 0 0 0]\n",
      "X SYNDROME: [0 1 0 0 0]\n",
      "Z SYNDROME: [1 0 0 0 0 0]\n",
      "BP_X HARD DECISION: [0 0 0 1 0 0 0 0 0 0 0 0 0 0 0 0]\n",
      "BP_X SOFT DECISOIN: [4.62723456e+00 4.62730516e+00 4.62716395e+00 3.53032674e-05\n",
      " 4.62723456e+00 4.62730516e+00 1.05908725e-04 3.53032674e-05\n",
      " 4.62723456e+00 4.62730516e+00 1.05908725e-04 3.53032674e-05\n",
      " 4.62723456e+00 4.62730516e+00 4.62716395e+00 3.53032674e-05]\n",
      "BP_Z HARD DECISION: [0 0 0 0 0 0 0 0 1 0 0 0 1 0 0 0]\n",
      "BP_Z SOFT DECISION: [ 2.78298221  2.78298221  2.78298221  2.78298221 -0.13925899 -0.13925899\n",
      " -0.13925899 -0.13925899  2.64368792 -0.13925899 -0.13925899  2.64368792\n",
      "  1.84428764  2.78298221  2.78298221  1.84428764]\n",
      "Z Correction Operator: [1 0 0 0 1 0 0 0 0 0 0 0 0 0 0 0]\n",
      "X Correction Operator: [0 0 0 1 0 0 0 0 0 0 0 0 0 0 0 0]\n"
     ]
    }
   ],
   "source": [
    "P = random_pauli(lat.size(), rates)\n",
    "while P == 'I'*lat.size():\n",
    "    # resample if we got an identity error -- note this actually increases the error rate we measure\n",
    "    P = random_pauli(lat.size(), rates)\n",
    "error = pauli2vector(P)\n",
    "print(\"ERROR: \" + str(error))\n",
    "syndromeZ = twisted_product(pcheckX, error) # Syndrome for Z error\n",
    "print(\"X SYNDROME: \" + str(syndromeZ))\n",
    "syndromeX = twisted_product(pcheckZ, error) # Syndrome for X error\n",
    "print(\"Z SYNDROME: \" + str(syndromeX))\n",
    "print(\"BP_X HARD DECISION: \" + str(bpd_X.decode(syndromeX)))\n",
    "bpd_X_soft_decision = bpd_X.log_prob_ratios # Soft decision for X error\n",
    "print(\"BP_X SOFT DECISOIN: \" + str(bpd_X.log_prob_ratios))\n",
    "print(\"BP_Z HARD DECISION: \" + str(bpd_Z.decode(syndromeZ)))\n",
    "bpd_Z_soft_decision = bpd_Z.log_prob_ratios # Soft decision for Z error\n",
    "print(\"BP_Z SOFT DECISION: \" + str(bpd_Z.log_prob_ratios))\n",
    "decoder_graph_X = Matching(Hx, spacelike_weights=bpd_Z_soft_decision)\n",
    "decoder_graph_Z = Matching(Hz, spacelike_weights=bpd_X_soft_decision)\n",
    "c_Z = decoder_graph_X.decode(syndromeZ)\n",
    "c_X = decoder_graph_Z.decode(syndromeX)\n",
    "print(\"Z Correction Operator: \" + str(c_Z))\n",
    "print(\"X Correction Operator: \" + str(c_X))"
   ]
  },
  {
   "cell_type": "code",
   "execution_count": 91,
   "metadata": {},
   "outputs": [
    {
     "name": "stdout",
     "output_type": "stream",
     "text": [
      "ERROR: [0 0 0 1 0 0 0 0 1 0 0 0 0 0 0 0 0 0 0 1 0 0 0 0 0 0 0 0 0 0 0 0]\n",
      "X SYNDROME: [0 0 0 0 1]\n",
      "Z SYNDROME: [1 1 0 0 0]\n",
      "BP_X HARD DECISION: [1 0 0 1 0 0 0 0 0 0 0 0 0 0 0 0]\n",
      "BP_X SOFT DECISOIN: [3.53032674e-05 1.05908725e-04 1.05908725e-04 3.53032674e-05\n",
      " 3.53032674e-05 1.05908725e-04 1.05908725e-04 3.53032674e-05\n",
      " 3.53032674e-05 1.05908725e-04 4.62730516e+00 4.62723456e+00\n",
      " 3.53032674e-05 4.62716395e+00 4.62730516e+00 4.62723456e+00]\n",
      "BP_Z HARD DECISION: [0 0 0 1 0 0 0 0 0 0 0 0 0 0 0 0]\n",
      "BP_Z SOFT DECISION: [ 4.91647422  4.04886113  4.04886113 -0.28920437  4.91647422  4.91647422\n",
      "  4.91647422  3.18124803  4.91647422  4.91647422  4.91647422  4.91647422\n",
      "  4.04886113  4.04886113  4.04886113  4.04886113]\n"
     ]
    }
   ],
   "source": [
    "# # One Round Test\n",
    "\n",
    "# P = random_pauli(lat.size(), rates)\n",
    "# while P == 'I'*lat.size():\n",
    "#     # resample if we got an identity error -- note this actually increases the error rate we measure\n",
    "#     P = random_pauli(lat.size(), rates)\n",
    "# error = pauli2vector(P)\n",
    "# print(\"ERROR: \" + str(error))\n",
    "# syndromeZ = twisted_product(pcheckX, error) # Syndrome for Z error\n",
    "# print(\"X SYNDROME: \" + str(syndromeZ))\n",
    "# syndromeX = twisted_product(pcheckZ, error) # Syndrome for X error\n",
    "# print(\"Z SYNDROME: \" + str(syndromeX))\n",
    "# print(\"BP_X HARD DECISION: \" + str(bpd_X.decode(syndromeX)))\n",
    "# bpd_X_soft_decision = bpd_X.log_prob_ratios # Soft decision for X error\n",
    "# print(\"BP_X SOFT DECISOIN: \" + str(bpd_X.log_prob_ratios))\n",
    "# print(\"BP_Z HARD DECISION: \" + str(bpd_Z.decode(syndromeZ)))\n",
    "# bpd_Z_soft_decision = bpd_Z.log_prob_ratios # Soft decision for Z error\n",
    "# print(\"BP_Z SOFT DECISION: \" + str(bpd_Z.log_prob_ratios))\n",
    "# # Decoder graph for X-type Pauli\n",
    "# decoder_graph_X, color_map_X = construct_decoder_graph_weighted(Hx, bpd_Z_soft_decision, num_rounds=1)\n",
    "# # Decoder graph for Z-type Pauli\n",
    "# decoder_graph_Z, color_map_Z = construct_decoder_graph_weighted(Hz, bpd_X_soft_decision, num_rounds=1)\n",
    "# nx.nx_agraph.write_dot(decoder_graph_X, \"decoder_graph_files/decode_graph_X.dot\")\n",
    "# !neato -T png \"decoder_graph_files/decode_graph_X.dot\" > \"decoder_graph_files/decode_graph_X.png\"\n",
    "# nx.nx_agraph.write_dot(decoder_graph_Z, \"decoder_graph_files/decode_graph_Z.dot\")\n",
    "# !neato -T png \"decoder_graph_files/decode_graph_Z.dot\" > \"decoder_graph_files/decode_graph_Z.png\""
   ]
  },
  {
   "cell_type": "code",
   "execution_count": 102,
   "metadata": {},
   "outputs": [
    {
     "ename": "AttributeError",
     "evalue": "module networkx has no attribute add_nodes_from",
     "output_type": "error",
     "traceback": [
      "\u001b[0;31m---------------------------------------------------------------------------\u001b[0m",
      "\u001b[0;31mAttributeError\u001b[0m                            Traceback (most recent call last)",
      "\u001b[1;32m/home/samyak/Documents/BerkeleyMain/ResearchWork/WhaleyGroup/QuantumHardwareSubgroup/lib/dev_code_cap_simulation_v2.ipynb Cell 22\u001b[0m line \u001b[0;36m1\n\u001b[0;32m----> <a href='vscode-notebook-cell:/home/samyak/Documents/BerkeleyMain/ResearchWork/WhaleyGroup/QuantumHardwareSubgroup/lib/dev_code_cap_simulation_v2.ipynb#X51sZmlsZQ%3D%3D?line=0'>1</a>\u001b[0m decoder_graph_Z_undir \u001b[39m=\u001b[39m undirected_decoder_graph(decoder_graph_Z)\n\u001b[1;32m      <a href='vscode-notebook-cell:/home/samyak/Documents/BerkeleyMain/ResearchWork/WhaleyGroup/QuantumHardwareSubgroup/lib/dev_code_cap_simulation_v2.ipynb#X51sZmlsZQ%3D%3D?line=1'>2</a>\u001b[0m decoder_graph_X_undir \u001b[39m=\u001b[39m undirected_decoder_graph(decoder_graph_X)\n\u001b[1;32m      <a href='vscode-notebook-cell:/home/samyak/Documents/BerkeleyMain/ResearchWork/WhaleyGroup/QuantumHardwareSubgroup/lib/dev_code_cap_simulation_v2.ipynb#X51sZmlsZQ%3D%3D?line=2'>3</a>\u001b[0m \u001b[39m# nx.nx_agraph.write_dot(decoder_graph_X_undir, \"decoder_graph_files/decode_graph_X_undir.dot\")\u001b[39;00m\n\u001b[1;32m      <a href='vscode-notebook-cell:/home/samyak/Documents/BerkeleyMain/ResearchWork/WhaleyGroup/QuantumHardwareSubgroup/lib/dev_code_cap_simulation_v2.ipynb#X51sZmlsZQ%3D%3D?line=3'>4</a>\u001b[0m \u001b[39m# !neato -T png \"decoder_graph_files/decode_graph_X.dot\" > \"decoder_graph_files/decode_graph_X_undir.png\"\u001b[39;00m\n\u001b[1;32m      <a href='vscode-notebook-cell:/home/samyak/Documents/BerkeleyMain/ResearchWork/WhaleyGroup/QuantumHardwareSubgroup/lib/dev_code_cap_simulation_v2.ipynb#X51sZmlsZQ%3D%3D?line=4'>5</a>\u001b[0m \u001b[39m# nx.nx_agraph.write_dot(decoder_graph_Z_undir, \"decoder_graph_files/decode_graph_Z_undir.dot\")\u001b[39;00m\n\u001b[1;32m      <a href='vscode-notebook-cell:/home/samyak/Documents/BerkeleyMain/ResearchWork/WhaleyGroup/QuantumHardwareSubgroup/lib/dev_code_cap_simulation_v2.ipynb#X51sZmlsZQ%3D%3D?line=5'>6</a>\u001b[0m \u001b[39m# !neato -T png \"decoder_graph_files/decode_graph_Z.dot\" > \"decoder_graph_files/decode_graph_Z_undir.png\"\u001b[39;00m\n\u001b[1;32m      <a href='vscode-notebook-cell:/home/samyak/Documents/BerkeleyMain/ResearchWork/WhaleyGroup/QuantumHardwareSubgroup/lib/dev_code_cap_simulation_v2.ipynb#X51sZmlsZQ%3D%3D?line=6'>7</a>\u001b[0m \u001b[39m# X_matching = nx.min_weight_matching(decoder_graph_X_undir)\u001b[39;00m\n\u001b[1;32m      <a href='vscode-notebook-cell:/home/samyak/Documents/BerkeleyMain/ResearchWork/WhaleyGroup/QuantumHardwareSubgroup/lib/dev_code_cap_simulation_v2.ipynb#X51sZmlsZQ%3D%3D?line=7'>8</a>\u001b[0m \u001b[39m# Z_matching = nx.min_weight_matching(decoder_graph_Z_undir)\u001b[39;00m\n",
      "\u001b[1;32m/home/samyak/Documents/BerkeleyMain/ResearchWork/WhaleyGroup/QuantumHardwareSubgroup/lib/dev_code_cap_simulation_v2.ipynb Cell 22\u001b[0m line \u001b[0;36m9\n\u001b[1;32m      <a href='vscode-notebook-cell:/home/samyak/Documents/BerkeleyMain/ResearchWork/WhaleyGroup/QuantumHardwareSubgroup/lib/dev_code_cap_simulation_v2.ipynb#X51sZmlsZQ%3D%3D?line=1'>2</a>\u001b[0m \u001b[39m\u001b[39m\u001b[39m\"\"\" \u001b[39;00m\n\u001b[1;32m      <a href='vscode-notebook-cell:/home/samyak/Documents/BerkeleyMain/ResearchWork/WhaleyGroup/QuantumHardwareSubgroup/lib/dev_code_cap_simulation_v2.ipynb#X51sZmlsZQ%3D%3D?line=2'>3</a>\u001b[0m \u001b[39mTakes a multigraph with weighted edges and returns an undirected graph with same vertices and edge weights summed together\u001b[39;00m\n\u001b[1;32m      <a href='vscode-notebook-cell:/home/samyak/Documents/BerkeleyMain/ResearchWork/WhaleyGroup/QuantumHardwareSubgroup/lib/dev_code_cap_simulation_v2.ipynb#X51sZmlsZQ%3D%3D?line=3'>4</a>\u001b[0m \n\u001b[1;32m      <a href='vscode-notebook-cell:/home/samyak/Documents/BerkeleyMain/ResearchWork/WhaleyGroup/QuantumHardwareSubgroup/lib/dev_code_cap_simulation_v2.ipynb#X51sZmlsZQ%3D%3D?line=4'>5</a>\u001b[0m \u001b[39mParams:\u001b[39;00m\n\u001b[1;32m      <a href='vscode-notebook-cell:/home/samyak/Documents/BerkeleyMain/ResearchWork/WhaleyGroup/QuantumHardwareSubgroup/lib/dev_code_cap_simulation_v2.ipynb#X51sZmlsZQ%3D%3D?line=5'>6</a>\u001b[0m \u001b[39m* graph - Input multigraph\u001b[39;00m\n\u001b[1;32m      <a href='vscode-notebook-cell:/home/samyak/Documents/BerkeleyMain/ResearchWork/WhaleyGroup/QuantumHardwareSubgroup/lib/dev_code_cap_simulation_v2.ipynb#X51sZmlsZQ%3D%3D?line=6'>7</a>\u001b[0m \u001b[39m\"\"\"\u001b[39;00m\n\u001b[1;32m      <a href='vscode-notebook-cell:/home/samyak/Documents/BerkeleyMain/ResearchWork/WhaleyGroup/QuantumHardwareSubgroup/lib/dev_code_cap_simulation_v2.ipynb#X51sZmlsZQ%3D%3D?line=7'>8</a>\u001b[0m G \u001b[39m=\u001b[39m nx\u001b[39m.\u001b[39mGraph\n\u001b[0;32m----> <a href='vscode-notebook-cell:/home/samyak/Documents/BerkeleyMain/ResearchWork/WhaleyGroup/QuantumHardwareSubgroup/lib/dev_code_cap_simulation_v2.ipynb#X51sZmlsZQ%3D%3D?line=8'>9</a>\u001b[0m nx\u001b[39m.\u001b[39;49madd_nodes_from(G, multi_graph\u001b[39m.\u001b[39mnodes)\n\u001b[1;32m     <a href='vscode-notebook-cell:/home/samyak/Documents/BerkeleyMain/ResearchWork/WhaleyGroup/QuantumHardwareSubgroup/lib/dev_code_cap_simulation_v2.ipynb#X51sZmlsZQ%3D%3D?line=9'>10</a>\u001b[0m \u001b[39mfor\u001b[39;00m u, v, data \u001b[39min\u001b[39;00m multi_graph\u001b[39m.\u001b[39medges(data\u001b[39m=\u001b[39m\u001b[39mTrue\u001b[39;00m):\n\u001b[1;32m     <a href='vscode-notebook-cell:/home/samyak/Documents/BerkeleyMain/ResearchWork/WhaleyGroup/QuantumHardwareSubgroup/lib/dev_code_cap_simulation_v2.ipynb#X51sZmlsZQ%3D%3D?line=10'>11</a>\u001b[0m     w \u001b[39m=\u001b[39m data[\u001b[39m'\u001b[39m\u001b[39mweight\u001b[39m\u001b[39m'\u001b[39m] \u001b[39mif\u001b[39;00m \u001b[39m'\u001b[39m\u001b[39mweight\u001b[39m\u001b[39m'\u001b[39m \u001b[39min\u001b[39;00m data \u001b[39melse\u001b[39;00m \u001b[39m0.0\u001b[39m\n",
      "File \u001b[0;32m~/miniconda3/envs/qcenv/lib/python3.9/site-packages/networkx/__init__.py:51\u001b[0m, in \u001b[0;36m__getattr__\u001b[0;34m(name)\u001b[0m\n\u001b[1;32m     42\u001b[0m \u001b[39mif\u001b[39;00m name \u001b[39m==\u001b[39m \u001b[39m\"\u001b[39m\u001b[39mwrite_yaml\u001b[39m\u001b[39m\"\u001b[39m:\n\u001b[1;32m     43\u001b[0m     \u001b[39mraise\u001b[39;00m \u001b[39mImportError\u001b[39;00m(\n\u001b[1;32m     44\u001b[0m         \u001b[39m\"\u001b[39m\u001b[39m\\n\u001b[39;00m\u001b[39mwrite_yaml has been removed from NetworkX, please use `yaml`\u001b[39m\u001b[39m\\n\u001b[39;00m\u001b[39m\"\u001b[39m\n\u001b[1;32m     45\u001b[0m         \u001b[39m\"\u001b[39m\u001b[39mdirectly:\u001b[39m\u001b[39m\\n\u001b[39;00m\u001b[39m\\n\u001b[39;00m\u001b[39m\"\u001b[39m\n\u001b[0;32m   (...)\u001b[0m\n\u001b[1;32m     49\u001b[0m         \u001b[39m\"\u001b[39m\u001b[39mThis message will be removed in NetworkX 3.0.\u001b[39m\u001b[39m\"\u001b[39m\n\u001b[1;32m     50\u001b[0m     )\n\u001b[0;32m---> 51\u001b[0m \u001b[39mraise\u001b[39;00m \u001b[39mAttributeError\u001b[39;00m(\u001b[39mf\u001b[39m\u001b[39m\"\u001b[39m\u001b[39mmodule \u001b[39m\u001b[39m{\u001b[39;00m\u001b[39m__name__\u001b[39m\u001b[39m}\u001b[39;00m\u001b[39m has no attribute \u001b[39m\u001b[39m{\u001b[39;00mname\u001b[39m}\u001b[39;00m\u001b[39m\"\u001b[39m)\n",
      "\u001b[0;31mAttributeError\u001b[0m: module networkx has no attribute add_nodes_from"
     ]
    }
   ],
   "source": [
    "decoder_graph_Z_undir = undirected_decoder_graph(decoder_graph_Z)\n",
    "decoder_graph_X_undir = undirected_decoder_graph(decoder_graph_X)\n",
    "# nx.nx_agraph.write_dot(decoder_graph_X_undir, \"decoder_graph_files/decode_graph_X_undir.dot\")\n",
    "# !neato -T png \"decoder_graph_files/decode_graph_X.dot\" > \"decoder_graph_files/decode_graph_X_undir.png\"\n",
    "# nx.nx_agraph.write_dot(decoder_graph_Z_undir, \"decoder_graph_files/decode_graph_Z_undir.dot\")\n",
    "# !neato -T png \"decoder_graph_files/decode_graph_Z.dot\" > \"decoder_graph_files/decode_graph_Z_undir.png\"\n",
    "# X_matching = nx.min_weight_matching(decoder_graph_X_undir)\n",
    "# Z_matching = nx.min_weight_matching(decoder_graph_Z_undir)\n"
   ]
  },
  {
   "cell_type": "code",
   "execution_count": 70,
   "metadata": {},
   "outputs": [
    {
     "data": {
      "text/plain": [
       "{('0,0', '2,0'), ('B,0', '1,0')}"
      ]
     },
     "execution_count": 70,
     "metadata": {},
     "output_type": "execute_result"
    }
   ],
   "source": [
    "X_matching"
   ]
  },
  {
   "cell_type": "code",
   "execution_count": 71,
   "metadata": {},
   "outputs": [
    {
     "data": {
      "text/plain": [
       "{('0,0', '3,0'), ('2,0', '4,0'), ('B,0', '1,0')}"
      ]
     },
     "execution_count": 71,
     "metadata": {},
     "output_type": "execute_result"
    }
   ],
   "source": [
    "Z_matching"
   ]
  },
  {
   "cell_type": "code",
   "execution_count": 22,
   "metadata": {},
   "outputs": [
    {
     "name": "stderr",
     "output_type": "stream",
     "text": [
      "  0%|          | 0/2000 [00:00<?, ?it/s]"
     ]
    },
    {
     "name": "stderr",
     "output_type": "stream",
     "text": [
      "\n"
     ]
    },
    {
     "ename": "ValueError",
     "evalue": "The input to the ldpc.bp_decoder.decode must be a syndrome (of length=6). The inputted vector has length=5. Valid formats are `np.ndarray` or `scipy.sparse.spmatrix`.",
     "output_type": "error",
     "traceback": [
      "\u001b[0;31m---------------------------------------------------------------------------\u001b[0m",
      "\u001b[0;31mValueError\u001b[0m                                Traceback (most recent call last)",
      "\u001b[1;32m/home/samyak/Documents/BerkeleyMain/ResearchWork/WhaleyGroup/QuantumHardwareSubgroup/lib/dev_code_cap_simulation_v2.ipynb Cell 26\u001b[0m line \u001b[0;36m1\n\u001b[1;32m     <a href='vscode-notebook-cell:/home/samyak/Documents/BerkeleyMain/ResearchWork/WhaleyGroup/QuantumHardwareSubgroup/lib/dev_code_cap_simulation_v2.ipynb#X33sZmlsZQ%3D%3D?line=14'>15</a>\u001b[0m syndromeZ \u001b[39m=\u001b[39m twisted_product(pcheckX, error) \u001b[39m# Syndrome for Z errors\u001b[39;00m\n\u001b[1;32m     <a href='vscode-notebook-cell:/home/samyak/Documents/BerkeleyMain/ResearchWork/WhaleyGroup/QuantumHardwareSubgroup/lib/dev_code_cap_simulation_v2.ipynb#X33sZmlsZQ%3D%3D?line=15'>16</a>\u001b[0m syndromeX \u001b[39m=\u001b[39m twisted_product(pcheckZ, error) \u001b[39m# Syndrome for X errors\u001b[39;00m\n\u001b[0;32m---> <a href='vscode-notebook-cell:/home/samyak/Documents/BerkeleyMain/ResearchWork/WhaleyGroup/QuantumHardwareSubgroup/lib/dev_code_cap_simulation_v2.ipynb#X33sZmlsZQ%3D%3D?line=16'>17</a>\u001b[0m bpd_X\u001b[39m.\u001b[39;49mdecode(syndromeZ)\n\u001b[1;32m     <a href='vscode-notebook-cell:/home/samyak/Documents/BerkeleyMain/ResearchWork/WhaleyGroup/QuantumHardwareSubgroup/lib/dev_code_cap_simulation_v2.ipynb#X33sZmlsZQ%3D%3D?line=17'>18</a>\u001b[0m bpd_X_soft_decision \u001b[39m=\u001b[39m bpd_X\u001b[39m.\u001b[39mlog_prob_ratios\n\u001b[1;32m     <a href='vscode-notebook-cell:/home/samyak/Documents/BerkeleyMain/ResearchWork/WhaleyGroup/QuantumHardwareSubgroup/lib/dev_code_cap_simulation_v2.ipynb#X33sZmlsZQ%3D%3D?line=18'>19</a>\u001b[0m bpd_Z\u001b[39m.\u001b[39mdecode(syndromeX)\n",
      "File \u001b[0;32msrc/ldpc/osd.pyx:157\u001b[0m, in \u001b[0;36mldpc.osd.bposd_decoder.decode\u001b[0;34m()\u001b[0m\n",
      "File \u001b[0;32msrc/ldpc/osd.pyx:188\u001b[0m, in \u001b[0;36mldpc.osd.bposd_decoder.decode\u001b[0;34m()\u001b[0m\n",
      "\u001b[0;31mValueError\u001b[0m: The input to the ldpc.bp_decoder.decode must be a syndrome (of length=6). The inputted vector has length=5. Valid formats are `np.ndarray` or `scipy.sparse.spmatrix`."
     ]
    }
   ],
   "source": [
    "num_rounds = 2000\n",
    "\n",
    "codespace_projection = [0]*num_rounds\n",
    "logical_errors = [0]*num_rounds\n",
    "uncorrected_logical_error_rate = [0]*num_rounds\n",
    "count = 0\n",
    "tot_time = 0\n",
    "for r in tqdm(range(num_rounds)):\n",
    "    start_time = time.time()\n",
    "    P = random_pauli(lat.size(), rates)\n",
    "    while P == 'I'*lat.size():\n",
    "        # resample if we got an identity error -- note this actually increases the error rate we measure\n",
    "        P = random_pauli(lat.size(), rates)\n",
    "    error = pauli2vector(P)\n",
    "    syndromeZ = twisted_product(pcheckX, error) # Syndrome for Z errors\n",
    "    syndromeX = twisted_product(pcheckZ, error) # Syndrome for X errors\n",
    "    bpd_X.decode(syndromeZ)\n",
    "    bpd_X_soft_decision = bpd_X.log_prob_ratios\n",
    "    bpd_Z.decode(syndromeX)\n",
    "    bpd_Z_soft_decision = bpd_Z.log_prob_ratios\n",
    "    decoder_graph_X = Matching(Hx, spacelike_weights=bpd_Z_soft_decision)\n",
    "    decoder_graph_Z = Matching(Hz, spacelike_weights=bpd_X_soft_decision)\n",
    "    c_Z = decoder_graph_X.decode(syndromeZ)\n",
    "    c_X = decoder_graph_Z.decode(syndromeX)\n",
    "    recovery = np.concatenate((c_Z, c_X))\n",
    "\n",
    "    corrected_error = pauli2vector(P) + recovery % 2\n",
    "    if sum(twisted_product(pcheck, corrected_error)) > 0:\n",
    "        codespace_projection[r] = 1\n",
    "    if (twisted_product(pauli2vector(lat.Lx), corrected_error) == 1) or (twisted_product(pauli2vector(lat.Lz), corrected_error) == 1):\n",
    "        logical_errors[r] = 1\n",
    "    if (twisted_product(pauli2vector(lat.Lx), error) == 1) or (twisted_product(pauli2vector(lat.Lz), error) == 1):\n",
    "        uncorrected_logical_error_rate[r] = 1\n",
    "\n",
    "    end_time = time.time()\n",
    "    tot_time += end_time - start_time"
   ]
  },
  {
   "cell_type": "code",
   "execution_count": 53,
   "metadata": {},
   "outputs": [
    {
     "name": "stdout",
     "output_type": "stream",
     "text": [
      "number of codespace projection failures 0\n",
      "logical error rate 0.0205\n",
      "uncorrected error rate 0.156\n",
      "physical error rate 0.03\n",
      "average time per round 7.651567459106445e-05\n"
     ]
    }
   ],
   "source": [
    "print('number of codespace projection failures', sum(codespace_projection))\n",
    "print('logical error rate', sum(logical_errors)/len(logical_errors))\n",
    "print('uncorrected error rate', sum(uncorrected_logical_error_rate)/len(uncorrected_logical_error_rate))\n",
    "print('physical error rate', sum(rates))\n",
    "print('average time per round', tot_time/num_rounds)"
   ]
  },
  {
   "cell_type": "code",
   "execution_count": null,
   "metadata": {},
   "outputs": [],
   "source": []
  }
 ],
 "metadata": {
  "kernelspec": {
   "display_name": "qcenv",
   "language": "python",
   "name": "python3"
  },
  "language_info": {
   "codemirror_mode": {
    "name": "ipython",
    "version": 3
   },
   "file_extension": ".py",
   "mimetype": "text/x-python",
   "name": "python",
   "nbconvert_exporter": "python",
   "pygments_lexer": "ipython3",
   "version": "3.9.16"
  },
  "orig_nbformat": 4
 },
 "nbformat": 4,
 "nbformat_minor": 2
}
