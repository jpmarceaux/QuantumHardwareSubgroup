{
 "cells": [
  {
   "cell_type": "code",
   "execution_count": 35,
   "id": "5f10d0c8-103d-46cb-8d90-f304c282a67c",
   "metadata": {},
   "outputs": [],
   "source": [
    "import numpy as np\n",
    "import matplotlib.pyplot as plt\n",
    "import stim\n",
    "from lib.stabilizer import measurement_gadgets, StabilizerCode, stabilizer_circuits\n",
    "from lib.decoder import checkmatrix,pL_from_checkmatrix\n",
    "from lib.stim2pymatching import estimate_pL_noisy_graph\n",
    "from lib.color_compass import bacon_shor_group, bsgauge_group, pauli2vector, pauli_weight, twisted_product\n",
    "from termcolor import colored\n",
    "\n",
    "import stimcirq\n",
    "from cirq.contrib.svg import SVGCircuit\n",
    "\n",
    "from tqdm import tqdm\n",
    "\n",
    "import pymatching"
   ]
  },
  {
   "cell_type": "code",
   "execution_count": 83,
   "id": "5172341b-512b-47fb-b9f7-d51515068740",
   "metadata": {},
   "outputs": [],
   "source": [
    "class Lattice2D():\n",
    "    \"\"\"\n",
    "    convention: \n",
    "    X coords extend vertically |\n",
    "    Z coords extend horizontally --\n",
    "    store the coloring as a list with values in {-1, 0, 1}\n",
    "    \n",
    "    Red  ~ -1 ~ Z-type cuts\n",
    "    Blue ~ +1 ~ X-type cuts\n",
    "    White ~ 0\n",
    "    \n",
    "    preallocate logical X and L as cuts accross the lattice\n",
    "    \"\"\"\n",
    "    def __init__(self, dimX, dimZ):\n",
    "        self.dimX = dimX\n",
    "        self.dimZ = dimZ\n",
    "        self.colors = [0] * (dimX-1)*(dimZ-1)\n",
    "        self.stabs = bacon_shor_group(dimX, dimZ)\n",
    "        self.gauge = bsgauge_group(dimX, dimZ)\n",
    "        self.Lx = ''.join(['X']*dimX+['_']*dimX*(dimZ-1))\n",
    "        self.Lz = ''.join((['Z']+['_']*(dimX-1))*dimZ)\n",
    "        self.logicals = [self.Lx,self.Lz]\n",
    "        \n",
    "    def size(self):\n",
    "        return self.dimX*self.dimZ\n",
    "        \n",
    "    def __str__(self):\n",
    "        vertex_rows = []\n",
    "        face_rows = []\n",
    "        dimX = self.dimX\n",
    "        dimZ = self.dimZ\n",
    "        for i in range(dimX):\n",
    "            vertex_string = ''\n",
    "            for j in range(dimZ):\n",
    "                vertex_string += str(i*dimZ + j).zfill(3)\n",
    "                if (j != dimZ-1):\n",
    "                    vertex_string += '---'\n",
    "            vertex_rows.append(vertex_string)\n",
    "                \n",
    "        for i in range(dimX-1):\n",
    "            face_string = ''\n",
    "            for j in range(dimZ-1):\n",
    "                if(self.colors[i*(dimZ-1) + j] == -1):\n",
    "                    face_string += ' | '+colored(' # ', 'red')\n",
    "                elif(self.colors[i*(dimZ-1) + j] == +1):\n",
    "                    face_string += ' | '+colored(' # ', 'blue')\n",
    "                elif(self.colors[i*(dimZ-1) + j] == 0):\n",
    "                    face_string += ' |    '\n",
    "                else:\n",
    "                    raise ValueError(f'Invalid color type {self.colors[i*dimZ+j]}')\n",
    "                if j == dimZ-2:\n",
    "                    face_string += ' |'\n",
    "            face_rows.append(face_string)\n",
    "        sout = ''\n",
    "        for idx, row in enumerate(vertex_rows):\n",
    "            sout += row +'\\n'\n",
    "            if idx != len(vertex_rows)-1:\n",
    "                sout += face_rows[idx]+'\\n'\n",
    "        return sout\n",
    "    \n",
    "    def size(self):\n",
    "        return self.dimX*self.dimZ\n",
    "    \n",
    "    def getG(self):\n",
    "        return self.gauge[0]+self.gauge[1]\n",
    "    \n",
    "    def getGx(self):\n",
    "        return self.gauge[0]\n",
    "    \n",
    "    def getGz(self):\n",
    "        return self.gauge[1]\n",
    "    \n",
    "    def getS(self):\n",
    "        return self.stabs[0]+self.stabs[1]\n",
    "    \n",
    "    def getSx(self):\n",
    "        return self.stabs[0]\n",
    "    \n",
    "    def getSz(self):\n",
    "        return self.stabs[1]\n",
    "    \n",
    "    def getDims(self):\n",
    "        return (self.dimX, self.dimZ)\n",
    "    \n",
    "    def max_stab_number(self):\n",
    "        return self.dimX*self.dimZ - 1\n",
    "    \n",
    "    def pcheckZ(self):\n",
    "        \"\"\"returns the Z parity check matrix\"\"\"\n",
    "        return np.vstack([pauli2vector(s) for s in self.getSz()])\n",
    "        \n",
    "    def pcheckX(self):\n",
    "        \"\"\"returns the X parity check matrix\"\"\"\n",
    "        return np.vstack([pauli2vector(s) for s in self.getSx()])\n",
    "    \n",
    "    def display(self, pauli):\n",
    "        dimX = self.dimX\n",
    "        dimZ = self.dimZ\n",
    "        if (len(pauli) != dimX*dimZ):\n",
    "            raise ValueError(\"Pauli string dimension mismatch with lattice size\")\n",
    "        sout = ''\n",
    "        slist = list(pauli)\n",
    "        for i in range(dimX):\n",
    "            for j in range(dimZ):\n",
    "                if slist[i*dimZ+j] == 'X':\n",
    "                    sout += ' X '\n",
    "                elif slist[i*dimZ+j] == 'Z':\n",
    "                    sout += ' Z '\n",
    "                else:\n",
    "                    sout += '   '\n",
    "                if (j != dimZ-1):\n",
    "                    sout += '---'\n",
    "            if (i != dimX -1):\n",
    "                sout += '\\n'\n",
    "                sout += ' |    '*dimZ\n",
    "            sout += '\\n'\n",
    "        print(sout)\n",
    "        \n",
    "    def color_lattice(self, colors):\n",
    "        \"\"\"\n",
    "        replace color state with input and recalculate stab and gauge groups \n",
    "        \"\"\"\n",
    "        dimX = self.dimX-1\n",
    "        dimZ = self.dimZ-1\n",
    "        if(len(colors) != dimX*dimZ):\n",
    "            raise ValueError(\"Color dimension mismatch with lattice size\")\n",
    "        \n",
    "        self.stabs = bacon_shor_group(self.dimX, self.dimZ)\n",
    "        self.gauge = bsgauge_group(self.dimX, self.dimZ)\n",
    "        self.colors = colors\n",
    "        \n",
    "        \n",
    "        for cidx, c in enumerate(colors):\n",
    "            if c == -1:\n",
    "                self.update_groups((int(np.floor(cidx/dimZ)), cidx%dimZ), -1)\n",
    "            elif c == +1:\n",
    "                self.update_groups((int(np.floor(cidx/dimZ)), cidx%dimZ), +1)\n",
    "        \n",
    "        \n",
    "    def update_groups(self, coords, cut_type):\n",
    "        \"\"\"\n",
    "        cut the stabilizer group by coloring the face with the given type\n",
    "            AND\n",
    "        update the gauge group \n",
    "    \n",
    "        algo: \n",
    "        [0] pick the gauge operator g to cut around\n",
    "        [1] find s \\in S that has weight-2 overlap with g\n",
    "        [2] divide that s \n",
    "        [3] update the gauge group \n",
    "        \"\"\"\n",
    "        (i, j) = coords\n",
    "        dimX = self.dimX\n",
    "        dimZ = self.dimZ\n",
    "        [Sx, Sz] = self.getSx(), self.getSz()\n",
    "        [Gx, Gz] = self.getGx(), self.getGz()\n",
    "        \n",
    "        if cut_type == -1:\n",
    "            # -1 = red which is a Z-cut\n",
    "            g = ['_'] * dimX*dimZ\n",
    "            g[i*dimZ + j] = 'Z'\n",
    "            g[i*dimZ + j + 1] = 'Z'\n",
    "            \n",
    "            gvec = pauli2vector(''.join(g))\n",
    "            \n",
    "            # cut the relevant stabilizer\n",
    "            for idx, s in enumerate(Sz):\n",
    "                # find the overlapping stabilizer\n",
    "                if pauli_weight(np.bitwise_xor(gvec, pauli2vector(s))) == pauli_weight(s) - 2:\n",
    "                    # cut s into two vertical parts \n",
    "                    s1 = ['_'] * dimX*dimZ\n",
    "                    s2 = ['_'] * dimX*dimZ\n",
    "                    for k in range(0, i+1):\n",
    "                        s1[k*dimZ + j] = s[k*dimZ + j]\n",
    "                        s1[k*dimZ + j+1] = s[k*dimZ + j+1]\n",
    "                    for k in range(i+1, dimX):\n",
    "                        s2[k*dimZ + j] = s[k*dimZ + j]\n",
    "                        s2[k*dimZ + j+1] = s[k*dimZ + j+1]\n",
    "                    del Sz[idx]\n",
    "                    Sz.append(''.join(s1))\n",
    "                    Sz.append(''.join(s2))\n",
    "                    break\n",
    "            \n",
    "            # make new gauge operator and update gauge group \n",
    "            gauge = ['_'] * dimX*dimZ\n",
    "            for k in range(0, j+1):\n",
    "                gauge[k + i*dimZ] = 'Z'\n",
    "                gauge[k + i*dimZ + 1] = 'Z'\n",
    "            Gx_new = []\n",
    "            for g in Gx:\n",
    "                if twisted_product(pauli2vector(''.join(g)), pauli2vector(''.join(gauge))) == 0:\n",
    "                    Gx_new.append(g)\n",
    "            Gx = Gx_new\n",
    "                \n",
    "        elif cut_type == +1:\n",
    "            # +1 = blue that is a X-cut:\n",
    "            g = ['_'] * dimX*dimZ\n",
    "            g[i*dimZ + j] = 'X'\n",
    "            g[(i+1)*dimZ + j ] = 'X'\n",
    "            \n",
    "            gvec = pauli2vector(''.join(g))\n",
    "            \n",
    "            # cut the relevant stabilizer\n",
    "            for idx, s in enumerate(Sx):\n",
    "                # find the overlapping stabilizer\n",
    "                if pauli_weight(np.bitwise_xor(gvec, pauli2vector(s))) == pauli_weight(s) - 2:\n",
    "                    # cut s into two horizontal parts \n",
    "                    s1 = ['_'] * dimX*dimZ\n",
    "                    s2 = ['_'] * dimX*dimZ\n",
    "                    for k in range(0, j+1):\n",
    "                        s1[i*dimZ + k] = s[i*dimZ + k]\n",
    "                        s1[(i+1)*dimZ + k] = s[(i+1)*dimZ + k]\n",
    "                    for k in range(j+1, dimZ):\n",
    "                        s2[i*dimZ + k] = s[i*dimZ + k]\n",
    "                        s2[(i+1)*dimZ + k] = s[(i+1)*dimZ + k]\n",
    "                    del Sx[idx]\n",
    "                    Sx.append(''.join(s1))\n",
    "                    Sx.append(''.join(s2))\n",
    "                    break\n",
    "            \n",
    "            # make new gauge operator and update gauge group \n",
    "            gauge = ['_'] * dimX*dimZ\n",
    "            for k in range(0, j+1):\n",
    "                gauge[k + i*dimZ] = 'X'\n",
    "                gauge[k + (i+1)*dimZ] = 'X'\n",
    "            Gz_new = []\n",
    "            for g in Gz:\n",
    "                if twisted_product(pauli2vector(''.join(g)), pauli2vector(''.join(gauge))) == 0:\n",
    "                    Gz_new.append(g)\n",
    "            Gz = Gz_new\n",
    "\n",
    "        # update the groups\n",
    "        self.stabs = [Sx, Sz]\n",
    "        self.gauge = [Gx, Gz]\n",
    "        \n",
    "    def error_is_corrected(self, syn, l_1, l_2, l_op):\n",
    "        #syn is a vector of syndrome measurements, which has the Sx syndrome bits first\n",
    "        #l_1, l_2 are booleans corresponding to the logical operator measurement\n",
    "        #l_op is the logical operator we're measuring, written as a stim Pauli string\n",
    "\n",
    "        #also need to know the stabilizers to feed into the decoder\n",
    "\n",
    "        #check parity of l_1, l_2. If they are the same: no logical error\n",
    "        #If they are different: logical error\n",
    "        logical_error = ((l_1+l_2) % 2 == 0)\n",
    "\n",
    "        #syndrome measurement gives a syndrome s. Feed into decoder to get a correction operator c\n",
    "        #set up decoder\n",
    "        Sx = lat.getSx()\n",
    "        Sz = lat.getSz()\n",
    "        Hx = np.array([[1 if i != '_' else 0 for i in s] for s in Sx])\n",
    "        Hz = np.array([[1 if i != '_' else 0 for i in s] for s in Sz])\n",
    "        Mx = Matching(Hx)\n",
    "        Mz = Matching(Hz)\n",
    "\n",
    "        #obtain correction operator\n",
    "        cx = Mx.decode(syn[:len(Sx)])\n",
    "        cz = Mz.decode(syn[len(Sx):])\n",
    "        Rx = stim.PauliString(''.join(['X' if i == 1 else '_' for i in cx]))\n",
    "        Rz = stim.PauliString(''.join(['Z' if i == 1 else '_' for i in cz]))\n",
    "\n",
    "        correction_op = Rx*Rz\n",
    "\n",
    "\n",
    "\n",
    "        #check [c, l]\n",
    "            #If l_1 = l_2 and [c, l_op] = 0, then the error has been properly corrected\n",
    "            #in that c keeps the proper eigenstate\n",
    "            #If l_1 = l_2 and [c, l_op] \\neq 0, then the decoder takes the state out of the correct eigenstate\n",
    "            #If l_1 \\neq l_2 and [c,l_op] = 0, then the decoder fails to correct the error\n",
    "            #If l_1 \\neq l_2 and [c, l_op] \\neq 0, then the decoder properly corrects the error\n",
    "        is_corrected = (correction_op.commutes(l_op) != logical_error)\n",
    "\n",
    "        return is_corrected\n",
    "\n",
    "\n",
    "def make_checkboard_coloring(dimX,dimZ,start='X'):\n",
    "    if start == 'X':\n",
    "        first_two_cells = [1,-1]\n",
    "    elif start == 'Z':\n",
    "        first_two_cells = [-1,1]\n",
    "    first_row = (first_two_cells*int(np.ceil(dimZ/2)))\n",
    "    first_two_rows = first_row[:dimZ-1] + first_row[1:dimZ]\n",
    "    whole_lattice = first_two_rows*int(np.ceil(dimX/2))\n",
    "    whole_lattice = whole_lattice[:(dimZ-1)*(dimX-1)]\n",
    "    lat = Lattice2D(dimX, dimZ)\n",
    "    lat.color_lattice(whole_lattice)\n",
    "    return lat"
   ]
  },
  {
   "cell_type": "code",
   "execution_count": 84,
   "id": "0360db56-21b6-4824-a70b-684c401f7969",
   "metadata": {},
   "outputs": [],
   "source": [
    "\"\"\"pick the compass code\"\"\"\n",
    "dim = 4\n",
    "lat = Lattice2D(dim, dim)\n",
    "\n",
    "coloring = np.random.randint(-1, 2, size=(dim-1)**2)\n",
    "lat.color_lattice(coloring)"
   ]
  },
  {
   "cell_type": "code",
   "execution_count": 85,
   "id": "3075619a-610b-451a-b62b-4aee71fa2c16",
   "metadata": {},
   "outputs": [
    {
     "name": "stdout",
     "output_type": "stream",
     "text": [
      "000---001---002---003\n",
      " | \u001b[31m # \u001b[0m | \u001b[34m # \u001b[0m |     |\n",
      "004---005---006---007\n",
      " | \u001b[31m # \u001b[0m | \u001b[31m # \u001b[0m | \u001b[34m # \u001b[0m |\n",
      "008---009---010---011\n",
      " | \u001b[31m # \u001b[0m | \u001b[31m # \u001b[0m | \u001b[31m # \u001b[0m |\n",
      "012---013---014---015\n",
      "\n"
     ]
    }
   ],
   "source": [
    "print(lat)"
   ]
  },
  {
   "cell_type": "code",
   "execution_count": 86,
   "id": "f1050fb5-a84e-4619-a1f7-89067150c569",
   "metadata": {},
   "outputs": [],
   "source": [
    "\"\"\"Construct the parity check matrices\"\"\"\n",
    "pcheckX = lat.pcheckX()\n",
    "pcheckZ = lat.pcheckZ()\n",
    "\n",
    "pcheck = np.vstack([pcheckX, pcheckZ])"
   ]
  },
  {
   "cell_type": "code",
   "execution_count": 87,
   "id": "9ac1587a-f8a4-4384-a646-b6770cf5ab17",
   "metadata": {},
   "outputs": [
    {
     "name": "stdout",
     "output_type": "stream",
     "text": [
      "________________\n"
     ]
    }
   ],
   "source": [
    "\"\"\"Sample a random Pauli error\n",
    "    for now, I'll assume biased, symmetric, uncorrelated Pauli channel\n",
    "\"\"\"\n",
    "import random\n",
    "\n",
    "def random_pauli(num_qubits : int, rates : list):\n",
    "    assert rates[0] + rates[1] + rates[2] <= 1, \"Error rate must not exceed 1\"\"\"\n",
    "    paulis = []\n",
    "    for i in range(num_qubits):\n",
    "        x = random.uniform(0, 1)\n",
    "        if x <= rates[0]: \n",
    "            paulis.append('X')\n",
    "        elif x <= rates[0] + rates[1]:\n",
    "            paulis.append('Y')\n",
    "        elif x <= rates[0] + rates[1] + rates[2]:\n",
    "            paulis.append('Z')\n",
    "        else:\n",
    "            paulis.append('_')\n",
    "    return ''.join(paulis)\n",
    "\n",
    "P = random_pauli(lat.size(), [0.01, 0.01, 0.04])\n",
    "print(P)"
   ]
  },
  {
   "cell_type": "code",
   "execution_count": 88,
   "id": "9b6021be-5689-4977-9e5c-b15aef13d87d",
   "metadata": {},
   "outputs": [
    {
     "name": "stdout",
     "output_type": "stream",
     "text": [
      "[0 0 0 0 0] [0 0 0 0 0 0 0 0 0]\n"
     ]
    }
   ],
   "source": [
    "\"\"\"get the syndrome of the pauli operator \"\"\"\n",
    "\n",
    "def twisted_product(stab_binary, pauli_binary):\n",
    "    \"\"\"\n",
    "    take twisted product of stabilizer with pauli to calculate commutator \n",
    "    \"\"\"\n",
    "    \n",
    "    if len(stab_binary.shape) == 1:\n",
    "        # if we have only 1 stabilizer\n",
    "        L = int(len(stab_binary)/2)\n",
    "        return (stab_binary[:L]@pauli_binary[L:] + stab_binary[L:]@pauli_binary[:L]) % 2\n",
    "    else:\n",
    "        # if we have a parity check \n",
    "        L = int(stab_binary.shape[1]/2)\n",
    "        assert stab_binary.shape[1] == len(pauli_binary)\n",
    "        syndrome = []\n",
    "        for i in range(stab_binary.shape[0]):\n",
    "            syndrome.append((stab_binary[i, :L]@pauli_binary[L:] + stab_binary[i, L:]@pauli_binary[:L]) % 2)\n",
    "        return np.array(syndrome)\n",
    "syndromeX = twisted_product(pcheckX, pauli2vector(P))\n",
    "syndromeZ = twisted_product(pcheckZ, pauli2vector(P))\n",
    "print(syndromeX, syndromeZ)"
   ]
  },
  {
   "cell_type": "code",
   "execution_count": 89,
   "id": "e832cf1c-44ee-423b-8133-e1c0e89d0cc1",
   "metadata": {},
   "outputs": [
    {
     "data": {
      "text/plain": [
       "<matplotlib.image.AxesImage at 0x7f01124657b0>"
      ]
     },
     "execution_count": 89,
     "metadata": {},
     "output_type": "execute_result"
    },
    {
     "data": {
      "image/png": "[encoded data removed]",
      "text/plain": [
       "<Figure size 1536x480 with 1 Axes>"
      ]
     },
     "metadata": {},
     "output_type": "display_data"
    },
    {
     "data": {
      "image/png": "[encoded data removed]",
      "text/plain": [
       "<Figure size 853.333x480 with 1 Axes>"
      ]
     },
     "metadata": {},
     "output_type": "display_data"
    }
   ],
   "source": [
    "\"\"\"setup datastructures for MWPM decoding\"\"\"\n",
    "\n",
    "def pcheck_clipZ(pcheck):\n",
    "    \"\"\"\n",
    "    clip (remove) the 1st half of the parity check matrix\n",
    "    \"\"\"\n",
    "    L = int(pcheck.shape[1]/2)\n",
    "    return pcheck[:, L:]\n",
    "\n",
    "def pcheck_clipX(pcheck):\n",
    "    \"\"\"\n",
    "    clip (remove) the 2nd half of the parity check matrix\n",
    "    \"\"\"\n",
    "    L = int(pcheck.shape[1]/2)\n",
    "    return pcheck[:, :L]\n",
    "\n",
    "Hx = pcheck_clipX(pcheckX)\n",
    "Hz = pcheck_clipZ(pcheckZ)\n",
    "\n",
    "plt.matshow(Hx)\n",
    "plt.matshow(Hz)"
   ]
  },
  {
   "cell_type": "code",
   "execution_count": 90,
   "id": "ee0a9140-4e0a-4401-8743-7a3f0f23bfbc",
   "metadata": {},
   "outputs": [
    {
     "name": "stdout",
     "output_type": "stream",
     "text": [
      "[0 0 0 0 0 0 0 0 0 0 0 0 0 0 0 0 0 0 0 0 0 0 0 0 0 0 0 0 0 0 0 0]\n"
     ]
    }
   ],
   "source": [
    "\"\"\"Decode with MWPM\n",
    "note that the X recovery is associated to the Z syndrome and vice-versa\n",
    "\"\"\"\n",
    "matchingX = pymatching.Matching.from_check_matrix(Hx)\n",
    "recoveryZ = matchingX.decode(syndromeX)\n",
    "\n",
    "matchingZ = pymatching.Matching.from_check_matrix(Hz)\n",
    "recoveryX = matchingZ.decode(syndromeZ)\n",
    "\n",
    "recovery = np.concatenate((recoveryX, recoveryZ))\n",
    "print(recovery)"
   ]
  },
  {
   "cell_type": "code",
   "execution_count": 91,
   "id": "780e9cff-9ff1-4427-a3bd-2f634c416208",
   "metadata": {},
   "outputs": [
    {
     "name": "stdout",
     "output_type": "stream",
     "text": [
      "[0 0 0 0 0 0 0 0 0 0 0 0 0 0]\n"
     ]
    }
   ],
   "source": [
    "\"\"\"check if successfullly mapped back to codespace\"\"\"\n",
    "corrected_error = pauli2vector(P) + recovery % 2\n",
    "print(twisted_product(pcheck, corrected_error))"
   ]
  },
  {
   "cell_type": "code",
   "execution_count": 92,
   "id": "bff28308-01bf-4387-a118-afc838155371",
   "metadata": {},
   "outputs": [
    {
     "name": "stdout",
     "output_type": "stream",
     "text": [
      "0\n",
      "0\n"
     ]
    }
   ],
   "source": [
    "\"\"\"check if corrected the logical part of the error\"\"\"\n",
    "print(twisted_product(pauli2vector(lat.Lx), corrected_error))\n",
    "print(twisted_product(pauli2vector(lat.Lz), corrected_error))"
   ]
  },
  {
   "cell_type": "code",
   "execution_count": 93,
   "id": "64c18996-9132-4391-96b0-cc6f0a31f3db",
   "metadata": {},
   "outputs": [
    {
     "name": "stdout",
     "output_type": "stream",
     "text": [
      "000---001---002---003---004---005---006---007---008---009\n",
      " | \u001b[34m # \u001b[0m | \u001b[31m # \u001b[0m | \u001b[31m # \u001b[0m | \u001b[31m # \u001b[0m | \u001b[31m # \u001b[0m |     | \u001b[31m # \u001b[0m | \u001b[31m # \u001b[0m |     |\n",
      "010---011---012---013---014---015---016---017---018---019\n",
      " | \u001b[34m # \u001b[0m | \u001b[31m # \u001b[0m | \u001b[34m # \u001b[0m | \u001b[34m # \u001b[0m | \u001b[34m # \u001b[0m |     |     | \u001b[31m # \u001b[0m | \u001b[31m # \u001b[0m |\n",
      "020---021---022---023---024---025---026---027---028---029\n",
      " | \u001b[31m # \u001b[0m |     |     | \u001b[31m # \u001b[0m | \u001b[34m # \u001b[0m | \u001b[34m # \u001b[0m | \u001b[34m # \u001b[0m |     |     |\n",
      "030---031---032---033---034---035---036---037---038---039\n",
      " | \u001b[34m # \u001b[0m | \u001b[34m # \u001b[0m | \u001b[34m # \u001b[0m | \u001b[34m # \u001b[0m | \u001b[31m # \u001b[0m | \u001b[34m # \u001b[0m |     | \u001b[34m # \u001b[0m |     |\n",
      "040---041---042---043---044---045---046---047---048---049\n",
      " | \u001b[31m # \u001b[0m | \u001b[34m # \u001b[0m |     |     |     |     |     | \u001b[31m # \u001b[0m | \u001b[31m # \u001b[0m |\n",
      "050---051---052---053---054---055---056---057---058---059\n",
      " |     | \u001b[34m # \u001b[0m |     |     | \u001b[34m # \u001b[0m | \u001b[31m # \u001b[0m | \u001b[34m # \u001b[0m | \u001b[31m # \u001b[0m | \u001b[34m # \u001b[0m |\n",
      "060---061---062---063---064---065---066---067---068---069\n",
      " |     | \u001b[31m # \u001b[0m | \u001b[31m # \u001b[0m |     | \u001b[34m # \u001b[0m | \u001b[34m # \u001b[0m |     |     |     |\n",
      "070---071---072---073---074---075---076---077---078---079\n",
      " | \u001b[31m # \u001b[0m | \u001b[31m # \u001b[0m |     |     | \u001b[31m # \u001b[0m | \u001b[34m # \u001b[0m | \u001b[31m # \u001b[0m |     | \u001b[31m # \u001b[0m |\n",
      "080---081---082---083---084---085---086---087---088---089\n",
      " | \u001b[31m # \u001b[0m |     | \u001b[34m # \u001b[0m | \u001b[31m # \u001b[0m | \u001b[31m # \u001b[0m | \u001b[34m # \u001b[0m | \u001b[34m # \u001b[0m | \u001b[31m # \u001b[0m | \u001b[34m # \u001b[0m |\n",
      "090---091---092---093---094---095---096---097---098---099\n",
      "\n"
     ]
    }
   ],
   "source": [
    "\"\"\"do it 2000 times for a 10x10 lattice\"\"\"\n",
    "lat = Lattice2D(10, 10)\n",
    "\n",
    "coloring = np.random.randint(-1, 2, size=(10-1)**2)\n",
    "lat.color_lattice(coloring)\n",
    "print(lat)"
   ]
  },
  {
   "cell_type": "code",
   "execution_count": 94,
   "id": "ec63f412-b0d5-4284-8602-8073fc811bda",
   "metadata": {},
   "outputs": [
    {
     "name": "stderr",
     "output_type": "stream",
     "text": [
      "100%|██████████| 2000/2000 [00:06<00:00, 331.67it/s]\n"
     ]
    }
   ],
   "source": [
    "rates = [0.001, 0.01, 0.01]\n",
    "num_rounds = 2000\n",
    "\n",
    "codespace_projection = [0]*num_rounds\n",
    "logical_errors = [0]*num_rounds\n",
    "uncorrected_logical_error_rate = [0]*num_rounds\n",
    "num_identity_counts = 0\n",
    "for r in tqdm(range(num_rounds)):\n",
    "    P = random_pauli(lat.size(), rates)\n",
    "    while P == 'I'*lat.size():\n",
    "        # resample if we got an identity error -- \n",
    "        num_identity_counts += 1\n",
    "        P = random_pauli(lat.size(), rates)\n",
    "    error = pauli2vector(P)\n",
    "    pcheckX = lat.pcheckX()\n",
    "    pcheckZ = lat.pcheckZ()\n",
    "    pcheck = np.vstack((pcheckX, pcheckZ))\n",
    "    syndromeX = twisted_product(pcheckX, pauli2vector(P))\n",
    "    syndromeZ = twisted_product(pcheckZ, pauli2vector(P))\n",
    "    Hx = pcheck_clipX(pcheckX)\n",
    "    Hz = pcheck_clipZ(pcheckZ)\n",
    "    matchingX = pymatching.Matching.from_check_matrix(Hx)\n",
    "    matchingZ = pymatching.Matching.from_check_matrix(Hz)\n",
    "    recoveryZ = matchingX.decode(syndromeX)\n",
    "    recoveryX = matchingZ.decode(syndromeZ)\n",
    "    recovery = np.concatenate((recoveryX, recoveryZ))\n",
    "    corrected_error = pauli2vector(P) + recovery % 2\n",
    "    \n",
    "    if sum(twisted_product(pcheck, corrected_error)) > 0:\n",
    "        codespace_projection[r] = 1\n",
    "    if (twisted_product(pauli2vector(lat.Lx), corrected_error) == 1) or (twisted_product(pauli2vector(lat.Lz), corrected_error) == 1):\n",
    "        logical_errors[r] = 1\n",
    "    if (twisted_product(pauli2vector(lat.Lx), error) == 1) or (twisted_product(pauli2vector(lat.Lz), error) == 1):\n",
    "        uncorrected_logical_error_rate[r] = 1"
   ]
  },
  {
   "cell_type": "code",
   "execution_count": 95,
   "id": "d8190958",
   "metadata": {},
   "outputs": [
    {
     "data": {
      "text/plain": [
       "__main__.Lattice2D"
      ]
     },
     "execution_count": 95,
     "metadata": {},
     "output_type": "execute_result"
    }
   ],
   "source": [
    "type(lat)"
   ]
  },
  {
   "cell_type": "code",
   "execution_count": 96,
   "id": "512ca23e-d36b-4744-89c3-94f0d43a3048",
   "metadata": {},
   "outputs": [
    {
     "name": "stdout",
     "output_type": "stream",
     "text": [
      "number of codespace projection failures 0\n",
      "logical error rate 0.0035\n",
      "uncorrected error rate 0.256\n",
      "physical error rate 0.020999999999999998\n"
     ]
    }
   ],
   "source": [
    "print('number of codespace projection failures', sum(codespace_projection))\n",
    "print('logical error rate', sum(logical_errors)/(len(logical_errors)+num_identity_counts))\n",
    "print('uncorrected error rate', sum(uncorrected_logical_error_rate)/(len(uncorrected_logical_error_rate)+num_identity_counts))\n",
    "print('physical error rate', sum(rates))"
   ]
  },
  {
   "cell_type": "code",
   "execution_count": 97,
   "id": "c3af4b89",
   "metadata": {},
   "outputs": [],
   "source": [
    "def lattice_logical_error_rate(lat, num_rounds, error_rates):\n",
    "    logical_errors = [0]*num_rounds\n",
    "    num_identity_counts = 0\n",
    "    for r in tqdm(range(num_rounds)):\n",
    "        P = random_pauli(lat.size(), error_rates)\n",
    "        while P == 'I'*lat.size():\n",
    "            # resample if we got an identity error -- \n",
    "            num_identity_counts += 1\n",
    "            P = random_pauli(lat.size(), error_rates)\n",
    "        error = pauli2vector(P)\n",
    "        pcheckX = lat.pcheckX()\n",
    "        pcheckZ = lat.pcheckZ()\n",
    "        pcheck = np.vstack((pcheckX, pcheckZ))\n",
    "        syndromeX = twisted_product(pcheckX, pauli2vector(P))\n",
    "        syndromeZ = twisted_product(pcheckZ, pauli2vector(P))\n",
    "        Hx = pcheck_clipX(pcheckX)\n",
    "        Hz = pcheck_clipZ(pcheckZ)\n",
    "        matchingX = pymatching.Matching.from_check_matrix(Hx)\n",
    "        matchingZ = pymatching.Matching.from_check_matrix(Hz)\n",
    "        recoveryZ = matchingX.decode(syndromeX)\n",
    "        recoveryX = matchingZ.decode(syndromeZ)\n",
    "        recovery = np.concatenate((recoveryX, recoveryZ))\n",
    "        corrected_error = pauli2vector(P) + recovery % 2\n",
    "        \n",
    "        if sum(twisted_product(pcheck, corrected_error)) > 0:\n",
    "            codespace_projection[r] = 1\n",
    "        if (twisted_product(pauli2vector(lat.Lx), corrected_error) == 1) or (twisted_product(pauli2vector(lat.Lz), corrected_error) == 1):\n",
    "            logical_errors[r] = 1\n",
    "        if (twisted_product(pauli2vector(lat.Lx), error) == 1) or (twisted_product(pauli2vector(lat.Lz), error) == 1):\n",
    "            uncorrected_logical_error_rate[r] = 1\n",
    "    return(sum(logical_errors)/(len(logical_errors)+num_identity_counts))"
   ]
  },
  {
   "cell_type": "code",
   "execution_count": 101,
   "id": "c5f02bc7",
   "metadata": {},
   "outputs": [
    {
     "ename": "AttributeError",
     "evalue": "'Lattice2D' object has no attribute 'pcheckX'",
     "output_type": "error",
     "traceback": [
      "\u001b[0;31m---------------------------------------------------------------------------\u001b[0m",
      "\u001b[0;31mAttributeError\u001b[0m                            Traceback (most recent call last)",
      "\u001b[1;32m/home/jpmarceaux/VSProjects/QuantumHardwareSubgroup/lib/dev_codecapacity_simulation.ipynb Cell 17\u001b[0m line \u001b[0;36m1\n\u001b[0;32m----> <a href='vscode-notebook-cell:/home/jpmarceaux/VSProjects/QuantumHardwareSubgroup/lib/dev_codecapacity_simulation.ipynb#X30sZmlsZQ%3D%3D?line=0'>1</a>\u001b[0m slat\u001b[39m.\u001b[39;49mpcheckX()\n",
      "\u001b[0;31mAttributeError\u001b[0m: 'Lattice2D' object has no attribute 'pcheckX'"
     ]
    }
   ],
   "source": [
    "slat.pcheckX()"
   ]
  },
  {
   "cell_type": "code",
   "execution_count": 98,
   "id": "fa121100-57ed-4508-a83d-932f4a4c2f0c",
   "metadata": {},
   "outputs": [
    {
     "name": "stdout",
     "output_type": "stream",
     "text": [
      "000---001---002---003---004---005---006---007---008---009\n",
      " | \u001b[34m # \u001b[0m | \u001b[31m # \u001b[0m | \u001b[34m # \u001b[0m | \u001b[31m # \u001b[0m | \u001b[34m # \u001b[0m | \u001b[31m # \u001b[0m | \u001b[34m # \u001b[0m | \u001b[31m # \u001b[0m | \u001b[34m # \u001b[0m |\n",
      "010---011---012---013---014---015---016---017---018---019\n",
      " | \u001b[31m # \u001b[0m | \u001b[34m # \u001b[0m | \u001b[31m # \u001b[0m | \u001b[34m # \u001b[0m | \u001b[31m # \u001b[0m | \u001b[34m # \u001b[0m | \u001b[31m # \u001b[0m | \u001b[34m # \u001b[0m | \u001b[31m # \u001b[0m |\n",
      "020---021---022---023---024---025---026---027---028---029\n",
      " | \u001b[34m # \u001b[0m | \u001b[31m # \u001b[0m | \u001b[34m # \u001b[0m | \u001b[31m # \u001b[0m | \u001b[34m # \u001b[0m | \u001b[31m # \u001b[0m | \u001b[34m # \u001b[0m | \u001b[31m # \u001b[0m | \u001b[34m # \u001b[0m |\n",
      "030---031---032---033---034---035---036---037---038---039\n",
      " | \u001b[31m # \u001b[0m | \u001b[34m # \u001b[0m | \u001b[31m # \u001b[0m | \u001b[34m # \u001b[0m | \u001b[31m # \u001b[0m | \u001b[34m # \u001b[0m | \u001b[31m # \u001b[0m | \u001b[34m # \u001b[0m | \u001b[31m # \u001b[0m |\n",
      "040---041---042---043---044---045---046---047---048---049\n",
      " | \u001b[34m # \u001b[0m | \u001b[31m # \u001b[0m | \u001b[34m # \u001b[0m | \u001b[31m # \u001b[0m | \u001b[34m # \u001b[0m | \u001b[31m # \u001b[0m | \u001b[34m # \u001b[0m | \u001b[31m # \u001b[0m | \u001b[34m # \u001b[0m |\n",
      "050---051---052---053---054---055---056---057---058---059\n",
      " | \u001b[31m # \u001b[0m | \u001b[34m # \u001b[0m | \u001b[31m # \u001b[0m | \u001b[34m # \u001b[0m | \u001b[31m # \u001b[0m | \u001b[34m # \u001b[0m | \u001b[31m # \u001b[0m | \u001b[34m # \u001b[0m | \u001b[31m # \u001b[0m |\n",
      "060---061---062---063---064---065---066---067---068---069\n",
      " | \u001b[34m # \u001b[0m | \u001b[31m # \u001b[0m | \u001b[34m # \u001b[0m | \u001b[31m # \u001b[0m | \u001b[34m # \u001b[0m | \u001b[31m # \u001b[0m | \u001b[34m # \u001b[0m | \u001b[31m # \u001b[0m | \u001b[34m # \u001b[0m |\n",
      "070---071---072---073---074---075---076---077---078---079\n",
      " | \u001b[31m # \u001b[0m | \u001b[34m # \u001b[0m | \u001b[31m # \u001b[0m | \u001b[34m # \u001b[0m | \u001b[31m # \u001b[0m | \u001b[34m # \u001b[0m | \u001b[31m # \u001b[0m | \u001b[34m # \u001b[0m | \u001b[31m # \u001b[0m |\n",
      "080---081---082---083---084---085---086---087---088---089\n",
      " | \u001b[34m # \u001b[0m | \u001b[31m # \u001b[0m | \u001b[34m # \u001b[0m | \u001b[31m # \u001b[0m | \u001b[34m # \u001b[0m | \u001b[31m # \u001b[0m | \u001b[34m # \u001b[0m | \u001b[31m # \u001b[0m | \u001b[34m # \u001b[0m |\n",
      "090---091---092---093---094---095---096---097---098---099\n",
      "\n"
     ]
    },
    {
     "name": "stderr",
     "output_type": "stream",
     "text": [
      "  0%|          | 0/2000 [00:00<?, ?it/s]\n"
     ]
    },
    {
     "ename": "AttributeError",
     "evalue": "'Lattice2D' object has no attribute 'pcheckX'",
     "output_type": "error",
     "traceback": [
      "\u001b[0;31m---------------------------------------------------------------------------\u001b[0m",
      "\u001b[0;31mAttributeError\u001b[0m                            Traceback (most recent call last)",
      "\u001b[1;32m/home/jpmarceaux/VSProjects/QuantumHardwareSubgroup/lib/dev_codecapacity_simulation.ipynb Cell 17\u001b[0m line \u001b[0;36m6\n\u001b[1;32m      <a href='vscode-notebook-cell:/home/jpmarceaux/VSProjects/QuantumHardwareSubgroup/lib/dev_codecapacity_simulation.ipynb#X21sZmlsZQ%3D%3D?line=3'>4</a>\u001b[0m slat \u001b[39m=\u001b[39m compass_to_surface(\u001b[39m10\u001b[39m, \u001b[39m10\u001b[39m)\n\u001b[1;32m      <a href='vscode-notebook-cell:/home/jpmarceaux/VSProjects/QuantumHardwareSubgroup/lib/dev_codecapacity_simulation.ipynb#X21sZmlsZQ%3D%3D?line=4'>5</a>\u001b[0m \u001b[39mprint\u001b[39m(slat)\n\u001b[0;32m----> <a href='vscode-notebook-cell:/home/jpmarceaux/VSProjects/QuantumHardwareSubgroup/lib/dev_codecapacity_simulation.ipynb#X21sZmlsZQ%3D%3D?line=5'>6</a>\u001b[0m lrate \u001b[39m=\u001b[39m lattice_logical_error_rate(slat, \u001b[39m2000\u001b[39;49m, [\u001b[39m0.001\u001b[39;49m, \u001b[39m0.01\u001b[39;49m, \u001b[39m0.01\u001b[39;49m])\n\u001b[1;32m      <a href='vscode-notebook-cell:/home/jpmarceaux/VSProjects/QuantumHardwareSubgroup/lib/dev_codecapacity_simulation.ipynb#X21sZmlsZQ%3D%3D?line=6'>7</a>\u001b[0m \u001b[39mprint\u001b[39m(lrate)\n",
      "\u001b[1;32m/home/jpmarceaux/VSProjects/QuantumHardwareSubgroup/lib/dev_codecapacity_simulation.ipynb Cell 17\u001b[0m line \u001b[0;36m1\n\u001b[1;32m      <a href='vscode-notebook-cell:/home/jpmarceaux/VSProjects/QuantumHardwareSubgroup/lib/dev_codecapacity_simulation.ipynb#X21sZmlsZQ%3D%3D?line=8'>9</a>\u001b[0m     P \u001b[39m=\u001b[39m random_pauli(lat\u001b[39m.\u001b[39msize(), error_rates)\n\u001b[1;32m     <a href='vscode-notebook-cell:/home/jpmarceaux/VSProjects/QuantumHardwareSubgroup/lib/dev_codecapacity_simulation.ipynb#X21sZmlsZQ%3D%3D?line=9'>10</a>\u001b[0m error \u001b[39m=\u001b[39m pauli2vector(P)\n\u001b[0;32m---> <a href='vscode-notebook-cell:/home/jpmarceaux/VSProjects/QuantumHardwareSubgroup/lib/dev_codecapacity_simulation.ipynb#X21sZmlsZQ%3D%3D?line=10'>11</a>\u001b[0m pcheckX \u001b[39m=\u001b[39m lat\u001b[39m.\u001b[39;49mpcheckX()\n\u001b[1;32m     <a href='vscode-notebook-cell:/home/jpmarceaux/VSProjects/QuantumHardwareSubgroup/lib/dev_codecapacity_simulation.ipynb#X21sZmlsZQ%3D%3D?line=11'>12</a>\u001b[0m pcheckZ \u001b[39m=\u001b[39m lat\u001b[39m.\u001b[39mpcheckZ()\n\u001b[1;32m     <a href='vscode-notebook-cell:/home/jpmarceaux/VSProjects/QuantumHardwareSubgroup/lib/dev_codecapacity_simulation.ipynb#X21sZmlsZQ%3D%3D?line=12'>13</a>\u001b[0m pcheck \u001b[39m=\u001b[39m np\u001b[39m.\u001b[39mvstack((pcheckX, pcheckZ))\n",
      "\u001b[0;31mAttributeError\u001b[0m: 'Lattice2D' object has no attribute 'pcheckX'"
     ]
    }
   ],
   "source": [
    "from lib.color_compass import compass_to_surface\n",
    "\"\"\" do it for the surface code\"\"\"\n",
    "\n",
    "slat = compass_to_surface(10, 10)\n",
    "print(slat)\n",
    "lrate = lattice_logical_error_rate(slat, 2000, [0.001, 0.01, 0.01])\n",
    "print(lrate)\n"
   ]
  },
  {
   "cell_type": "code",
   "execution_count": 204,
   "id": "c80ad295-e4f9-43f8-8fdc-87a0babf43e7",
   "metadata": {},
   "outputs": [
    {
     "name": "stderr",
     "output_type": "stream",
     "text": [
      "100%|███████████████████████████████████████████████████████████████████████████████████████████████████████████████████████████████████████████████████████████████████████████████████████████████████| 2000/2000 [00:05<00:00, 333.76it/s]\n"
     ]
    }
   ],
   "source": [
    "rates = [0.04, 0.04, 0.04]\n",
    "num_rounds = 2000\n",
    "\n",
    "codespace_projection = [0]*num_rounds\n",
    "logical_errors = [0]*num_rounds\n",
    "uncorrected_logical_error_rate = [0]*num_rounds\n",
    "for r in tqdm(range(num_rounds)):\n",
    "    P = random_pauli(lat.size(), rates)\n",
    "    while P == 'I'*lat.size():\n",
    "        # resample if we got an identity error -- note this actually increases the error rate we measure\n",
    "        P = random_pauli(lat.size(), rates)\n",
    "    error = pauli2vector(P)\n",
    "    pcheckX = lat.pcheckX()\n",
    "    pcheckZ = lat.pcheckZ()\n",
    "    pcheck = np.vstack((pcheckX, pcheckZ))\n",
    "    syndromeX = twisted_product(pcheckX, pauli2vector(P))\n",
    "    syndromeZ = twisted_product(pcheckZ, pauli2vector(P))\n",
    "    Hx = pcheck_clipX(pcheckX)\n",
    "    Hz = pcheck_clipZ(pcheckZ)\n",
    "    matchingX = pymatching.Matching.from_check_matrix(Hx)\n",
    "    matchingZ = pymatching.Matching.from_check_matrix(Hz)\n",
    "    recoveryZ = matchingX.decode(syndromeX)\n",
    "    recoveryX = matchingZ.decode(syndromeZ)\n",
    "    recovery = np.concatenate((recoveryX, recoveryZ))\n",
    "    corrected_error = pauli2vector(P) + recovery % 2\n",
    "    \n",
    "    if sum(twisted_product(pcheck, corrected_error)) > 0:\n",
    "        codespace_projection[r] = 1\n",
    "    if (twisted_product(pauli2vector(lat.Lx), corrected_error) == 1) or (twisted_product(pauli2vector(lat.Lz), corrected_error) == 1):\n",
    "        logical_errors[r] = 1\n",
    "    if (twisted_product(pauli2vector(lat.Lx), error) == 1) or (twisted_product(pauli2vector(lat.Lz), error) == 1):\n",
    "        uncorrected_logical_error_rate[r] = 1"
   ]
  },
  {
   "cell_type": "code",
   "execution_count": 205,
   "id": "e195a34c-6adb-412a-96f6-b9e7d4f1658a",
   "metadata": {},
   "outputs": [
    {
     "name": "stdout",
     "output_type": "stream",
     "text": [
      "number of codespace projection failures 0\n",
      "logical error rate 0.3285\n",
      "uncorrected error rate 0.628\n",
      "physical error rate 0.12\n"
     ]
    }
   ],
   "source": [
    "print('number of codespace projection failures', sum(codespace_projection))\n",
    "print('logical error rate', sum(logical_errors)/len(logical_errors))\n",
    "print('uncorrected error rate', sum(uncorrected_logical_error_rate)/len(uncorrected_logical_error_rate))\n",
    "print('physical error rate', sum(rates))"
   ]
  },
  {
   "cell_type": "code",
   "execution_count": null,
   "id": "8b1d507e-1d04-4233-bf8f-e9949dded43a",
   "metadata": {},
   "outputs": [],
   "source": []
  }
 ],
 "metadata": {
  "kernelspec": {
   "display_name": "Python 3 (ipykernel)",
   "language": "python",
   "name": "python3"
  },
  "language_info": {
   "codemirror_mode": {
    "name": "ipython",
    "version": 3
   },
   "file_extension": ".py",
   "mimetype": "text/x-python",
   "name": "python",
   "nbconvert_exporter": "python",
   "pygments_lexer": "ipython3",
   "version": "3.10.11"
  }
 },
 "nbformat": 4,
 "nbformat_minor": 5
}
