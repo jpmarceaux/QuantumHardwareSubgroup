{
 "cells": [
  {
   "cell_type": "code",
   "execution_count": 2,
   "metadata": {},
   "outputs": [],
   "source": [
    "import numpy as np\n",
    "import matplotlib.pyplot as plt\n",
    "from lib.lattice import Lattice2D\n"
   ]
  },
  {
   "cell_type": "code",
   "execution_count": 90,
   "metadata": {},
   "outputs": [],
   "source": [
    "def make_random_colored_lat(dimX, dimY) -> Lattice2D:\n",
    "    lat = Lattice2D(dimX, dimY)\n",
    "    num_colors = len(lat.colors)\n",
    "    new_colors = np.random.choice([-1, 1], num_colors)\n",
    "    lat.color_lattice(new_colors)\n",
    "    return lat"
   ]
  },
  {
   "cell_type": "code",
   "execution_count": 91,
   "metadata": {},
   "outputs": [
    {
     "name": "stdout",
     "output_type": "stream",
     "text": [
      "000---001---002\n",
      " | \u001b[31m # \u001b[0m | \u001b[31m # \u001b[0m |\n",
      "003---004---005\n",
      " | \u001b[31m # \u001b[0m | \u001b[31m # \u001b[0m |\n",
      "006---007---008\n",
      "\n"
     ]
    }
   ],
   "source": [
    "lat = make_random_colored_lat(3, 3)\n",
    "print(lat)"
   ]
  },
  {
   "cell_type": "code",
   "execution_count": 92,
   "metadata": {},
   "outputs": [
    {
     "name": "stdout",
     "output_type": "stream",
     "text": [
      "['XXXXXX___', '___XXXXXX'] ['ZZ_______', '_ZZ______', '___ZZ____', '______ZZ_', '____ZZ___', '_______ZZ']\n"
     ]
    }
   ],
   "source": [
    "Sx, Sz = lat.getSx(), lat.getSz()\n",
    "parityX = lat.pcheckX()\n",
    "parityZ = lat.pcheckZ()\n",
    "print(Sx, Sz)"
   ]
  },
  {
   "cell_type": "markdown",
   "metadata": {},
   "source": [
    "# Typical Error Sequences"
   ]
  },
  {
   "cell_type": "markdown",
   "metadata": {},
   "source": [
    "## Count number of typical error sequences"
   ]
  },
  {
   "cell_type": "code",
   "execution_count": 93,
   "metadata": {},
   "outputs": [],
   "source": [
    "def generate_all_pauli_strings(n):\n",
    "    \"\"\"\n",
    "    generate all possible n-qubit Pauli strings\n",
    "    \"\"\"\n",
    "    if n == 1:\n",
    "        return ['_', 'X', 'Y', 'Z']\n",
    "    else:\n",
    "        return [p + q for p in generate_all_pauli_strings(1) for q in generate_all_pauli_strings(n-1)]\n",
    "    \n",
    "def index_to_pauli_string(idx, n):\n",
    "    \"\"\"\n",
    "    convert an index to a Pauli string by converting the index to quaternary\n",
    "    \"\"\"\n",
    "    return np.base_repr(idx, base=4).zfill(n).replace('0', '_').replace('1', 'X').replace('2', 'Y').replace('3', 'Z')"
   ]
  },
  {
   "cell_type": "code",
   "execution_count": 94,
   "metadata": {},
   "outputs": [
    {
     "data": {
      "text/plain": [
       "'___X'"
      ]
     },
     "execution_count": 94,
     "metadata": {},
     "output_type": "execute_result"
    }
   ],
   "source": [
    "index_to_pauli_string(1, 4)"
   ]
  },
  {
   "cell_type": "code",
   "execution_count": 95,
   "metadata": {},
   "outputs": [],
   "source": [
    "def error_distribution_func_1q(pauli_string, rates):\n",
    "    px = rates[0]\n",
    "    py = rates[1]\n",
    "    pz = rates[2]\n",
    "    probs = {'_': 1-px-py-pz, 'X': px, 'Y': py, 'Z': pz}\n",
    "    # prob is the joint probability of the error string\n",
    "    prob = 1\n",
    "    for p in pauli_string:\n",
    "        prob *= probs[p]\n",
    "    return prob"
   ]
  },
  {
   "cell_type": "code",
   "execution_count": 96,
   "metadata": {},
   "outputs": [],
   "source": [
    "def calculate_error_distribution(n, rates):\n",
    "    \"\"\"\n",
    "    calculate the error distribution for n-qubit Pauli strings\n",
    "    \"\"\"\n",
    "    all_pauli_strings = generate_all_pauli_strings(n)\n",
    "    error_distribution = np.zeros(4**n)\n",
    "    for idx, pauli_string in enumerate(all_pauli_strings):\n",
    "        error_distribution[idx] = error_distribution_func_1q(pauli_string, rates)\n",
    "    return error_distribution\n",
    "\n",
    "\n",
    "def entropy_from_distribution(distribution):\n",
    "    \"\"\"\n",
    "    calculate the entropy from a distribution\n",
    "    \"\"\"\n",
    "    return -np.sum(distribution * np.log2(distribution + 1e-10))"
   ]
  },
  {
   "cell_type": "code",
   "execution_count": 135,
   "metadata": {},
   "outputs": [
    {
     "data": {
      "text/plain": [
       "1048576"
      ]
     },
     "execution_count": 135,
     "metadata": {},
     "output_type": "execute_result"
    }
   ],
   "source": [
    "dist = calculate_error_distribution(10, [0.01, 0.01, 0.01])\n",
    "len(dist)"
   ]
  },
  {
   "cell_type": "code",
   "execution_count": 136,
   "metadata": {},
   "outputs": [
    {
     "data": {
      "text/plain": [
       "2.4193975419146536"
      ]
     },
     "execution_count": 136,
     "metadata": {},
     "output_type": "execute_result"
    }
   ],
   "source": [
    "entropy_from_distribution(dist)"
   ]
  },
  {
   "cell_type": "code",
   "execution_count": 137,
   "metadata": {},
   "outputs": [
    {
     "name": "stdout",
     "output_type": "stream",
     "text": [
      "1048576 16\n"
     ]
    }
   ],
   "source": [
    "print(4**10, 2**4)"
   ]
  },
  {
   "cell_type": "markdown",
   "metadata": {},
   "source": [
    "## "
   ]
  },
  {
   "cell_type": "markdown",
   "metadata": {},
   "source": [
    "# Maximum likelihood decoder"
   ]
  },
  {
   "cell_type": "code",
   "execution_count": 100,
   "metadata": {},
   "outputs": [],
   "source": [
    "from lib.color_compass import pauli2vector, twisted_prod_mat, twisted_product\n",
    "\n",
    "def pauli_to_error_class(pauli, logicals, Sx, Sz):\n",
    "    \"\"\"\n",
    "    convert a Pauli string to an error class representative\n",
    "    \"\"\"\n",
    "    pauli_vec = pauli2vector(pauli)\n",
    "    lX_vec, lZ_vec = [pauli2vector(logicals[0]), pauli2vector(logicals[1])]\n",
    "    sX_vec = [pauli2vector(s) for s in Sx]\n",
    "    sZ_vec = [pauli2vector(s) for s in Sz]\n",
    "\n",
    "    logical_checks = [twisted_product(pauli_vec, lX_vec), twisted_product(pauli_vec, lZ_vec)]\n",
    "    Sx_checks = [twisted_product(pauli_vec, s) for s in sX_vec]\n",
    "    Sz_checks = [twisted_product(pauli_vec, s) for s in sZ_vec]\n",
    "    return logical_checks, Sx_checks, Sz_checks\n",
    "\n",
    "def error_partition_from_lattice(pauli, lat):\n",
    "    \"\"\"\n",
    "    given a Pauli string and a lattice, return the error partition\n",
    "    \"\"\"\n",
    "    logical_checks, Sx_checks, Sz_checks = pauli_to_error_class(pauli, [lat.Lx, lat.Lz], lat.getSx(), lat.getSz())\n",
    "    return logical_checks, Sx_checks, Sz_checks"
   ]
  },
  {
   "cell_type": "code",
   "execution_count": 101,
   "metadata": {},
   "outputs": [],
   "source": [
    "from tqdm import tqdm\n",
    "def binary_tuple_to_decimal_idx(t):\n",
    "    return sum([2**i for i in range(len(t)) if t[i] == 1])\n",
    "\n",
    "def make_joint_distribution(lat, rates):\n",
    "    \"\"\"\n",
    "    Calculates P(L, \\Gamma) and P(L | \\Gamma = \\gamma) for a given lattice and error rates\n",
    "    \"\"\"\n",
    "    Sx = lat.getSx()\n",
    "    Sz = lat.getSz()\n",
    "    joint_distribution = np.zeros((4, 2**len(Sx), 2**len(Sz)))\n",
    "    pauli_index_range = range(4**lat.size())\n",
    "    for pauli_idx in tqdm(pauli_index_range):\n",
    "        pauli = index_to_pauli_string(pauli_idx, lat.size())\n",
    "        logical_checks, Sx_checks, Sz_checks = error_partition_from_lattice(pauli, lat)\n",
    "        prob = error_distribution_func_1q(pauli, rates)\n",
    "\n",
    "\n",
    "        syndrome_Sx = tuple(Sx_checks)\n",
    "        syndrome_Sz = tuple(Sz_checks)\n",
    "        syndrome_logical = tuple(logical_checks)\n",
    "\n",
    "        Sx_idx = binary_tuple_to_decimal_idx(syndrome_Sx)\n",
    "        Sz_idx = binary_tuple_to_decimal_idx(syndrome_Sz)\n",
    "        logical_idx = binary_tuple_to_decimal_idx(syndrome_logical)\n",
    "\n",
    "        joint_distribution[logical_idx, Sx_idx, Sz_idx] += prob\n",
    "\n",
    "    \n",
    "    return joint_distribution"
   ]
  },
  {
   "cell_type": "code",
   "execution_count": 103,
   "metadata": {},
   "outputs": [
    {
     "name": "stderr",
     "output_type": "stream",
     "text": [
      "100%|██████████| 262144/262144 [00:19<00:00, 13584.34it/s]\n"
     ]
    }
   ],
   "source": [
    "joint_dist = make_joint_distribution(lat, [0.01, 0.02, 0.03])"
   ]
  },
  {
   "cell_type": "code",
   "execution_count": 104,
   "metadata": {},
   "outputs": [
    {
     "data": {
      "text/plain": [
       "(4, 4, 64)"
      ]
     },
     "execution_count": 104,
     "metadata": {},
     "output_type": "execute_result"
    }
   ],
   "source": [
    "joint_dist.shape"
   ]
  },
  {
   "cell_type": "code",
   "execution_count": 105,
   "metadata": {},
   "outputs": [],
   "source": [
    "def calculate_logical_marginal(joint_distribution):\n",
    "    \"\"\"\n",
    "    Calculates P(L) for a given joint distribution P(L, Sx, Sz)\n",
    "    \"\"\"\n",
    "    return np.sum(joint_distribution, axis=(1,2))\n",
    "   \n",
    "def calculate_syndrome_marginal(joint_distribution):\n",
    "    \"\"\"\n",
    "    Calculates P(Sx, Sz) for a given joint distribution P(L, Sx, Sz)\n",
    "    \"\"\"\n",
    "    return np.sum(joint_distribution, axis=0)\n",
    "\n",
    "def calculate_syndrome_prob_given_logical(joint_distribution):\n",
    "    \"\"\"\n",
    "    Calculates P(Sx, Sz | L) for a given joint distribution P(L, Sx, Sz)\n",
    "    \"\"\"\n",
    "    return joint_distribution/np.sum(joint_distribution, axis=0)\n",
    "\n",
    "def calculate_logical_prob_given_syndrome(joint_distribution, sx_idx, sz_idx):\n",
    "    \"\"\"\n",
    "    Calculates P(L | Sx, Sz) for a given joint distribution P(L, Sx, Sz)\n",
    "    \"\"\"\n",
    "    return joint_distribution[:, sx_idx, sz_idx]/np.sum(joint_distribution[:, sx_idx, sz_idx])\n",
    "\n",
    "    "
   ]
  },
  {
   "cell_type": "code",
   "execution_count": 140,
   "metadata": {},
   "outputs": [],
   "source": [
    "def construct_maxlike_decoder_lookup(joint_distribution):\n",
    "    \"\"\"\n",
    "    Construct a lookup table for the maximum likelihood decoder\n",
    "\n",
    "    The lookup table is a dictionary with keys (Sx, Sz) and values L\n",
    "\n",
    "    The value L is the most likely logical error given the syndrome (Sx, Sz)\n",
    "\n",
    "    First, calculate P(Sx, Sz | L) for all L and each Sx, Sz\n",
    "    Then, for each Sx, Sz, find the L that maximizes P(L | Sx, Sz)\n",
    "    \"\"\"\n",
    "    maxlike_decoder_lookup = {}\n",
    "    for sx_idx in range(joint_distribution.shape[1]):\n",
    "        for sz_idx in range(joint_distribution.shape[2]):\n",
    "            prob_given_syndrome = calculate_logical_prob_given_syndrome(joint_distribution, sx_idx, sz_idx)\n",
    "            max_idx = np.argmax(prob_given_syndrome)\n",
    "            maxlike_decoder_lookup[(sx_idx, sz_idx)] = max_idx\n",
    "    return maxlike_decoder_lookup\n",
    "\n",
    "\n",
    "def calculate_ml_decoder_failure_prob(joint_distribution, maxlike_decoder_lookup=None):\n",
    "    \"\"\"\n",
    "    calculate the ML error class decoder failure probability from the joint distribution\n",
    "\n",
    "    Given P(L, Y), calculate the probability of failure of the ML decoder\n",
    "\n",
    "    Calculate \n",
    "    \\sum_{y} Pr(Y=y) Pr(L \\neq L_{ML} | Y=y)\n",
    "\n",
    "    \"\"\"\n",
    "    if maxlike_decoder_lookup is None:\n",
    "        maxlike_decoder_lookup = construct_maxlike_decoder_lookup(joint_distribution)\n",
    "    prob_failure = 0\n",
    "    for sx_idx in range(joint_distribution.shape[1]):\n",
    "        for sz_idx in range(joint_distribution.shape[2]):\n",
    "            maxlike_class = maxlike_decoder_lookup[(sx_idx, sz_idx)]\n",
    "            for logical_idx in range(joint_distribution.shape[0]):\n",
    "                if logical_idx != maxlike_class:\n",
    "                    prob_failure += joint_distribution[logical_idx, sx_idx, sz_idx]\n",
    "    return prob_failure\n",
    "    \n",
    "    \n"
   ]
  },
  {
   "cell_type": "code",
   "execution_count": 114,
   "metadata": {},
   "outputs": [
    {
     "data": {
      "text/plain": [
       "0.039609287007966704"
      ]
     },
     "execution_count": 114,
     "metadata": {},
     "output_type": "execute_result"
    }
   ],
   "source": [
    "ml_decoder_table = construct_maxlike_decoder_lookup(joint_dist)\n",
    "fail_prob = calculate_ml_decoder_failure_prob(joint_dist, ml_decoder_table)\n",
    "fail_prob"
   ]
  },
  {
   "cell_type": "code",
   "execution_count": 130,
   "metadata": {},
   "outputs": [
    {
     "name": "stderr",
     "output_type": "stream",
     "text": [
      "100%|██████████| 262144/262144 [00:19<00:00, 13296.81it/s]\n",
      "100%|██████████| 262144/262144 [00:19<00:00, 13708.32it/s]\n",
      "100%|██████████| 262144/262144 [00:19<00:00, 13572.83it/s]\n",
      "100%|██████████| 262144/262144 [00:19<00:00, 13523.86it/s]\n",
      "100%|██████████| 262144/262144 [00:19<00:00, 13430.56it/s]\n",
      "100%|██████████| 262144/262144 [00:19<00:00, 13208.70it/s]\n"
     ]
    }
   ],
   "source": [
    "rate_range = [1e-4, 5e-4, 1e-3, 5e-3, 1e-2, 5e-2]\n",
    "fail_probs = []\n",
    "for rate in rate_range:\n",
    "    joint_dist = make_joint_distribution(lat, [rate, rate, rate])\n",
    "    ml_decoder_table = construct_maxlike_decoder_lookup(joint_dist)\n",
    "    fail_prob = calculate_ml_decoder_failure_prob(joint_dist, ml_decoder_table)\n",
    "    fail_probs.append(fail_prob)"
   ]
  },
  {
   "cell_type": "code",
   "execution_count": 134,
   "metadata": {},
   "outputs": [
    {
     "data": {
      "text/plain": [
       "(0.0, 0.06)"
      ]
     },
     "execution_count": 134,
     "metadata": {},
     "output_type": "execute_result"
    },
    {
     "data": {
      "image/png": "[encoded data removed]",
      "text/plain": [
       "<Figure size 640x480 with 1 Axes>"
      ]
     },
     "metadata": {},
     "output_type": "display_data"
    }
   ],
   "source": [
    "plt.plot(rate_range, fail_probs)\n",
    "plt.plot((0, 0.05), (0, 0.05), '--')\n",
    "plt.ylim(0, 0.06)"
   ]
  },
  {
   "cell_type": "code",
   "execution_count": 177,
   "metadata": {},
   "outputs": [
    {
     "name": "stderr",
     "output_type": "stream",
     "text": [
      " 30%|██▉       | 78435/262144 [00:05<00:14, 12886.98it/s]"
     ]
    }
   ],
   "source": [
    "rates = [0.01, 0.02, 0.03]\n",
    "joint_dist = make_joint_distribution(lat, rates)"
   ]
  },
  {
   "cell_type": "code",
   "execution_count": 179,
   "metadata": {},
   "outputs": [],
   "source": [
    "def calculate_conditional_entropy_logical_on_stabilizer(joint_distribution):\n",
    "    \"\"\"\n",
    "    Calculates H(L | Sx, Sz) for a given joint distribution P(L, Sx, Sz)\n",
    "    \"\"\"\n",
    "    conditional_entropy = 0\n",
    "    for l_idx in range(joint_distribution.shape[0]):\n",
    "        for sx_idx in range(joint_distribution.shape[1]):\n",
    "            for sz_idx in range(joint_distribution.shape[2]):\n",
    "                p_stab = np.sum(joint_distribution[:, sx_idx, sz_idx])\n",
    "                p_joint = joint_distribution[l_idx, sx_idx, sz_idx]\n",
    "                conditional_entropy += p_joint*np.log2(p_joint/p_stab)\n",
    "    return -conditional_entropy\n",
    "\n",
    "def calculate_logical_entropy(joint_distribution):\n",
    "    \"\"\"\n",
    "    Calculates H(L) for a given joint distribution P(L, Sx, Sz)\n",
    "    \"\"\"\n",
    "    l_marginal = calculate_logical_marginal(joint_distribution)\n",
    "    return -np.sum([p*np.log2(p) for p in l_marginal if p > 0])\n",
    "\n",
    "def calculate_syndrome_entropy(joint_distribution): \n",
    "    \"\"\"\n",
    "    Calculates H(Sx, Sz) for a given joint distribution P(L, Sx, Sz)\n",
    "    \"\"\"\n",
    "    s_marginal = calculate_syndrome_marginal(joint_distribution)\n",
    "    return -np.sum(s_marginal*np.log2(s_marginal), axis=(0, 1))\n",
    "\n",
    "def calculate_joint_entropy(joint_distribution):\n",
    "    \"\"\"\n",
    "    Calculates H(L, Sx, Sz) for a given joint distribution P(L, Sx, Sz)\n",
    "    \"\"\"\n",
    "    return -np.sum(joint_distribution*np.log2(joint_distribution), axis=(0,1,2))"
   ]
  },
  {
   "cell_type": "code",
   "execution_count": 180,
   "metadata": {},
   "outputs": [],
   "source": [
    "p_fail = calculate_ml_decoder_failure_prob(joint_dist)"
   ]
  },
  {
   "cell_type": "code",
   "execution_count": 184,
   "metadata": {},
   "outputs": [
    {
     "name": "stdout",
     "output_type": "stream",
     "text": [
      "Conditional entropy: 0.18760071364365044\n",
      "Logical entropy: 0.979572583887983\n",
      "Syndrome entropy: 2.975090092033515\n",
      "Joint entropy: 3.1626908056771637\n",
      "Mutual information: 0.7919718702443341\n"
     ]
    }
   ],
   "source": [
    "h_cond = calculate_conditional_entropy_logical_on_stabilizer(joint_dist)\n",
    "h_logical = calculate_logical_entropy(joint_dist)\n",
    "h_syn = calculate_syndrome_entropy(joint_dist)\n",
    "h_joint = calculate_joint_entropy(joint_dist)\n",
    "print('Conditional entropy:', h_cond)\n",
    "print('Logical entropy:', h_logical)\n",
    "print('Syndrome entropy:', h_syn)\n",
    "print('Joint entropy:', h_joint)\n",
    "print('Mutual information:', h_logical + h_syn - h_joint)   "
   ]
  },
  {
   "cell_type": "code",
   "execution_count": 186,
   "metadata": {},
   "outputs": [
    {
     "data": {
      "text/plain": [
       "2.787489378389864"
      ]
     },
     "execution_count": 186,
     "metadata": {},
     "output_type": "execute_result"
    }
   ],
   "source": [
    "h_syn - h_cond"
   ]
  },
  {
   "cell_type": "code",
   "execution_count": 185,
   "metadata": {},
   "outputs": [
    {
     "name": "stdout",
     "output_type": "stream",
     "text": [
      "Failure probability: 0.039609287007966704\n",
      "Failure binary entropy: 0.24049790800441861\n"
     ]
    }
   ],
   "source": [
    "print(f\"Failure probability: {p_fail}\")\n",
    "\n",
    "def binary_entropy(p):\n",
    "    return -p*np.log2(p) - (1-p)*np.log2(1-p)\n",
    "\n",
    "print(f\"Failure binary entropy: {binary_entropy(p_fail)}\")"
   ]
  },
  {
   "cell_type": "code",
   "execution_count": 162,
   "metadata": {},
   "outputs": [
    {
     "name": "stdout",
     "output_type": "stream",
     "text": [
      "Succeed probability: 0.9603907129920333\n"
     ]
    }
   ],
   "source": [
    "print(f\"Succeed probability: {1-p_fail}\")"
   ]
  },
  {
   "cell_type": "code",
   "execution_count": 163,
   "metadata": {},
   "outputs": [
    {
     "data": {
      "text/plain": [
       "0.05830664215734947"
      ]
     },
     "execution_count": 163,
     "metadata": {},
     "output_type": "execute_result"
    }
   ],
   "source": [
    "-np.log2(1-p_fail)"
   ]
  },
  {
   "cell_type": "code",
   "execution_count": 164,
   "metadata": {},
   "outputs": [
    {
     "name": "stdout",
     "output_type": "stream",
     "text": [
      "0.979572583887983\n"
     ]
    }
   ],
   "source": [
    "print(h_logical)"
   ]
  },
  {
   "cell_type": "code",
   "execution_count": 165,
   "metadata": {},
   "outputs": [
    {
     "data": {
      "text/plain": [
       "0.8780647808907209"
      ]
     },
     "execution_count": 165,
     "metadata": {},
     "output_type": "execute_result"
    }
   ],
   "source": [
    "2**-h_cond"
   ]
  },
  {
   "cell_type": "code",
   "execution_count": 149,
   "metadata": {},
   "outputs": [
    {
     "data": {
      "text/plain": [
       "[<matplotlib.lines.Line2D at 0x7fcdbaa24790>]"
      ]
     },
     "execution_count": 149,
     "metadata": {},
     "output_type": "execute_result"
    },
    {
     "data": {
      "image/png": "[encoded data removed]",
      "text/plain": [
       "<Figure size 640x480 with 1 Axes>"
      ]
     },
     "metadata": {},
     "output_type": "display_data"
    }
   ],
   "source": [
    "rs = range(1, 10)\n",
    "p_powers = ["
   ]
  },
  {
   "cell_type": "code",
   "execution_count": null,
   "metadata": {},
   "outputs": [],
   "source": []
  }
 ],
 "metadata": {
  "kernelspec": {
   "display_name": "ErrorGenerators",
   "language": "python",
   "name": "python3"
  },
  "language_info": {
   "codemirror_mode": {
    "name": "ipython",
    "version": 3
   },
   "file_extension": ".py",
   "mimetype": "text/x-python",
   "name": "python",
   "nbconvert_exporter": "python",
   "pygments_lexer": "ipython3",
   "version": "3.10.11"
  }
 },
 "nbformat": 4,
 "nbformat_minor": 2
}
