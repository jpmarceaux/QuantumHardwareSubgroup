{
 "cells": [
  {
   "cell_type": "code",
   "execution_count": 17,
   "metadata": {},
   "outputs": [],
   "source": [
    "import numpy as np\n",
    "import matplotlib.pyplot as plt\n",
    "from lib.color_compass import bacon_shor_group, bsgauge_group, pauli2vector, pauli_weight, twisted_product, twisted_prod_mat\n",
    "from termcolor import colored\n",
    "from tqdm import tqdm\n",
    "\n",
    "import pymatching"
   ]
  },
  {
   "cell_type": "code",
   "execution_count": 78,
   "metadata": {},
   "outputs": [],
   "source": [
    "class Lattice2D():\n",
    "    \"\"\"\n",
    "    convention: \n",
    "    X coords extend vertically |\n",
    "    Z coords extend horizontally --\n",
    "    store the coloring as a list with values in {-1, 0, 1}\n",
    "    \n",
    "    Red  ~ -1 ~ Z-type cuts\n",
    "    Blue ~ +1 ~ X-type cuts\n",
    "    White ~ 0\n",
    "    \n",
    "    preallocate logical X and L as cuts accross the lattice\n",
    "    \"\"\"\n",
    "    def __init__(self, dimX, dimZ):\n",
    "        self.dimX = dimX\n",
    "        self.dimZ = dimZ\n",
    "        self.colors = [0] * (dimX-1)*(dimZ-1)\n",
    "        self.stabs = bacon_shor_group(dimX, dimZ)\n",
    "        self.gauge = bsgauge_group(dimX, dimZ)\n",
    "        self.Lx = ''.join(['X']*dimX+['_']*dimX*(dimZ-1))\n",
    "        self.Lz = ''.join((['Z']+['_']*(dimX-1))*dimZ)\n",
    "        self.logicals = [self.Lx,self.Lz]\n",
    "        \n",
    "    def size(self):\n",
    "        return self.dimX*self.dimZ\n",
    "        \n",
    "    def __str__(self):\n",
    "        vertex_rows = []\n",
    "        face_rows = []\n",
    "        dimX = self.dimX\n",
    "        dimZ = self.dimZ\n",
    "        for i in range(dimX):\n",
    "            vertex_string = ''\n",
    "            for j in range(dimZ):\n",
    "                vertex_string += str(i*dimZ + j).zfill(3)\n",
    "                if (j != dimZ-1):\n",
    "                    vertex_string += '---'\n",
    "            vertex_rows.append(vertex_string)\n",
    "                \n",
    "        for i in range(dimX-1):\n",
    "            face_string = ''\n",
    "            for j in range(dimZ-1):\n",
    "                if(self.colors[i*(dimZ-1) + j] == -1):\n",
    "                    face_string += ' | '+colored(' # ', 'red')\n",
    "                elif(self.colors[i*(dimZ-1) + j] == +1):\n",
    "                    face_string += ' | '+colored(' # ', 'blue')\n",
    "                elif(self.colors[i*(dimZ-1) + j] == 0):\n",
    "                    face_string += ' |    '\n",
    "                else:\n",
    "                    raise ValueError(f'Invalid color type {self.colors[i*dimZ+j]}')\n",
    "                if j == dimZ-2:\n",
    "                    face_string += ' |'\n",
    "            face_rows.append(face_string)\n",
    "        sout = ''\n",
    "        for idx, row in enumerate(vertex_rows):\n",
    "            sout += row +'\\n'\n",
    "            if idx != len(vertex_rows)-1:\n",
    "                sout += face_rows[idx]+'\\n'\n",
    "        return sout\n",
    "    \n",
    "    def size(self):\n",
    "        return self.dimX*self.dimZ\n",
    "    \n",
    "    def getG(self):\n",
    "        return self.gauge[0]+self.gauge[1]\n",
    "    \n",
    "    def getGx(self):\n",
    "        return self.gauge[0]\n",
    "    \n",
    "    def getGz(self):\n",
    "        return self.gauge[1]\n",
    "    \n",
    "    def getS(self):\n",
    "        return self.stabs[0]+self.stabs[1]\n",
    "    \n",
    "    def getSx(self):\n",
    "        return self.stabs[0]\n",
    "    \n",
    "    def getSz(self):\n",
    "        return self.stabs[1]\n",
    "    \n",
    "    def getDims(self):\n",
    "        return (self.dimX, self.dimZ)\n",
    "    \n",
    "    def max_stab_number(self):\n",
    "        return self.dimX*self.dimZ - 1\n",
    "    \n",
    "    def pcheckZ(self):\n",
    "        \"\"\"returns the Z parity check matrix\"\"\"\n",
    "        return np.vstack([pauli2vector(s) for s in self.getSz()])\n",
    "        \n",
    "    def pcheckX(self):\n",
    "        \"\"\"returns the X parity check matrix\"\"\"\n",
    "        return np.vstack([pauli2vector(s) for s in self.getSx()])\n",
    "    \n",
    "    def parity_check_matrix(self):\n",
    "        \"\"\"returns the full parity check matrix\"\"\"\n",
    "        return np.vstack([self.pcheckX(), self.pcheckZ()])\n",
    "    \n",
    "    def display(self, pauli):\n",
    "        dimX = self.dimX\n",
    "        dimZ = self.dimZ\n",
    "        if (len(pauli) != dimX*dimZ):\n",
    "            raise ValueError(\"Pauli string dimension mismatch with lattice size\")\n",
    "        sout = ''\n",
    "        slist = list(pauli)\n",
    "        for i in range(dimX):\n",
    "            for j in range(dimZ):\n",
    "                if slist[i*dimZ+j] == 'X':\n",
    "                    sout += ' X '\n",
    "                elif slist[i*dimZ+j] == 'Z':\n",
    "                    sout += ' Z '\n",
    "                else:\n",
    "                    sout += '   '\n",
    "                if (j != dimZ-1):\n",
    "                    sout += '---'\n",
    "            if (i != dimX -1):\n",
    "                sout += '\\n'\n",
    "                sout += ' |    '*dimZ\n",
    "            sout += '\\n'\n",
    "        print(sout)\n",
    "        \n",
    "    def color_lattice(self, colors):\n",
    "        \"\"\"\n",
    "        replace color state with input and recalculate stab and gauge groups \n",
    "        \"\"\"\n",
    "        dimX = self.dimX-1\n",
    "        dimZ = self.dimZ-1\n",
    "        if(len(colors) != dimX*dimZ):\n",
    "            raise ValueError(\"Color dimension mismatch with lattice size\")\n",
    "        \n",
    "        self.stabs = bacon_shor_group(self.dimX, self.dimZ)\n",
    "        self.gauge = bsgauge_group(self.dimX, self.dimZ)\n",
    "        self.colors = colors\n",
    "        \n",
    "        \n",
    "        for cidx, c in enumerate(colors):\n",
    "            if c == -1:\n",
    "                self.update_groups((int(np.floor(cidx/dimZ)), cidx%dimZ), -1)\n",
    "            elif c == +1:\n",
    "                self.update_groups((int(np.floor(cidx/dimZ)), cidx%dimZ), +1)\n",
    "        \n",
    "        \n",
    "    def update_groups(self, coords, cut_type):\n",
    "        \"\"\"\n",
    "        cut the stabilizer group by coloring the face with the given type\n",
    "            AND\n",
    "        update the gauge group \n",
    "    \n",
    "        algo: \n",
    "        [0] pick the gauge operator g to cut around\n",
    "        [1] find s \\in S that has weight-2 overlap with g\n",
    "        [2] divide that s \n",
    "        [3] update the gauge group \n",
    "        \"\"\"\n",
    "        (i, j) = coords\n",
    "        dimX = self.dimX\n",
    "        dimZ = self.dimZ\n",
    "        [Sx, Sz] = self.getSx(), self.getSz()\n",
    "        [Gx, Gz] = self.getGx(), self.getGz()\n",
    "        \n",
    "        if cut_type == -1:\n",
    "            # -1 = red which is a Z-cut\n",
    "            g = ['_'] * dimX*dimZ\n",
    "            g[i*dimZ + j] = 'Z'\n",
    "            g[i*dimZ + j + 1] = 'Z'\n",
    "            \n",
    "            gvec = pauli2vector(''.join(g))\n",
    "            \n",
    "            # cut the relevant stabilizer\n",
    "            for idx, s in enumerate(Sz):\n",
    "                # find the overlapping stabilizer\n",
    "                if pauli_weight(np.bitwise_xor(gvec, pauli2vector(s))) == pauli_weight(s) - 2:\n",
    "                    # cut s into two vertical parts \n",
    "                    s1 = ['_'] * dimX*dimZ\n",
    "                    s2 = ['_'] * dimX*dimZ\n",
    "                    for k in range(0, i+1):\n",
    "                        s1[k*dimZ + j] = s[k*dimZ + j]\n",
    "                        s1[k*dimZ + j+1] = s[k*dimZ + j+1]\n",
    "                    for k in range(i+1, dimX):\n",
    "                        s2[k*dimZ + j] = s[k*dimZ + j]\n",
    "                        s2[k*dimZ + j+1] = s[k*dimZ + j+1]\n",
    "                    del Sz[idx]\n",
    "                    Sz.append(''.join(s1))\n",
    "                    Sz.append(''.join(s2))\n",
    "                    break\n",
    "            \n",
    "            # make new gauge operator and update gauge group \n",
    "            gauge = ['_'] * dimX*dimZ\n",
    "            for k in range(0, j+1):\n",
    "                gauge[k + i*dimZ] = 'Z'\n",
    "                gauge[k + i*dimZ + 1] = 'Z'\n",
    "            Gx_new = []\n",
    "            for g in Gx:\n",
    "                if twisted_product(pauli2vector(''.join(g)), pauli2vector(''.join(gauge))) == 0:\n",
    "                    Gx_new.append(g)\n",
    "            Gx = Gx_new\n",
    "                \n",
    "        elif cut_type == +1:\n",
    "            # +1 = blue that is a X-cut:\n",
    "            g = ['_'] * dimX*dimZ\n",
    "            g[i*dimZ + j] = 'X'\n",
    "            g[(i+1)*dimZ + j ] = 'X'\n",
    "            \n",
    "            gvec = pauli2vector(''.join(g))\n",
    "            \n",
    "            # cut the relevant stabilizer\n",
    "            for idx, s in enumerate(Sx):\n",
    "                # find the overlapping stabilizer\n",
    "                if pauli_weight(np.bitwise_xor(gvec, pauli2vector(s))) == pauli_weight(s) - 2:\n",
    "                    # cut s into two horizontal parts \n",
    "                    s1 = ['_'] * dimX*dimZ\n",
    "                    s2 = ['_'] * dimX*dimZ\n",
    "                    for k in range(0, j+1):\n",
    "                        s1[i*dimZ + k] = s[i*dimZ + k]\n",
    "                        s1[(i+1)*dimZ + k] = s[(i+1)*dimZ + k]\n",
    "                    for k in range(j+1, dimZ):\n",
    "                        s2[i*dimZ + k] = s[i*dimZ + k]\n",
    "                        s2[(i+1)*dimZ + k] = s[(i+1)*dimZ + k]\n",
    "                    del Sx[idx]\n",
    "                    Sx.append(''.join(s1))\n",
    "                    Sx.append(''.join(s2))\n",
    "                    break\n",
    "            \n",
    "            # make new gauge operator and update gauge group \n",
    "            gauge = ['_'] * dimX*dimZ\n",
    "            for k in range(0, j+1):\n",
    "                gauge[k + i*dimZ] = 'X'\n",
    "                gauge[k + (i+1)*dimZ] = 'X'\n",
    "            Gz_new = []\n",
    "            for g in Gz:\n",
    "                if twisted_product(pauli2vector(''.join(g)), pauli2vector(''.join(gauge))) == 0:\n",
    "                    Gz_new.append(g)\n",
    "            Gz = Gz_new\n",
    "\n",
    "        # update the groups\n",
    "        self.stabs = [Sx, Sz]\n",
    "        self.gauge = [Gx, Gz]\n",
    "        \n",
    "    # def error_is_corrected(self, syn, l_1, l_2, l_op):\n",
    "    #     #syn is a vector of syndrome measurements, which has the Sx syndrome bits first\n",
    "    #     #l_1, l_2 are booleans corresponding to the logical operator measurement\n",
    "    #     #l_op is the logical operator we're measuring, written as a stim Pauli string\n",
    "\n",
    "    #     #also need to know the stabilizers to feed into the decoder\n",
    "\n",
    "    #     #check parity of l_1, l_2. If they are the same: no logical error\n",
    "    #     #If they are different: logical error\n",
    "    #     logical_error = ((l_1+l_2) % 2 == 0)\n",
    "\n",
    "    #     #syndrome measurement gives a syndrome s. Feed into decoder to get a correction operator c\n",
    "    #     #set up decoder\n",
    "    #     Sx = lat.getSx()\n",
    "    #     Sz = lat.getSz()\n",
    "    #     Hx = np.array([[1 if i != '_' else 0 for i in s] for s in Sx])\n",
    "    #     Hz = np.array([[1 if i != '_' else 0 for i in s] for s in Sz])\n",
    "    #     Mx = Matching(Hx)\n",
    "    #     Mz = Matching(Hz)\n",
    "\n",
    "    #     #obtain correction operator\n",
    "    #     cx = Mx.decode(syn[:len(Sx)])\n",
    "    #     cz = Mz.decode(syn[len(Sx):])\n",
    "    #     Rx = stim.PauliString(''.join(['X' if i == 1 else '_' for i in cx]))\n",
    "    #     Rz = stim.PauliString(''.join(['Z' if i == 1 else '_' for i in cz]))\n",
    "\n",
    "    #     correction_op = Rx*Rz\n",
    "\n",
    "\n",
    "\n",
    "    #     #check [c, l]\n",
    "    #         #If l_1 = l_2 and [c, l_op] = 0, then the error has been properly corrected\n",
    "    #         #in that c keeps the proper eigenstate\n",
    "    #         #If l_1 = l_2 and [c, l_op] \\neq 0, then the decoder takes the state out of the correct eigenstate\n",
    "    #         #If l_1 \\neq l_2 and [c,l_op] = 0, then the decoder fails to correct the error\n",
    "    #         #If l_1 \\neq l_2 and [c, l_op] \\neq 0, then the decoder properly corrects the error\n",
    "    #     is_corrected = (correction_op.commutes(l_op) != logical_error)\n",
    "\n",
    "    #     return is_corrected\n",
    "\n",
    "\n",
    "def make_surface_code_lattice(dimX,dimZ,start='X'):\n",
    "    if start == 'X':\n",
    "        first_two_cells = [1,-1]\n",
    "    elif start == 'Z':\n",
    "        first_two_cells = [-1,1]\n",
    "    first_row = (first_two_cells*int(np.ceil(dimZ/2)))\n",
    "    first_two_rows = first_row[:dimZ-1] + first_row[1:dimZ]\n",
    "    whole_lattice = first_two_rows*int(np.ceil(dimX/2))\n",
    "    whole_lattice = whole_lattice[:(dimZ-1)*(dimX-1)]\n",
    "    lat = Lattice2D(dimX, dimZ)\n",
    "    lat.color_lattice(whole_lattice)\n",
    "    return lat"
   ]
  },
  {
   "cell_type": "code",
   "execution_count": 79,
   "metadata": {},
   "outputs": [],
   "source": [
    "def generate_all_pauli_strings(n):\n",
    "    \"\"\"\n",
    "    generate all possible n-qubit Pauli strings\n",
    "    \"\"\"\n",
    "    if n == 1:\n",
    "        return ['I', 'X', 'Y', 'Z']\n",
    "    else:\n",
    "        return [p + q for p in generate_all_pauli_strings(1) for q in generate_all_pauli_strings(n-1)]\n",
    "    \n",
    "def index_to_pauli_string(idx, n):\n",
    "    \"\"\"\n",
    "    convert an index to a Pauli string by converting the index to quaternary\n",
    "    \"\"\"\n",
    "    return np.base_repr(idx, base=4).zfill(n).replace('0', 'I').replace('1', 'X').replace('2', 'Y').replace('3', 'Z')"
   ]
  },
  {
   "cell_type": "code",
   "execution_count": 80,
   "metadata": {},
   "outputs": [
    {
     "name": "stdout",
     "output_type": "stream",
     "text": [
      "000---001---002\n",
      " | \u001b[34m # \u001b[0m | \u001b[31m # \u001b[0m |\n",
      "003---004---005\n",
      " | \u001b[31m # \u001b[0m | \u001b[34m # \u001b[0m |\n",
      "006---007---008\n",
      "\n"
     ]
    }
   ],
   "source": [
    "lat = make_surface_code_lattice(3,3)\n",
    "print(lat)\n"
   ]
  },
  {
   "cell_type": "code",
   "execution_count": 82,
   "metadata": {},
   "outputs": [
    {
     "data": {
      "text/plain": [
       "array([[1, 0, 0, 1, 0, 0, 0, 0, 0, 0, 0, 0, 0, 0, 0, 0, 0, 0],\n",
       "       [0, 1, 1, 0, 1, 1, 0, 0, 0, 0, 0, 0, 0, 0, 0, 0, 0, 0],\n",
       "       [0, 0, 0, 1, 1, 0, 1, 1, 0, 0, 0, 0, 0, 0, 0, 0, 0, 0],\n",
       "       [0, 0, 0, 0, 0, 1, 0, 0, 1, 0, 0, 0, 0, 0, 0, 0, 0, 0],\n",
       "       [0, 0, 0, 0, 0, 0, 0, 0, 0, 0, 1, 1, 0, 0, 0, 0, 0, 0],\n",
       "       [0, 0, 0, 0, 0, 0, 0, 0, 0, 0, 0, 0, 0, 1, 1, 0, 1, 1],\n",
       "       [0, 0, 0, 0, 0, 0, 0, 0, 0, 1, 1, 0, 1, 1, 0, 0, 0, 0],\n",
       "       [0, 0, 0, 0, 0, 0, 0, 0, 0, 0, 0, 0, 0, 0, 0, 1, 1, 0]])"
      ]
     },
     "execution_count": 82,
     "metadata": {},
     "output_type": "execute_result"
    }
   ],
   "source": [
    "parity_check_matrix = lat.parity_check_matrix()\n",
    "parity_check_matrix"
   ]
  },
  {
   "cell_type": "code",
   "execution_count": 83,
   "metadata": {},
   "outputs": [
    {
     "data": {
      "text/plain": [
       "(8, 18)"
      ]
     },
     "execution_count": 83,
     "metadata": {},
     "output_type": "execute_result"
    }
   ],
   "source": [
    "parity_check_matrix.shape"
   ]
  },
  {
   "cell_type": "code",
   "execution_count": 84,
   "metadata": {},
   "outputs": [],
   "source": [
    "g = generate_all_pauli_strings(8)"
   ]
  },
  {
   "cell_type": "code",
   "execution_count": 85,
   "metadata": {},
   "outputs": [
    {
     "data": {
      "text/plain": [
       "(8, 18)"
      ]
     },
     "execution_count": 85,
     "metadata": {},
     "output_type": "execute_result"
    }
   ],
   "source": [
    "parity_check_matrix.shape"
   ]
  },
  {
   "cell_type": "code",
   "execution_count": 115,
   "metadata": {},
   "outputs": [],
   "source": [
    "def calculate_stabilizer_entropy_exact(parity_check_mat, error_distribution_func, error_rates):\n",
    "    num_qubits = parity_check_mat.shape[1]/2\n",
    "    assert num_qubits == int(num_qubits)\n",
    "    num_qubits = int(num_qubits)\n",
    "    syndrome_weight_dict = {}\n",
    "    for i in tqdm(range(4**num_qubits)):\n",
    "        pauli_string = index_to_pauli_string(i, num_qubits)\n",
    "        pauli_bitstring = pauli2vector(pauli_string)\n",
    "        syndrome = twisted_prod_mat(parity_check_mat, pauli_bitstring)\n",
    "        syndrome_string = ''.join([str(int(s)) for s in syndrome])\n",
    "        prob = error_distribution_func(pauli_string, *error_rates)\n",
    "        if syndrome_string in syndrome_weight_dict.keys():\n",
    "            syndrome_weight_dict[syndrome_string] += prob\n",
    "        else:\n",
    "            syndrome_weight_dict[syndrome_string] = prob\n",
    "    return -np.sum([p*np.log2(p) for p in syndrome_weight_dict.values()])\n",
    "\n",
    "def random_pauli(rates):\n",
    "    p_i = 1-sum(rates)\n",
    "    return np.random.choice(['I', 'X', 'Y', 'Z'], p=[p_i, rates[0], rates[1], rates[2]])\n",
    "\n",
    "def calculate_stabilizer_entropy_emperical(parity_check_mat, error_distribution_func, error_rates, num_samples):\n",
    "    num_qubits = parity_check_mat.shape[1]/2\n",
    "    assert num_qubits == int(num_qubits)\n",
    "    num_qubits = int(num_qubits)\n",
    "    syndrome_weight_dict = {}\n",
    "    for i in range(num_samples):\n",
    "        pauli_string = ''.join([random_pauli(error_rates) for _ in range(num_qubits)])\n",
    "        pauli_bitstring = pauli2vector(pauli_string)\n",
    "        syndrome = twisted_prod_mat(parity_check_mat, pauli_bitstring)\n",
    "        syndrome_string = ''.join([str(int(s)) for s in syndrome])\n",
    "        if syndrome_string in syndrome_weight_dict.keys():\n",
    "            syndrome_weight_dict[syndrome_string] += 1/num_samples\n",
    "        else:\n",
    "            syndrome_weight_dict[syndrome_string] = 1/num_samples\n",
    "    return -np.sum([p*np.log2(p) for p in syndrome_weight_dict.values()])"
   ]
  },
  {
   "cell_type": "code",
   "execution_count": 107,
   "metadata": {},
   "outputs": [
    {
     "data": {
      "text/plain": [
       "262144"
      ]
     },
     "execution_count": 107,
     "metadata": {},
     "output_type": "execute_result"
    }
   ],
   "source": [
    "4**9"
   ]
  },
  {
   "cell_type": "code",
   "execution_count": null,
   "metadata": {},
   "outputs": [],
   "source": []
  },
  {
   "cell_type": "code",
   "execution_count": 88,
   "metadata": {},
   "outputs": [],
   "source": [
    "def error_distribution_func(pauli_string, px, py, pz):\n",
    "    probs = {'I': 1-px-py-pz, 'X': px, 'Y': py, 'Z': pz}\n",
    "    # prob is the joint probability of the error string\n",
    "    prob = 1\n",
    "    for p in pauli_string:\n",
    "        prob *= probs[p]\n",
    "    return prob"
   ]
  },
  {
   "cell_type": "code",
   "execution_count": 102,
   "metadata": {},
   "outputs": [
    {
     "name": "stderr",
     "output_type": "stream",
     "text": [
      "  0%|          | 0/262144 [00:00<?, ?it/s]"
     ]
    },
    {
     "name": "stderr",
     "output_type": "stream",
     "text": [
      "100%|██████████| 262144/262144 [00:04<00:00, 56342.29it/s]\n"
     ]
    },
    {
     "data": {
      "text/plain": [
       "3.3840779991101404"
      ]
     },
     "execution_count": 102,
     "metadata": {},
     "output_type": "execute_result"
    }
   ],
   "source": [
    "rates = [0.01, 0.01, 0.05]\n",
    "calculate_stabilizer_entropy_exact(parity_check_matrix, error_distribution_func, rates)"
   ]
  },
  {
   "cell_type": "code",
   "execution_count": 90,
   "metadata": {},
   "outputs": [],
   "source": [
    "import itertools as _itr"
   ]
  },
  {
   "cell_type": "code",
   "execution_count": 91,
   "metadata": {},
   "outputs": [],
   "source": [
    "# make all 3x3 lattices\n",
    "# first make all length-4 lists of elements in {-1, 0, 1}\n",
    "# then make all 3x3 lattices\n",
    "# then calculate the entropy of each lattice\n",
    "# then plot the entropy of each lattice\n",
    "# then calculate the entropy of each lattice with a depolarizing channel\n",
    "# then plot the entropy of each lattice with a depolarizing channel\n",
    "\n",
    "all_colorings = _itr.product([-1, 0, 1], repeat=4)\n",
    "\n",
    "\n",
    "lattices = []\n",
    "for i in all_colorings:\n",
    "    lat = make_surface_code_lattice(3,3)\n",
    "    lat.color_lattice(i)\n",
    "    lattices.append(lat)"
   ]
  },
  {
   "cell_type": "code",
   "execution_count": 93,
   "metadata": {},
   "outputs": [
    {
     "name": "stderr",
     "output_type": "stream",
     "text": [
      "100%|██████████| 262144/262144 [00:04<00:00, 54825.53it/s]\n",
      "100%|██████████| 262144/262144 [00:04<00:00, 56266.19it/s]\n",
      "100%|██████████| 262144/262144 [00:04<00:00, 54699.55it/s]\n",
      "100%|██████████| 262144/262144 [00:04<00:00, 55317.80it/s]\n",
      "100%|██████████| 262144/262144 [00:04<00:00, 55635.56it/s]\n",
      "100%|██████████| 262144/262144 [00:04<00:00, 55930.49it/s]\n",
      "100%|██████████| 262144/262144 [00:04<00:00, 55501.30it/s]\n",
      "100%|██████████| 262144/262144 [00:04<00:00, 55212.64it/s]\n",
      "100%|██████████| 262144/262144 [00:04<00:00, 55479.12it/s]\n",
      "100%|██████████| 262144/262144 [00:04<00:00, 54813.44it/s]\n",
      "100%|██████████| 262144/262144 [00:04<00:00, 56978.83it/s]\n",
      "100%|██████████| 262144/262144 [00:04<00:00, 56604.09it/s]\n",
      "100%|██████████| 262144/262144 [00:04<00:00, 57952.51it/s]\n",
      "100%|██████████| 262144/262144 [00:04<00:00, 57672.62it/s]\n",
      "100%|██████████| 262144/262144 [00:04<00:00, 57247.93it/s]\n",
      "100%|██████████| 262144/262144 [00:04<00:00, 56516.82it/s]\n",
      "100%|██████████| 262144/262144 [00:04<00:00, 58293.63it/s]\n",
      "100%|██████████| 262144/262144 [00:04<00:00, 56678.69it/s]\n",
      "100%|██████████| 262144/262144 [00:04<00:00, 56459.81it/s]\n",
      "100%|██████████| 262144/262144 [00:04<00:00, 56411.34it/s]\n",
      "100%|██████████| 262144/262144 [00:04<00:00, 55493.63it/s]\n",
      "100%|██████████| 262144/262144 [00:04<00:00, 56617.31it/s]\n",
      "100%|██████████| 262144/262144 [00:04<00:00, 57065.15it/s]\n",
      "100%|██████████| 262144/262144 [00:04<00:00, 57179.09it/s]\n",
      "100%|██████████| 262144/262144 [00:04<00:00, 57268.73it/s]\n",
      "100%|██████████| 262144/262144 [00:04<00:00, 57157.16it/s]\n",
      "100%|██████████| 262144/262144 [00:04<00:00, 56224.28it/s]\n",
      "100%|██████████| 262144/262144 [00:04<00:00, 55954.15it/s]\n",
      "100%|██████████| 262144/262144 [00:04<00:00, 55949.26it/s]\n",
      "100%|██████████| 262144/262144 [00:04<00:00, 56383.98it/s]\n",
      "100%|██████████| 262144/262144 [00:04<00:00, 55401.46it/s]\n",
      "100%|██████████| 262144/262144 [00:04<00:00, 57358.48it/s]\n",
      "100%|██████████| 262144/262144 [00:04<00:00, 55943.69it/s]\n",
      "100%|██████████| 262144/262144 [00:04<00:00, 57132.06it/s]\n",
      "100%|██████████| 262144/262144 [00:04<00:00, 56632.22it/s]\n",
      "100%|██████████| 262144/262144 [00:04<00:00, 56108.69it/s]\n",
      "100%|██████████| 262144/262144 [00:04<00:00, 56707.31it/s]\n",
      "100%|██████████| 262144/262144 [00:04<00:00, 57130.51it/s]\n",
      "100%|██████████| 262144/262144 [00:04<00:00, 57482.27it/s]\n",
      "100%|██████████| 262144/262144 [00:04<00:00, 58480.98it/s]\n",
      "100%|██████████| 262144/262144 [00:04<00:00, 57032.82it/s]\n",
      "100%|██████████| 262144/262144 [00:04<00:00, 57571.00it/s]\n",
      "100%|██████████| 262144/262144 [00:04<00:00, 57320.82it/s]\n",
      "100%|██████████| 262144/262144 [00:04<00:00, 58475.51it/s]\n",
      "100%|██████████| 262144/262144 [00:04<00:00, 56015.54it/s]\n",
      "100%|██████████| 262144/262144 [00:04<00:00, 54974.66it/s]\n",
      "100%|██████████| 262144/262144 [00:04<00:00, 55724.75it/s]\n",
      "100%|██████████| 262144/262144 [00:04<00:00, 55026.18it/s]\n",
      "100%|██████████| 262144/262144 [00:04<00:00, 58009.56it/s]\n",
      "100%|██████████| 262144/262144 [00:04<00:00, 59827.85it/s]\n",
      "100%|██████████| 262144/262144 [00:04<00:00, 57519.32it/s]\n",
      "100%|██████████| 262144/262144 [00:04<00:00, 57151.15it/s]\n",
      "100%|██████████| 262144/262144 [00:04<00:00, 56829.63it/s]\n",
      "100%|██████████| 262144/262144 [00:04<00:00, 56906.06it/s]\n",
      "100%|██████████| 262144/262144 [00:04<00:00, 54331.33it/s]\n",
      "100%|██████████| 262144/262144 [00:04<00:00, 56393.36it/s]\n",
      "100%|██████████| 262144/262144 [00:04<00:00, 55590.22it/s]\n",
      "100%|██████████| 262144/262144 [00:04<00:00, 55561.14it/s]\n",
      "100%|██████████| 262144/262144 [00:04<00:00, 57496.23it/s]\n",
      "100%|██████████| 262144/262144 [00:04<00:00, 57031.83it/s]\n",
      "100%|██████████| 262144/262144 [00:04<00:00, 55736.97it/s]\n",
      "100%|██████████| 262144/262144 [00:04<00:00, 57729.97it/s]\n",
      "100%|██████████| 262144/262144 [00:04<00:00, 56947.28it/s]\n",
      "100%|██████████| 262144/262144 [00:04<00:00, 56760.30it/s]\n",
      "100%|██████████| 262144/262144 [00:04<00:00, 57552.22it/s]\n",
      "100%|██████████| 262144/262144 [00:04<00:00, 56956.06it/s]\n",
      "100%|██████████| 262144/262144 [00:04<00:00, 56847.94it/s]\n",
      "100%|██████████| 262144/262144 [00:04<00:00, 58274.14it/s]\n",
      "100%|██████████| 262144/262144 [00:04<00:00, 58029.65it/s]\n",
      "100%|██████████| 262144/262144 [00:04<00:00, 56955.07it/s]\n",
      "100%|██████████| 262144/262144 [00:04<00:00, 57566.15it/s]\n",
      "100%|██████████| 262144/262144 [00:04<00:00, 58208.26it/s]\n",
      "100%|██████████| 262144/262144 [00:04<00:00, 56466.53it/s]\n",
      "100%|██████████| 262144/262144 [00:04<00:00, 56214.76it/s]\n",
      "100%|██████████| 262144/262144 [00:04<00:00, 55844.51it/s]\n",
      "100%|██████████| 262144/262144 [00:04<00:00, 56759.27it/s]\n",
      "100%|██████████| 262144/262144 [00:04<00:00, 56804.49it/s]\n",
      "100%|██████████| 262144/262144 [00:04<00:00, 56470.55it/s]\n",
      "100%|██████████| 262144/262144 [00:04<00:00, 55741.81it/s]\n",
      "100%|██████████| 262144/262144 [00:04<00:00, 55901.18it/s]\n",
      "100%|██████████| 262144/262144 [00:04<00:00, 55630.49it/s]\n",
      "100%|██████████| 81/81 [06:15<00:00,  4.64s/it]\n"
     ]
    }
   ],
   "source": [
    "rates = [0.01, 0.01, 0.05]\n",
    "entropies = []\n",
    "for l in tqdm(lattices):\n",
    "    entropies.append(calculate_stabilizer_entropy_exact(l.parity_check_matrix(), error_distribution_func, rates))"
   ]
  },
  {
   "cell_type": "code",
   "execution_count": 94,
   "metadata": {},
   "outputs": [
    {
     "data": {
      "text/plain": [
       "[2.8027397537313523,\n",
       " 2.752759383454711,\n",
       " 3.105688937530992,\n",
       " 2.75275938345471,\n",
       " 2.670600410106795,\n",
       " 3.025327411576127,\n",
       " 3.105688937530992,\n",
       " 3.025327411576127,\n",
       " 3.2916246107179754,\n",
       " 2.752759383454708,\n",
       " 2.6792037164941234,\n",
       " 3.0377913412069306,\n",
       " 2.699855705589257,\n",
       " 2.5963864062654096,\n",
       " 2.956516573120269,\n",
       " 3.05565235287865,\n",
       " 2.9551616696033163,\n",
       " 3.22526347625935,\n",
       " 3.1056889375309913,\n",
       " 3.0377913412069244,\n",
       " 3.3063796578157536,\n",
       " 3.055652352878643,\n",
       " 2.9586002621934093,\n",
       " 3.2296106116794023,\n",
       " 3.3840779991101426,\n",
       " 3.2899772674736196,\n",
       " 3.494982879387946,\n",
       " 2.7527593834547086,\n",
       " 2.6998557055892562,\n",
       " 3.05565235287865,\n",
       " 2.6792037164941207,\n",
       " 2.5963864062654043,\n",
       " 2.9551616696033127,\n",
       " 3.03779134120693,\n",
       " 2.956516573120262,\n",
       " 3.225263476259353,\n",
       " 2.6706004101067933,\n",
       " 2.596386406265408,\n",
       " 2.9586002621934284,\n",
       " 2.5963864062654034,\n",
       " 2.4797325905972922,\n",
       " 2.845111144095014,\n",
       " 2.9586002621934284,\n",
       " 2.8451111440950134,\n",
       " 3.1192847503714747,\n",
       " 3.0253274115761184,\n",
       " 2.9565165731202487,\n",
       " 3.2296106116794028,\n",
       " 2.955161669603297,\n",
       " 2.845111144094984,\n",
       " 3.1210945675978747,\n",
       " 3.289977267473618,\n",
       " 3.183431109770757,\n",
       " 3.3923922361921637,\n",
       " 3.105688937530993,\n",
       " 3.05565235287865,\n",
       " 3.3840779991101404,\n",
       " 3.0377913412069324,\n",
       " 2.9586002621934306,\n",
       " 3.2899772674736187,\n",
       " 3.3063796578157527,\n",
       " 3.2296106116794006,\n",
       " 3.4949828793879463,\n",
       " 3.0253274115761224,\n",
       " 2.9551616696033163,\n",
       " 3.2899772674736165,\n",
       " 2.9565165731202607,\n",
       " 2.8451111440950245,\n",
       " 3.183431109770754,\n",
       " 3.2296106116793997,\n",
       " 3.1210945675978916,\n",
       " 3.3923922361921575,\n",
       " 3.2916246107179776,\n",
       " 3.2252634762593564,\n",
       " 3.4949828793879445,\n",
       " 3.2252634762593546,\n",
       " 3.119284750371479,\n",
       " 3.3923922361921592,\n",
       " 3.494982879387945,\n",
       " 3.3923922361921557,\n",
       " 3.5860513775477365]"
      ]
     },
     "execution_count": 94,
     "metadata": {},
     "output_type": "execute_result"
    }
   ],
   "source": [
    "entropies"
   ]
  },
  {
   "cell_type": "code",
   "execution_count": 95,
   "metadata": {},
   "outputs": [],
   "source": [
    "# get index of the max entropy\n",
    "max_idx = np.argmax(entropies)"
   ]
  },
  {
   "cell_type": "code",
   "execution_count": 96,
   "metadata": {},
   "outputs": [
    {
     "name": "stdout",
     "output_type": "stream",
     "text": [
      "000---001---002\n",
      " | \u001b[34m # \u001b[0m | \u001b[34m # \u001b[0m |\n",
      "003---004---005\n",
      " | \u001b[34m # \u001b[0m | \u001b[34m # \u001b[0m |\n",
      "006---007---008\n",
      "\n"
     ]
    }
   ],
   "source": [
    "print(lattices[max_idx])"
   ]
  },
  {
   "cell_type": "code",
   "execution_count": 101,
   "metadata": {},
   "outputs": [
    {
     "data": {
      "text/plain": [
       "3.5860513775477365"
      ]
     },
     "execution_count": 101,
     "metadata": {},
     "output_type": "execute_result"
    }
   ],
   "source": [
    "entropies[max_idx]"
   ]
  },
  {
   "cell_type": "code",
   "execution_count": 117,
   "metadata": {},
   "outputs": [
    {
     "name": "stderr",
     "output_type": "stream",
     "text": [
      " 23%|██▎       | 19/81 [00:37<02:04,  2.01s/it]"
     ]
    }
   ],
   "source": [
    "approx_entropies = []\n",
    "for l in tqdm(lattices):\n",
    "    approx_entropies.append(calculate_stabilizer_entropy_emperical(l.parity_check_matrix(), error_distribution_func, rates, 1000))"
   ]
  },
  {
   "cell_type": "code",
   "execution_count": 116,
   "metadata": {},
   "outputs": [
    {
     "name": "stdout",
     "output_type": "stream",
     "text": [
      "[ 0.0942314  -0.01324355 -0.01317728  0.04466563  0.10731451 -0.01910016\n",
      "  0.1173792   0.06466139  0.0646812  -0.06642519  0.03975739  0.05788281\n",
      "  0.01567762 -0.02077428  0.06427034  0.13222315  0.04971246  0.04451707\n",
      "  0.21948158  0.23199594  0.1129785   0.03430621  0.0890309   0.11141723\n",
      "  0.03032848  0.02830469  0.21107173  0.03580275  0.01091599  0.12962905\n",
      "  0.10690677  0.01019015  0.02187194  0.28211547 -0.09002567 -0.01684141\n",
      "  0.06623323  0.18221988 -0.04061239 -0.06656623 -0.01040847  0.04697581\n",
      " -0.06268592  0.09165467  0.13252082  0.00196252  0.06708011  0.19232651\n",
      "  0.04196153 -0.02699652  0.03912775  0.12915131  0.04742969  0.08174643\n",
      "  0.07484479 -0.02705361  0.08289333  0.07161465 -0.02039262 -0.02192278\n",
      "  0.13335347  0.10001687 -0.03744467  0.041375    0.1150174   0.18769854\n",
      "  0.03648673 -0.02785136  0.09073171 -0.01666327 -0.09942309  0.10885059\n",
      "  0.07475341 -0.05384888  0.12574001  0.00938418  0.03691722  0.00506064\n",
      "  0.22954643  0.11752144  0.13987416]\n"
     ]
    }
   ],
   "source": [
    "entropies = np.array(entropies)\n",
    "approx_entropies = np.array(approx_entropies)\n",
    "print(entropies-approx_entropies)"
   ]
  },
  {
   "cell_type": "code",
   "execution_count": null,
   "metadata": {},
   "outputs": [],
   "source": []
  }
 ],
 "metadata": {
  "kernelspec": {
   "display_name": "ErrorGenerators",
   "language": "python",
   "name": "python3"
  },
  "language_info": {
   "codemirror_mode": {
    "name": "ipython",
    "version": 3
   },
   "file_extension": ".py",
   "mimetype": "text/x-python",
   "name": "python",
   "nbconvert_exporter": "python",
   "pygments_lexer": "ipython3",
   "version": "3.10.11"
  }
 },
 "nbformat": 4,
 "nbformat_minor": 2
}
