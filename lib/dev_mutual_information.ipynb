{
 "cells": [
  {
   "cell_type": "code",
   "execution_count": 1,
   "metadata": {},
   "outputs": [],
   "source": [
    "import numpy as np\n",
    "import matplotlib.pyplot as plt\n",
    "from lib.color_compass import bacon_shor_group, bsgauge_group, pauli2vector, pauli_weight, twisted_product, twisted_prod_mat\n",
    "from termcolor import colored\n",
    "from tqdm import tqdm\n",
    "\n",
    "import pymatching"
   ]
  },
  {
   "cell_type": "code",
   "execution_count": 2,
   "metadata": {},
   "outputs": [],
   "source": [
    "class Lattice2D():\n",
    "    \"\"\"\n",
    "    convention: \n",
    "    X coords extend vertically |\n",
    "    Z coords extend horizontally --\n",
    "    store the coloring as a list with values in {-1, 0, 1}\n",
    "    \n",
    "    Red  ~ -1 ~ Z-type cuts\n",
    "    Blue ~ +1 ~ X-type cuts\n",
    "    White ~ 0\n",
    "    \n",
    "    preallocate logical X and L as cuts accross the lattice\n",
    "    \"\"\"\n",
    "    def __init__(self, dimX, dimZ):\n",
    "        self.dimX = dimX\n",
    "        self.dimZ = dimZ\n",
    "        self.colors = [0] * (dimX-1)*(dimZ-1)\n",
    "        self.stabs = bacon_shor_group(dimX, dimZ)\n",
    "        self.gauge = bsgauge_group(dimX, dimZ)\n",
    "        self.Lx = ''.join(['X']*dimX+['_']*dimX*(dimZ-1))\n",
    "        self.Lz = ''.join((['Z']+['_']*(dimX-1))*dimZ)\n",
    "        self.logicals = [self.Lx,self.Lz]\n",
    "        \n",
    "    def size(self):\n",
    "        return self.dimX*self.dimZ\n",
    "        \n",
    "    def __str__(self):\n",
    "        vertex_rows = []\n",
    "        face_rows = []\n",
    "        dimX = self.dimX\n",
    "        dimZ = self.dimZ\n",
    "        for i in range(dimX):\n",
    "            vertex_string = ''\n",
    "            for j in range(dimZ):\n",
    "                vertex_string += str(i*dimZ + j).zfill(3)\n",
    "                if (j != dimZ-1):\n",
    "                    vertex_string += '---'\n",
    "            vertex_rows.append(vertex_string)\n",
    "                \n",
    "        for i in range(dimX-1):\n",
    "            face_string = ''\n",
    "            for j in range(dimZ-1):\n",
    "                if(self.colors[i*(dimZ-1) + j] == -1):\n",
    "                    face_string += ' | '+colored(' # ', 'red')\n",
    "                elif(self.colors[i*(dimZ-1) + j] == +1):\n",
    "                    face_string += ' | '+colored(' # ', 'blue')\n",
    "                elif(self.colors[i*(dimZ-1) + j] == 0):\n",
    "                    face_string += ' |    '\n",
    "                else:\n",
    "                    raise ValueError(f'Invalid color type {self.colors[i*dimZ+j]}')\n",
    "                if j == dimZ-2:\n",
    "                    face_string += ' |'\n",
    "            face_rows.append(face_string)\n",
    "        sout = ''\n",
    "        for idx, row in enumerate(vertex_rows):\n",
    "            sout += row +'\\n'\n",
    "            if idx != len(vertex_rows)-1:\n",
    "                sout += face_rows[idx]+'\\n'\n",
    "        return sout\n",
    "    \n",
    "    def size(self):\n",
    "        return self.dimX*self.dimZ\n",
    "    \n",
    "    def getG(self):\n",
    "        return self.gauge[0]+self.gauge[1]\n",
    "    \n",
    "    def getGx(self):\n",
    "        return self.gauge[0]\n",
    "    \n",
    "    def getGz(self):\n",
    "        return self.gauge[1]\n",
    "    \n",
    "    def getS(self):\n",
    "        return self.stabs[0]+self.stabs[1]\n",
    "    \n",
    "    def getSx(self):\n",
    "        return self.stabs[0]\n",
    "    \n",
    "    def getSz(self):\n",
    "        return self.stabs[1]\n",
    "    \n",
    "    def getDims(self):\n",
    "        return (self.dimX, self.dimZ)\n",
    "    \n",
    "    def max_stab_number(self):\n",
    "        return self.dimX*self.dimZ - 1\n",
    "    \n",
    "    def pcheckZ(self):\n",
    "        \"\"\"returns the Z parity check matrix\"\"\"\n",
    "        return np.vstack([pauli2vector(s) for s in self.getSz()])\n",
    "        \n",
    "    def pcheckX(self):\n",
    "        \"\"\"returns the X parity check matrix\"\"\"\n",
    "        return np.vstack([pauli2vector(s) for s in self.getSx()])\n",
    "    \n",
    "    def parity_check_matrix(self):\n",
    "        \"\"\"returns the full parity check matrix\"\"\"\n",
    "        return np.vstack([self.pcheckX(), self.pcheckZ()])\n",
    "    \n",
    "    def display(self, pauli):\n",
    "        dimX = self.dimX\n",
    "        dimZ = self.dimZ\n",
    "        if (len(pauli) != dimX*dimZ):\n",
    "            raise ValueError(\"Pauli string dimension mismatch with lattice size\")\n",
    "        sout = ''\n",
    "        slist = list(pauli)\n",
    "        for i in range(dimX):\n",
    "            for j in range(dimZ):\n",
    "                if slist[i*dimZ+j] == 'X':\n",
    "                    sout += ' X '\n",
    "                elif slist[i*dimZ+j] == 'Z':\n",
    "                    sout += ' Z '\n",
    "                else:\n",
    "                    sout += '   '\n",
    "                if (j != dimZ-1):\n",
    "                    sout += '---'\n",
    "            if (i != dimX -1):\n",
    "                sout += '\\n'\n",
    "                sout += ' |    '*dimZ\n",
    "            sout += '\\n'\n",
    "        print(sout)\n",
    "        \n",
    "    def color_lattice(self, colors):\n",
    "        \"\"\"\n",
    "        replace color state with input and recalculate stab and gauge groups \n",
    "        \"\"\"\n",
    "        dimX = self.dimX-1\n",
    "        dimZ = self.dimZ-1\n",
    "        if(len(colors) != dimX*dimZ):\n",
    "            raise ValueError(\"Color dimension mismatch with lattice size\")\n",
    "        \n",
    "        self.stabs = bacon_shor_group(self.dimX, self.dimZ)\n",
    "        self.gauge = bsgauge_group(self.dimX, self.dimZ)\n",
    "        self.colors = colors\n",
    "        \n",
    "        \n",
    "        for cidx, c in enumerate(colors):\n",
    "            if c == -1:\n",
    "                self.update_groups((int(np.floor(cidx/dimZ)), cidx%dimZ), -1)\n",
    "            elif c == +1:\n",
    "                self.update_groups((int(np.floor(cidx/dimZ)), cidx%dimZ), +1)\n",
    "        \n",
    "        \n",
    "    def update_groups(self, coords, cut_type):\n",
    "        \"\"\"\n",
    "        cut the stabilizer group by coloring the face with the given type\n",
    "            AND\n",
    "        update the gauge group \n",
    "    \n",
    "        algo: \n",
    "        [0] pick the gauge operator g to cut around\n",
    "        [1] find s \\in S that has weight-2 overlap with g\n",
    "        [2] divide that s \n",
    "        [3] update the gauge group \n",
    "        \"\"\"\n",
    "        (i, j) = coords\n",
    "        dimX = self.dimX\n",
    "        dimZ = self.dimZ\n",
    "        [Sx, Sz] = self.getSx(), self.getSz()\n",
    "        [Gx, Gz] = self.getGx(), self.getGz()\n",
    "        \n",
    "        if cut_type == -1:\n",
    "            # -1 = red which is a Z-cut\n",
    "            g = ['_'] * dimX*dimZ\n",
    "            g[i*dimZ + j] = 'Z'\n",
    "            g[i*dimZ + j + 1] = 'Z'\n",
    "            \n",
    "            gvec = pauli2vector(''.join(g))\n",
    "            \n",
    "            # cut the relevant stabilizer\n",
    "            for idx, s in enumerate(Sz):\n",
    "                # find the overlapping stabilizer\n",
    "                if pauli_weight(np.bitwise_xor(gvec, pauli2vector(s))) == pauli_weight(s) - 2:\n",
    "                    # cut s into two vertical parts \n",
    "                    s1 = ['_'] * dimX*dimZ\n",
    "                    s2 = ['_'] * dimX*dimZ\n",
    "                    for k in range(0, i+1):\n",
    "                        s1[k*dimZ + j] = s[k*dimZ + j]\n",
    "                        s1[k*dimZ + j+1] = s[k*dimZ + j+1]\n",
    "                    for k in range(i+1, dimX):\n",
    "                        s2[k*dimZ + j] = s[k*dimZ + j]\n",
    "                        s2[k*dimZ + j+1] = s[k*dimZ + j+1]\n",
    "                    del Sz[idx]\n",
    "                    Sz.append(''.join(s1))\n",
    "                    Sz.append(''.join(s2))\n",
    "                    break\n",
    "            \n",
    "            # make new gauge operator and update gauge group \n",
    "            gauge = ['_'] * dimX*dimZ\n",
    "            for k in range(0, j+1):\n",
    "                gauge[k + i*dimZ] = 'Z'\n",
    "                gauge[k + i*dimZ + 1] = 'Z'\n",
    "            Gx_new = []\n",
    "            for g in Gx:\n",
    "                if twisted_product(pauli2vector(''.join(g)), pauli2vector(''.join(gauge))) == 0:\n",
    "                    Gx_new.append(g)\n",
    "            Gx = Gx_new\n",
    "                \n",
    "        elif cut_type == +1:\n",
    "            # +1 = blue that is a X-cut:\n",
    "            g = ['_'] * dimX*dimZ\n",
    "            g[i*dimZ + j] = 'X'\n",
    "            g[(i+1)*dimZ + j ] = 'X'\n",
    "            \n",
    "            gvec = pauli2vector(''.join(g))\n",
    "            \n",
    "            # cut the relevant stabilizer\n",
    "            for idx, s in enumerate(Sx):\n",
    "                # find the overlapping stabilizer\n",
    "                if pauli_weight(np.bitwise_xor(gvec, pauli2vector(s))) == pauli_weight(s) - 2:\n",
    "                    # cut s into two horizontal parts \n",
    "                    s1 = ['_'] * dimX*dimZ\n",
    "                    s2 = ['_'] * dimX*dimZ\n",
    "                    for k in range(0, j+1):\n",
    "                        s1[i*dimZ + k] = s[i*dimZ + k]\n",
    "                        s1[(i+1)*dimZ + k] = s[(i+1)*dimZ + k]\n",
    "                    for k in range(j+1, dimZ):\n",
    "                        s2[i*dimZ + k] = s[i*dimZ + k]\n",
    "                        s2[(i+1)*dimZ + k] = s[(i+1)*dimZ + k]\n",
    "                    del Sx[idx]\n",
    "                    Sx.append(''.join(s1))\n",
    "                    Sx.append(''.join(s2))\n",
    "                    break\n",
    "            \n",
    "            # make new gauge operator and update gauge group \n",
    "            gauge = ['_'] * dimX*dimZ\n",
    "            for k in range(0, j+1):\n",
    "                gauge[k + i*dimZ] = 'X'\n",
    "                gauge[k + (i+1)*dimZ] = 'X'\n",
    "            Gz_new = []\n",
    "            for g in Gz:\n",
    "                if twisted_product(pauli2vector(''.join(g)), pauli2vector(''.join(gauge))) == 0:\n",
    "                    Gz_new.append(g)\n",
    "            Gz = Gz_new\n",
    "\n",
    "        # update the groups\n",
    "        self.stabs = [Sx, Sz]\n",
    "        self.gauge = [Gx, Gz]\n",
    "        \n",
    "    # def error_is_corrected(self, syn, l_1, l_2, l_op):\n",
    "    #     #syn is a vector of syndrome measurements, which has the Sx syndrome bits first\n",
    "    #     #l_1, l_2 are booleans corresponding to the logical operator measurement\n",
    "    #     #l_op is the logical operator we're measuring, written as a stim Pauli string\n",
    "\n",
    "    #     #also need to know the stabilizers to feed into the decoder\n",
    "\n",
    "    #     #check parity of l_1, l_2. If they are the same: no logical error\n",
    "    #     #If they are different: logical error\n",
    "    #     logical_error = ((l_1+l_2) % 2 == 0)\n",
    "\n",
    "    #     #syndrome measurement gives a syndrome s. Feed into decoder to get a correction operator c\n",
    "    #     #set up decoder\n",
    "    #     Sx = lat.getSx()\n",
    "    #     Sz = lat.getSz()\n",
    "    #     Hx = np.array([[1 if i != '_' else 0 for i in s] for s in Sx])\n",
    "    #     Hz = np.array([[1 if i != '_' else 0 for i in s] for s in Sz])\n",
    "    #     Mx = Matching(Hx)\n",
    "    #     Mz = Matching(Hz)\n",
    "\n",
    "    #     #obtain correction operator\n",
    "    #     cx = Mx.decode(syn[:len(Sx)])\n",
    "    #     cz = Mz.decode(syn[len(Sx):])\n",
    "    #     Rx = stim.PauliString(''.join(['X' if i == 1 else '_' for i in cx]))\n",
    "    #     Rz = stim.PauliString(''.join(['Z' if i == 1 else '_' for i in cz]))\n",
    "\n",
    "    #     correction_op = Rx*Rz\n",
    "\n",
    "\n",
    "\n",
    "    #     #check [c, l]\n",
    "    #         #If l_1 = l_2 and [c, l_op] = 0, then the error has been properly corrected\n",
    "    #         #in that c keeps the proper eigenstate\n",
    "    #         #If l_1 = l_2 and [c, l_op] \\neq 0, then the decoder takes the state out of the correct eigenstate\n",
    "    #         #If l_1 \\neq l_2 and [c,l_op] = 0, then the decoder fails to correct the error\n",
    "    #         #If l_1 \\neq l_2 and [c, l_op] \\neq 0, then the decoder properly corrects the error\n",
    "    #     is_corrected = (correction_op.commutes(l_op) != logical_error)\n",
    "\n",
    "    #     return is_corrected\n",
    "\n",
    "\n",
    "def make_surface_code_lattice(dimX,dimZ,start='X'):\n",
    "    if start == 'X':\n",
    "        first_two_cells = [1,-1]\n",
    "    elif start == 'Z':\n",
    "        first_two_cells = [-1,1]\n",
    "    first_row = (first_two_cells*int(np.ceil(dimZ/2)))\n",
    "    first_two_rows = first_row[:dimZ-1] + first_row[1:dimZ]\n",
    "    whole_lattice = first_two_rows*int(np.ceil(dimX/2))\n",
    "    whole_lattice = whole_lattice[:(dimZ-1)*(dimX-1)]\n",
    "    lat = Lattice2D(dimX, dimZ)\n",
    "    lat.color_lattice(whole_lattice)\n",
    "    return lat"
   ]
  },
  {
   "cell_type": "code",
   "execution_count": 3,
   "metadata": {},
   "outputs": [],
   "source": [
    "def generate_all_pauli_strings(n):\n",
    "    \"\"\"\n",
    "    generate all possible n-qubit Pauli strings\n",
    "    \"\"\"\n",
    "    if n == 1:\n",
    "        return ['I', 'X', 'Y', 'Z']\n",
    "    else:\n",
    "        return [p + q for p in generate_all_pauli_strings(1) for q in generate_all_pauli_strings(n-1)]\n",
    "    \n",
    "def index_to_pauli_string(idx, n):\n",
    "    \"\"\"\n",
    "    convert an index to a Pauli string by converting the index to quaternary\n",
    "    \"\"\"\n",
    "    return np.base_repr(idx, base=4).zfill(n).replace('0', 'I').replace('1', 'X').replace('2', 'Y').replace('3', 'Z')"
   ]
  },
  {
   "cell_type": "code",
   "execution_count": 5,
   "metadata": {},
   "outputs": [
    {
     "name": "stdout",
     "output_type": "stream",
     "text": [
      "000---001---002\n",
      " | \u001b[34m # \u001b[0m | \u001b[31m # \u001b[0m |\n",
      "003---004---005\n",
      " | \u001b[31m # \u001b[0m | \u001b[34m # \u001b[0m |\n",
      "006---007---008\n",
      "\n"
     ]
    }
   ],
   "source": [
    "# make a lattice and print\n",
    "lat = make_surface_code_lattice(3,3)\n",
    "print(lat)\n"
   ]
  },
  {
   "cell_type": "code",
   "execution_count": 7,
   "metadata": {},
   "outputs": [
    {
     "data": {
      "text/plain": [
       "array([[1, 0, 0, 1, 0, 0, 0, 0, 0, 0, 0, 0, 0, 0, 0, 0, 0, 0],\n",
       "       [0, 1, 1, 0, 1, 1, 0, 0, 0, 0, 0, 0, 0, 0, 0, 0, 0, 0],\n",
       "       [0, 0, 0, 1, 1, 0, 1, 1, 0, 0, 0, 0, 0, 0, 0, 0, 0, 0],\n",
       "       [0, 0, 0, 0, 0, 1, 0, 0, 1, 0, 0, 0, 0, 0, 0, 0, 0, 0],\n",
       "       [0, 0, 0, 0, 0, 0, 0, 0, 0, 0, 1, 1, 0, 0, 0, 0, 0, 0],\n",
       "       [0, 0, 0, 0, 0, 0, 0, 0, 0, 0, 0, 0, 0, 1, 1, 0, 1, 1],\n",
       "       [0, 0, 0, 0, 0, 0, 0, 0, 0, 1, 1, 0, 1, 1, 0, 0, 0, 0],\n",
       "       [0, 0, 0, 0, 0, 0, 0, 0, 0, 0, 0, 0, 0, 0, 0, 1, 1, 0]])"
      ]
     },
     "execution_count": 7,
     "metadata": {},
     "output_type": "execute_result"
    }
   ],
   "source": [
    "# show the parity check matrix\n",
    "parity_check_matrix = lat.parity_check_matrix()\n",
    "parity_check_matrix"
   ]
  },
  {
   "cell_type": "code",
   "execution_count": 8,
   "metadata": {},
   "outputs": [],
   "source": [
    "def calculate_stabilizer_entropy_exact(parity_check_mat, error_distribution_func, error_rates):\n",
    "    num_qubits = parity_check_mat.shape[1]/2\n",
    "    assert num_qubits == int(num_qubits)\n",
    "    num_qubits = int(num_qubits)\n",
    "    syndrome_weight_dict = {}\n",
    "    for i in tqdm(range(4**num_qubits)):\n",
    "        pauli_string = index_to_pauli_string(i, num_qubits)\n",
    "        pauli_bitstring = pauli2vector(pauli_string)\n",
    "        syndrome = twisted_prod_mat(parity_check_mat, pauli_bitstring)\n",
    "        syndrome_string = ''.join([str(int(s)) for s in syndrome])\n",
    "        prob = error_distribution_func(pauli_string, *error_rates)\n",
    "        if syndrome_string in syndrome_weight_dict.keys():\n",
    "            syndrome_weight_dict[syndrome_string] += prob\n",
    "        else:\n",
    "            syndrome_weight_dict[syndrome_string] = prob\n",
    "    return -np.sum([p*np.log2(p) for p in syndrome_weight_dict.values()])\n",
    "\n",
    "def random_pauli(rates):\n",
    "    p_i = 1-sum(rates)\n",
    "    return np.random.choice(['I', 'X', 'Y', 'Z'], p=[p_i, rates[0], rates[1], rates[2]])\n",
    "\n",
    "def calculate_stabilizer_entropy_emperical(parity_check_mat, error_distribution_func, error_rates, num_samples):\n",
    "    num_qubits = parity_check_mat.shape[1]/2\n",
    "    assert num_qubits == int(num_qubits)\n",
    "    num_qubits = int(num_qubits)\n",
    "    syndrome_weight_dict = {}\n",
    "    for i in range(num_samples):\n",
    "        pauli_string = ''.join([random_pauli(error_rates) for _ in range(num_qubits)])\n",
    "        pauli_bitstring = pauli2vector(pauli_string)\n",
    "        syndrome = twisted_prod_mat(parity_check_mat, pauli_bitstring)\n",
    "        syndrome_string = ''.join([str(int(s)) for s in syndrome])\n",
    "        if syndrome_string in syndrome_weight_dict.keys():\n",
    "            syndrome_weight_dict[syndrome_string] += 1/num_samples\n",
    "        else:\n",
    "            syndrome_weight_dict[syndrome_string] = 1/num_samples\n",
    "    return -np.sum([p*np.log2(p) for p in syndrome_weight_dict.values()])"
   ]
  },
  {
   "cell_type": "code",
   "execution_count": 9,
   "metadata": {},
   "outputs": [
    {
     "data": {
      "text/plain": [
       "262144"
      ]
     },
     "execution_count": 9,
     "metadata": {},
     "output_type": "execute_result"
    }
   ],
   "source": [
    "4**9"
   ]
  },
  {
   "cell_type": "code",
   "execution_count": null,
   "metadata": {},
   "outputs": [],
   "source": []
  },
  {
   "cell_type": "code",
   "execution_count": 10,
   "metadata": {},
   "outputs": [],
   "source": [
    "def error_distribution_func(pauli_string, px, py, pz):\n",
    "    probs = {'I': 1-px-py-pz, 'X': px, 'Y': py, 'Z': pz}\n",
    "    # prob is the joint probability of the error string\n",
    "    prob = 1\n",
    "    for p in pauli_string:\n",
    "        prob *= probs[p]\n",
    "    return prob"
   ]
  },
  {
   "cell_type": "markdown",
   "metadata": {},
   "source": [
    "# error class entropy"
   ]
  },
  {
   "cell_type": "code",
   "execution_count": 108,
   "metadata": {},
   "outputs": [],
   "source": [
    "def pauli_to_error_class(pauli, logicals, Sx, Sz):\n",
    "    \"\"\"\n",
    "    convert a Pauli string to an error class representative\n",
    "    \"\"\"\n",
    "    pauli_vec = pauli2vector(pauli)\n",
    "    lX_vec, lZ_vec = [pauli2vector(logicals[0]), pauli2vector(logicals[1])]\n",
    "    sX_vec = [pauli2vector(s) for s in Sx]\n",
    "    sZ_vec = [pauli2vector(s) for s in Sz]\n",
    "\n",
    "    logical_checks = [twisted_product(pauli_vec, lX_vec), twisted_product(pauli_vec, lZ_vec)]\n",
    "    Sx_checks = [twisted_product(pauli_vec, s) for s in sX_vec]\n",
    "    Sz_checks = [twisted_product(pauli_vec, s) for s in sZ_vec]\n",
    "    return logical_checks, Sx_checks, Sz_checks\n",
    "\n",
    "\n",
    "def error_partition_from_lattice(pauli, lat):\n",
    "    \"\"\"\n",
    "    given a Pauli string and a lattice, return the error partition\n",
    "    \"\"\"\n",
    "    logical_checks, Sx_checks, Sz_checks = pauli_to_error_class(pauli, [lat.Lx, lat.Lz], lat.getSx(), lat.getSz())\n",
    "    return logical_checks, Sx_checks, Sz_checks"
   ]
  },
  {
   "cell_type": "markdown",
   "metadata": {},
   "source": [
    "## Demonstrate Error Partitioning with a lattice"
   ]
  },
  {
   "cell_type": "code",
   "execution_count": 109,
   "metadata": {},
   "outputs": [],
   "source": [
    "lat = make_surface_code_lattice(3,3)"
   ]
  },
  {
   "cell_type": "code",
   "execution_count": 110,
   "metadata": {},
   "outputs": [
    {
     "data": {
      "text/plain": [
       "0"
      ]
     },
     "execution_count": 110,
     "metadata": {},
     "output_type": "execute_result"
    }
   ],
   "source": [
    "xix = pauli2vector('XIX')\n",
    "xxi = pauli2vector('ZZZ')\n",
    "twisted_product(xix, xxi)"
   ]
  },
  {
   "cell_type": "code",
   "execution_count": 111,
   "metadata": {},
   "outputs": [
    {
     "name": "stdout",
     "output_type": "stream",
     "text": [
      "XXX______ Z__Z__Z__\n"
     ]
    }
   ],
   "source": [
    "Lx = lat.Lx\n",
    "Lz = lat.Lz\n",
    "print(Lx, Lz)"
   ]
  },
  {
   "cell_type": "code",
   "execution_count": 112,
   "metadata": {},
   "outputs": [
    {
     "name": "stdout",
     "output_type": "stream",
     "text": [
      "['X__X_____', '_XX_XX___', '___XX_XX_', '_____X__X'] ['_ZZ______', '____ZZ_ZZ', 'ZZ_ZZ____', '______ZZ_']\n"
     ]
    }
   ],
   "source": [
    "Sx = lat.getSx()\n",
    "Sz = lat.getSz()\n",
    "print(Sx, Sz)"
   ]
  },
  {
   "cell_type": "code",
   "execution_count": 118,
   "metadata": {},
   "outputs": [
    {
     "name": "stdout",
     "output_type": "stream",
     "text": [
      "YZYIYYZIX\n"
     ]
    }
   ],
   "source": [
    "error_idx = np.random.randint(0, 4**9)\n",
    "error = index_to_pauli_string(error_idx, 9)\n",
    "print(error)"
   ]
  },
  {
   "cell_type": "code",
   "execution_count": 119,
   "metadata": {},
   "outputs": [
    {
     "data": {
      "text/plain": [
       "([1, 1], [1, 0, 0, 1], [1, 1, 0, 0])"
      ]
     },
     "execution_count": 119,
     "metadata": {},
     "output_type": "execute_result"
    }
   ],
   "source": [
    "pauli_to_error_class(error, [Lx, Lz], Sx, Sz)"
   ]
  },
  {
   "cell_type": "code",
   "execution_count": 120,
   "metadata": {},
   "outputs": [
    {
     "data": {
      "text/plain": [
       "([1, 1], [1, 0, 0, 1], [1, 1, 0, 0])"
      ]
     },
     "execution_count": 120,
     "metadata": {},
     "output_type": "execute_result"
    }
   ],
   "source": [
    "error_partition_from_lattice(error, lat)"
   ]
  },
  {
   "cell_type": "markdown",
   "metadata": {},
   "source": [
    "### Partition all the Pauli errors on 9 qubits into their partitions for a fixed code"
   ]
  },
  {
   "cell_type": "code",
   "execution_count": 121,
   "metadata": {},
   "outputs": [],
   "source": [
    "lat = make_surface_code_lattice(3,3)\n",
    "all_9_qubit_paulis = generate_all_pauli_strings(9)"
   ]
  },
  {
   "cell_type": "code",
   "execution_count": 123,
   "metadata": {},
   "outputs": [],
   "source": [
    "def error_distribution_func_1q(pauli_string, rates):\n",
    "    px = rates[0]\n",
    "    py = rates[1]\n",
    "    pz = rates[2]\n",
    "    probs = {'I': 1-px-py-pz, 'X': px, 'Y': py, 'Z': pz}\n",
    "    # prob is the joint probability of the error string\n",
    "    prob = 1\n",
    "    for p in pauli_string:\n",
    "        prob *= probs[p]\n",
    "    return prob"
   ]
  },
  {
   "cell_type": "code",
   "execution_count": 129,
   "metadata": {},
   "outputs": [
    {
     "data": {
      "text/plain": [
       "9"
      ]
     },
     "execution_count": 129,
     "metadata": {},
     "output_type": "execute_result"
    }
   ],
   "source": [
    "lat.size()"
   ]
  },
  {
   "cell_type": "code",
   "execution_count": 130,
   "metadata": {},
   "outputs": [],
   "source": [
    "def binary_tuple_to_decimal_idx(t):\n",
    "    return sum([2**i for i in range(len(t)) if t[i] == 1])\n",
    "\n",
    "def make_joint_distribution(lat, rates):\n",
    "    \"\"\"\n",
    "    Calculates P(L, \\Gamma) and P(L | \\Gamma = \\gamma) for a given lattice and error rates\n",
    "    \"\"\"\n",
    "    Sx = lat.getSx()\n",
    "    Sz = lat.getSz()\n",
    "    Lx = lat.Lx\n",
    "    Lz = lat.Lz\n",
    "    joint_distribution = np.zeros((4, 2**len(Sx), 2**len(Sz)))\n",
    "    pauli_index_range = range(4**lat.size())\n",
    "    for pauli_idx in tqdm(pauli_index_range):\n",
    "        pauli = index_to_pauli_string(pauli_idx, lat.size())\n",
    "        logical_checks, Sx_checks, Sz_checks = error_partition_from_lattice(pauli, lat)\n",
    "        prob = error_distribution_func_1q(pauli, rates)\n",
    "\n",
    "\n",
    "        syndrome_Sx = tuple(Sx_checks)\n",
    "        syndrome_Sz = tuple(Sz_checks)\n",
    "        syndrome_logical = tuple(logical_checks)\n",
    "\n",
    "        Sx_idx = binary_tuple_to_decimal_idx(syndrome_Sx)\n",
    "        Sz_idx = binary_tuple_to_decimal_idx(syndrome_Sz)\n",
    "        logical_idx = binary_tuple_to_decimal_idx(syndrome_logical)\n",
    "\n",
    "        joint_distribution[logical_idx, Sx_idx, Sz_idx] += prob\n",
    "\n",
    "    \n",
    "    return joint_distribution"
   ]
  },
  {
   "cell_type": "code",
   "execution_count": 132,
   "metadata": {},
   "outputs": [
    {
     "name": "stderr",
     "output_type": "stream",
     "text": [
      "100%|██████████| 262144/262144 [00:19<00:00, 13276.62it/s]\n"
     ]
    }
   ],
   "source": [
    "joint_distribution = make_joint_distribution(lat, [0.1, 0.1, 0.1])"
   ]
  },
  {
   "cell_type": "code",
   "execution_count": 133,
   "metadata": {},
   "outputs": [
    {
     "data": {
      "text/plain": [
       "(4, 16, 16)"
      ]
     },
     "execution_count": 133,
     "metadata": {},
     "output_type": "execute_result"
    }
   ],
   "source": [
    "joint_distribution.shape"
   ]
  },
  {
   "cell_type": "code",
   "execution_count": 169,
   "metadata": {},
   "outputs": [],
   "source": [
    "def calculate_logical_marginal(joint_distribution):\n",
    "    \"\"\"\n",
    "    Calculates P(L) for a given joint distribution P(L, Sx, Sz)\n",
    "    \"\"\"\n",
    "    return np.sum(joint_distribution, axis=(1,2))\n",
    "   \n",
    "def calculate_syndrome_marginal(joint_distribution):\n",
    "    \"\"\"\n",
    "    Calculates P(Sx, Sz) for a given joint distribution P(L, Sx, Sz)\n",
    "    \"\"\"\n",
    "    return np.sum(joint_distribution, axis=0)\n",
    "\n",
    "def calculate_syndrome_given_logical(joint_distribution):\n",
    "    \"\"\"\n",
    "    Calculates P(Sx, Sz | L) for a given joint distribution P(L, Sx, Sz)\n",
    "    \"\"\"\n",
    "    return joint_distribution/np.sum(joint_distribution, axis=0)\n",
    "\n",
    "def calculate_logical_prob_given_syndrome(joint_distribution, sx_idx, sz_idx):\n",
    "    \"\"\"\n",
    "    Calculates P(L | Sx, Sz) for a given joint distribution P(L, Sx, Sz)\n",
    "    \"\"\"\n",
    "    return joint_distribution[:, sx_idx, sz_idx]/np.sum(joint_distribution[:, sx_idx, sz_idx])\n",
    "\n",
    "    "
   ]
  },
  {
   "cell_type": "code",
   "execution_count": 170,
   "metadata": {},
   "outputs": [
    {
     "name": "stdout",
     "output_type": "stream",
     "text": [
      "(4, 16, 16)\n"
     ]
    }
   ],
   "source": [
    "print(joint_distribution.shape)"
   ]
  },
  {
   "cell_type": "code",
   "execution_count": 171,
   "metadata": {},
   "outputs": [
    {
     "data": {
      "text/plain": [
       "0.04735744000000046"
      ]
     },
     "execution_count": 171,
     "metadata": {},
     "output_type": "execute_result"
    }
   ],
   "source": [
    "np.sum(joint_distribution[:, 0, 0])"
   ]
  },
  {
   "cell_type": "code",
   "execution_count": 172,
   "metadata": {},
   "outputs": [
    {
     "data": {
      "text/plain": [
       "array([0.04405274, 0.00154394, 0.00154394, 0.00021683])"
      ]
     },
     "execution_count": 172,
     "metadata": {},
     "output_type": "execute_result"
    }
   ],
   "source": [
    "joint_distribution[:, 0, 0]"
   ]
  },
  {
   "cell_type": "code",
   "execution_count": 173,
   "metadata": {},
   "outputs": [
    {
     "name": "stdout",
     "output_type": "stream",
     "text": [
      "[0.37744 0.23056 0.23056 0.16144]\n"
     ]
    }
   ],
   "source": [
    "l_marginal = calculate_logical_marginal(joint_distribution)\n",
    "print(l_marginal)"
   ]
  },
  {
   "cell_type": "code",
   "execution_count": 174,
   "metadata": {},
   "outputs": [
    {
     "name": "stdout",
     "output_type": "stream",
     "text": [
      "(16, 16)\n"
     ]
    },
    {
     "data": {
      "text/plain": [
       "<matplotlib.image.AxesImage at 0x7f619c55b640>"
      ]
     },
     "execution_count": 174,
     "metadata": {},
     "output_type": "execute_result"
    },
    {
     "data": {
      "image/png": "[encoded data removed]",
      "text/plain": [
       "<Figure size 480x480 with 1 Axes>"
      ]
     },
     "metadata": {},
     "output_type": "display_data"
    }
   ],
   "source": [
    "s_marginal = calculate_syndrome_marginal(joint_distribution)\n",
    "print(s_marginal.shape)\n",
    "plt.matshow(s_marginal)"
   ]
  },
  {
   "cell_type": "code",
   "execution_count": 221,
   "metadata": {},
   "outputs": [
    {
     "name": "stdout",
     "output_type": "stream",
     "text": [
      "9 10\n",
      "[0.25 0.25 0.25 0.25]\n",
      "0.9999999999999999\n"
     ]
    }
   ],
   "source": [
    "sx_idx = np.random.randint(16)\n",
    "sz_idx = np.random.randint(16)\n",
    "print(sx_idx, sz_idx)\n",
    "l_given_s = calculate_logical_prob_given_syndrome(joint_distribution, sx_idx, sz_idx)\n",
    "print(l_given_s)\n",
    "print(np.sum(l_given_s))"
   ]
  },
  {
   "cell_type": "markdown",
   "metadata": {},
   "source": [
    "### Calculate entropies\n"
   ]
  },
  {
   "cell_type": "code",
   "execution_count": 231,
   "metadata": {},
   "outputs": [],
   "source": [
    "def calculate_conditional_entropy_logical_on_stabilizer(joint_distribution):\n",
    "    \"\"\"\n",
    "    Calculates H(L | Sx, Sz) for a given joint distribution P(L, Sx, Sz)\n",
    "    \"\"\"\n",
    "    conditional_entropy = 0\n",
    "    for l_idx in range(joint_distribution.shape[0]):\n",
    "        for sx_idx in range(joint_distribution.shape[1]):\n",
    "            for sz_idx in range(joint_distribution.shape[2]):\n",
    "                p_stab = np.sum(joint_distribution[:, sx_idx, sz_idx])\n",
    "                p_joint = joint_distribution[l_idx, sx_idx, sz_idx]\n",
    "                conditional_entropy += p_joint*np.log2(p_joint/p_stab)\n",
    "    return -conditional_entropy\n",
    "\n",
    "def calculate_logical_entropy(joint_distribution):\n",
    "    \"\"\"\n",
    "    Calculates H(L) for a given joint distribution P(L, Sx, Sz)\n",
    "    \"\"\"\n",
    "    l_marginal = calculate_logical_marginal(joint_distribution)\n",
    "    return -np.sum([p*np.log2(p) for p in l_marginal if p > 0])"
   ]
  },
  {
   "cell_type": "code",
   "execution_count": 232,
   "metadata": {},
   "outputs": [],
   "source": [
    "Hcond = calculate_conditional_entropy_logical_on_stabilizer(joint_distribution)\n",
    "Hlogical = calculate_logical_entropy(joint_distribution)"
   ]
  },
  {
   "cell_type": "code",
   "execution_count": 233,
   "metadata": {},
   "outputs": [
    {
     "name": "stdout",
     "output_type": "stream",
     "text": [
      "1.6035918908860567\n",
      "1.9313897850729989\n"
     ]
    }
   ],
   "source": [
    "print(Hcond)\n",
    "print(Hlogical)\n"
   ]
  },
  {
   "cell_type": "markdown",
   "metadata": {},
   "source": [
    "### demo for random lattices"
   ]
  },
  {
   "cell_type": "code",
   "execution_count": 241,
   "metadata": {},
   "outputs": [],
   "source": [
    "def make_random_coloring(num_faces):\n",
    "    return np.random.choice([-1, 0, 1], num_faces)"
   ]
  },
  {
   "cell_type": "code",
   "execution_count": 242,
   "metadata": {},
   "outputs": [],
   "source": [
    "def error_distribution_func_1q(pauli_string, rates):\n",
    "    px = rates[0]\n",
    "    py = rates[1]\n",
    "    pz = rates[2]\n",
    "    probs = {'I': 1-px-py-pz, 'X': px, 'Y': py, 'Z': pz}\n",
    "    # prob is the joint probability of the error string\n",
    "    prob = 1\n",
    "    for p in pauli_string:\n",
    "        prob *= probs[p]\n",
    "    return prob"
   ]
  },
  {
   "cell_type": "code",
   "execution_count": 244,
   "metadata": {},
   "outputs": [],
   "source": [
    "rates = [0.1, 0.1, 0.1]"
   ]
  },
  {
   "cell_type": "code",
   "execution_count": 245,
   "metadata": {},
   "outputs": [
    {
     "name": "stdout",
     "output_type": "stream",
     "text": [
      "000---001---002\n",
      " | \u001b[31m # \u001b[0m | \u001b[34m # \u001b[0m |\n",
      "003---004---005\n",
      " |     |     |\n",
      "006---007---008\n",
      "\n"
     ]
    }
   ],
   "source": [
    "lat = make_surface_code_lattice(3,3)\n",
    "lat.color_lattice(make_random_coloring(len(lat.colors)))\n",
    "print(lat)\n"
   ]
  },
  {
   "cell_type": "code",
   "execution_count": 246,
   "metadata": {},
   "outputs": [
    {
     "name": "stderr",
     "output_type": "stream",
     "text": [
      "100%|██████████| 262144/262144 [00:16<00:00, 15830.45it/s]\n"
     ]
    }
   ],
   "source": [
    "joint_distribution = make_joint_distribution(lat, rates)"
   ]
  },
  {
   "cell_type": "code",
   "execution_count": 247,
   "metadata": {},
   "outputs": [
    {
     "name": "stdout",
     "output_type": "stream",
     "text": [
      "1.7100357775584347\n",
      "1.9313897850729926\n"
     ]
    }
   ],
   "source": [
    "Hcond = calculate_conditional_entropy_logical_on_stabilizer(joint_distribution)\n",
    "Hlogical = calculate_logical_entropy(joint_distribution)\n",
    "print(Hcond)\n",
    "print(Hlogical)"
   ]
  },
  {
   "cell_type": "markdown",
   "metadata": {},
   "source": [
    "### Compare surface with shor codes "
   ]
  },
  {
   "cell_type": "code",
   "execution_count": 255,
   "metadata": {},
   "outputs": [
    {
     "name": "stdout",
     "output_type": "stream",
     "text": [
      "000---001---002\n",
      " | \u001b[34m # \u001b[0m | \u001b[31m # \u001b[0m |\n",
      "003---004---005\n",
      " | \u001b[31m # \u001b[0m | \u001b[34m # \u001b[0m |\n",
      "006---007---008\n",
      "\n",
      "000---001---002\n",
      " | \u001b[34m # \u001b[0m | \u001b[34m # \u001b[0m |\n",
      "003---004---005\n",
      " | \u001b[34m # \u001b[0m | \u001b[34m # \u001b[0m |\n",
      "006---007---008\n",
      "\n",
      "000---001---002\n",
      " | \u001b[31m # \u001b[0m | \u001b[31m # \u001b[0m |\n",
      "003---004---005\n",
      " | \u001b[31m # \u001b[0m | \u001b[31m # \u001b[0m |\n",
      "006---007---008\n",
      "\n"
     ]
    }
   ],
   "source": [
    "lat_surface = make_surface_code_lattice(3,3)\n",
    "lat_shor_blue = Lattice2D(3,3)\n",
    "lat_shor_red = Lattice2D(3,3)\n",
    "lat_shor_blue.color_lattice([1]*4)\n",
    "lat_shor_red.color_lattice([-1]*4)\n",
    "print(lat_surface)\n",
    "print(lat_shor_blue)\n",
    "print(lat_shor_red)"
   ]
  },
  {
   "cell_type": "code",
   "execution_count": 250,
   "metadata": {},
   "outputs": [
    {
     "name": "stderr",
     "output_type": "stream",
     "text": [
      "100%|██████████| 262144/262144 [00:19<00:00, 13216.70it/s]\n",
      "100%|██████████| 262144/262144 [00:19<00:00, 13245.58it/s]\n",
      "100%|██████████| 262144/262144 [00:19<00:00, 13761.80it/s]\n"
     ]
    }
   ],
   "source": [
    "rates = [0.1, 0.1, 0.1]\n",
    "joint_surface = make_joint_distribution(lat_surface, rates)\n",
    "joint_shor_blue = make_joint_distribution(lat_shor_blue, rates)\n",
    "joint_shor_red = make_joint_distribution(lat_shor_red, rates)"
   ]
  },
  {
   "cell_type": "code",
   "execution_count": 251,
   "metadata": {},
   "outputs": [
    {
     "name": "stdout",
     "output_type": "stream",
     "text": [
      "surface 1.6035918908860567 1.9313897850729989\n",
      "shor_blue 1.5819125733433765 1.931389785072999\n",
      "shor_red 1.581912573343375 1.9313897850729989\n"
     ]
    }
   ],
   "source": [
    "Hcond_surface = calculate_conditional_entropy_logical_on_stabilizer(joint_surface)\n",
    "Hlogical_surface = calculate_logical_entropy(joint_surface)\n",
    "Hcond_shor_blue = calculate_conditional_entropy_logical_on_stabilizer(joint_shor_blue)\n",
    "Hlogical_shor_blue = calculate_logical_entropy(joint_shor_blue)\n",
    "Hcond_shor_red = calculate_conditional_entropy_logical_on_stabilizer(joint_shor_red)\n",
    "Hlogical_shor_red = calculate_logical_entropy(joint_shor_red)\n",
    "print('surface', Hcond_surface, Hlogical_surface)\n",
    "print('shor_blue', Hcond_shor_blue, Hlogical_shor_blue)\n",
    "print('shor_red', Hcond_shor_red, Hlogical_shor_red)"
   ]
  },
  {
   "cell_type": "code",
   "execution_count": 252,
   "metadata": {},
   "outputs": [
    {
     "name": "stderr",
     "output_type": "stream",
     "text": [
      "100%|██████████| 262144/262144 [00:19<00:00, 13452.21it/s]\n",
      "100%|██████████| 262144/262144 [00:19<00:00, 13534.50it/s]\n",
      "100%|██████████| 262144/262144 [00:19<00:00, 13419.24it/s]\n"
     ]
    }
   ],
   "source": [
    "rates = [0.09, 0.01, 0.01]\n",
    "joint_surface = make_joint_distribution(lat_surface, rates)\n",
    "joint_shor_blue = make_joint_distribution(lat_shor_blue, rates)\n",
    "joint_shor_red = make_joint_distribution(lat_shor_red, rates)"
   ]
  },
  {
   "cell_type": "code",
   "execution_count": 253,
   "metadata": {},
   "outputs": [
    {
     "name": "stdout",
     "output_type": "stream",
     "text": [
      "surface 0.4694503669525233 1.1180935167571326\n",
      "shor_blue 0.5360582872184037 1.1180935167571326\n",
      "shor_red 0.3885078377376247 1.118093516757133\n"
     ]
    }
   ],
   "source": [
    "Hcond_surface = calculate_conditional_entropy_logical_on_stabilizer(joint_surface)\n",
    "Hlogical_surface = calculate_logical_entropy(joint_surface)\n",
    "Hcond_shor_blue = calculate_conditional_entropy_logical_on_stabilizer(joint_shor_blue)\n",
    "Hlogical_shor_blue = calculate_logical_entropy(joint_shor_blue)\n",
    "Hcond_shor_red = calculate_conditional_entropy_logical_on_stabilizer(joint_shor_red)\n",
    "Hlogical_shor_red = calculate_logical_entropy(joint_shor_red)\n",
    "print('surface', Hcond_surface, Hlogical_surface)\n",
    "print('shor_blue', Hcond_shor_blue, Hlogical_shor_blue)\n",
    "print('shor_red', Hcond_shor_red, Hlogical_shor_red)"
   ]
  },
  {
   "cell_type": "code",
   "execution_count": 264,
   "metadata": {},
   "outputs": [
    {
     "name": "stderr",
     "output_type": "stream",
     "text": [
      "100%|██████████| 262144/262144 [00:19<00:00, 13467.76it/s]\n",
      "100%|██████████| 262144/262144 [00:19<00:00, 13537.27it/s]\n",
      "100%|██████████| 262144/262144 [00:19<00:00, 13351.99it/s]\n",
      "100%|██████████| 262144/262144 [00:19<00:00, 13114.34it/s]\n",
      "100%|██████████| 262144/262144 [00:19<00:00, 13289.62it/s]\n"
     ]
    }
   ],
   "source": [
    "# calculate the entropies for a range of error rates\n",
    "rates = [(0.3, 0.3, 0.3), (0.1, 0.1, 0.1), (0.01, 0.01, 0.01), (0.001, 0.001, 0.001), (0.0001, 0.0001, 0.0001)]\n",
    "Hcond_surface = []\n",
    "Hlogical_surface = []\n",
    "\n",
    "lat_surface = make_surface_code_lattice(3,3)\n",
    "for rate in rates:\n",
    "    joint_surface = make_joint_distribution(lat_surface, rate)\n",
    "    Hcond_surface.append(calculate_conditional_entropy_logical_on_stabilizer(joint_surface))\n",
    "    Hlogical_surface.append(calculate_logical_entropy(joint_surface))\n"
   ]
  },
  {
   "cell_type": "code",
   "execution_count": 265,
   "metadata": {},
   "outputs": [],
   "source": [
    "def calculate_rate_entropy_1q(rates, num_qubits):\n",
    "    p = (1 - sum(rates), *rates)\n",
    "    H_1q = -sum([p_i*np.log2(p_i) for p_i in p if p_i > 0])\n",
    "    return H_1q*num_qubits"
   ]
  },
  {
   "cell_type": "code",
   "execution_count": 266,
   "metadata": {},
   "outputs": [
    {
     "name": "stdout",
     "output_type": "stream",
     "text": [
      "[1.9989659210720498, 1.6035918908860567, 0.051580434544304936, 0.0007194658107871844, 9.0689231877454e-06]\n",
      "[1.9999075601518346, 1.9313897850729989, 0.625267359879713, 0.1017358748134998, 0.013874002501308545]\n",
      "[17.0591565981449, 12.211016845023357, 2.177466595678898, 0.3079704541237714, 0.03977151568525381]\n"
     ]
    }
   ],
   "source": [
    "print(Hcond_surface)\n",
    "print(Hlogical_surface)\n",
    "print([calculate_rate_entropy_1q(rate, 9) for rate in rates])"
   ]
  },
  {
   "cell_type": "code",
   "execution_count": 261,
   "metadata": {},
   "outputs": [
    {
     "data": {
      "text/plain": [
       "[<matplotlib.lines.Line2D at 0x7f618f85b040>]"
      ]
     },
     "execution_count": 261,
     "metadata": {},
     "output_type": "execute_result"
    },
    {
     "data": {
      "image/png": "[encoded data removed]",
      "text/plain": [
       "<Figure size 640x480 with 1 Axes>"
      ]
     },
     "metadata": {},
     "output_type": "display_data"
    }
   ],
   "source": [
    "plt.plot(Hcond_surface)\n",
    "plt.plot(Hlogical_surface)"
   ]
  },
  {
   "cell_type": "markdown",
   "metadata": {},
   "source": [
    "# stabilizer entropy"
   ]
  },
  {
   "cell_type": "code",
   "execution_count": 11,
   "metadata": {},
   "outputs": [
    {
     "name": "stderr",
     "output_type": "stream",
     "text": [
      "  0%|          | 0/262144 [00:00<?, ?it/s]"
     ]
    },
    {
     "name": "stderr",
     "output_type": "stream",
     "text": [
      "100%|██████████| 262144/262144 [00:04<00:00, 56559.27it/s]\n"
     ]
    },
    {
     "data": {
      "text/plain": [
       "3.3840779991101404"
      ]
     },
     "execution_count": 11,
     "metadata": {},
     "output_type": "execute_result"
    }
   ],
   "source": [
    "rates = [0.01, 0.01, 0.05]\n",
    "calculate_stabilizer_entropy_exact(parity_check_matrix, error_distribution_func, rates)"
   ]
  },
  {
   "cell_type": "code",
   "execution_count": 12,
   "metadata": {},
   "outputs": [],
   "source": [
    "import itertools as _itr"
   ]
  },
  {
   "cell_type": "code",
   "execution_count": 13,
   "metadata": {},
   "outputs": [],
   "source": [
    "# make all 3x3 lattices\n",
    "# first make all length-4 lists of elements in {-1, 0, 1}\n",
    "# then make all 3x3 lattices\n",
    "# then calculate the entropy of each lattice\n",
    "# then plot the entropy of each lattice\n",
    "# then calculate the entropy of each lattice with a depolarizing channel\n",
    "# then plot the entropy of each lattice with a depolarizing channel\n",
    "\n",
    "all_colorings = _itr.product([-1, 0, 1], repeat=4)\n",
    "\n",
    "\n",
    "lattices = []\n",
    "for i in all_colorings:\n",
    "    lat = make_surface_code_lattice(3,3)\n",
    "    lat.color_lattice(i)\n",
    "    lattices.append(lat)"
   ]
  },
  {
   "cell_type": "code",
   "execution_count": 14,
   "metadata": {},
   "outputs": [
    {
     "name": "stderr",
     "output_type": "stream",
     "text": [
      "100%|██████████| 262144/262144 [00:04<00:00, 55047.78it/s]\n",
      "100%|██████████| 262144/262144 [00:04<00:00, 57943.70it/s]\n",
      "100%|██████████| 262144/262144 [00:04<00:00, 57086.97it/s]\n",
      "100%|██████████| 262144/262144 [00:04<00:00, 56435.93it/s]\n",
      "100%|██████████| 262144/262144 [00:04<00:00, 56313.21it/s]\n",
      "100%|██████████| 262144/262144 [00:04<00:00, 55162.56it/s]\n",
      " 16%|█▌        | 41992/262144 [00:00<00:03, 56606.99it/s]\n",
      "  7%|▋         | 6/81 [00:28<05:58,  4.78s/it]\n"
     ]
    },
    {
     "ename": "KeyboardInterrupt",
     "evalue": "",
     "output_type": "error",
     "traceback": [
      "\u001b[0;31m---------------------------------------------------------------------------\u001b[0m",
      "\u001b[0;31mKeyboardInterrupt\u001b[0m                         Traceback (most recent call last)",
      "Cell \u001b[0;32mIn[14], line 4\u001b[0m\n\u001b[1;32m      2\u001b[0m entropies \u001b[38;5;241m=\u001b[39m []\n\u001b[1;32m      3\u001b[0m \u001b[38;5;28;01mfor\u001b[39;00m l \u001b[38;5;129;01min\u001b[39;00m tqdm(lattices):\n\u001b[0;32m----> 4\u001b[0m     entropies\u001b[38;5;241m.\u001b[39mappend(\u001b[43mcalculate_stabilizer_entropy_exact\u001b[49m\u001b[43m(\u001b[49m\u001b[43ml\u001b[49m\u001b[38;5;241;43m.\u001b[39;49m\u001b[43mparity_check_matrix\u001b[49m\u001b[43m(\u001b[49m\u001b[43m)\u001b[49m\u001b[43m,\u001b[49m\u001b[43m \u001b[49m\u001b[43merror_distribution_func\u001b[49m\u001b[43m,\u001b[49m\u001b[43m \u001b[49m\u001b[43mrates\u001b[49m\u001b[43m)\u001b[49m)\n",
      "Cell \u001b[0;32mIn[8], line 9\u001b[0m, in \u001b[0;36mcalculate_stabilizer_entropy_exact\u001b[0;34m(parity_check_mat, error_distribution_func, error_rates)\u001b[0m\n\u001b[1;32m      7\u001b[0m pauli_string \u001b[38;5;241m=\u001b[39m index_to_pauli_string(i, num_qubits)\n\u001b[1;32m      8\u001b[0m pauli_bitstring \u001b[38;5;241m=\u001b[39m pauli2vector(pauli_string)\n\u001b[0;32m----> 9\u001b[0m syndrome \u001b[38;5;241m=\u001b[39m \u001b[43mtwisted_prod_mat\u001b[49m\u001b[43m(\u001b[49m\u001b[43mparity_check_mat\u001b[49m\u001b[43m,\u001b[49m\u001b[43m \u001b[49m\u001b[43mpauli_bitstring\u001b[49m\u001b[43m)\u001b[49m\n\u001b[1;32m     10\u001b[0m syndrome_string \u001b[38;5;241m=\u001b[39m \u001b[38;5;124m'\u001b[39m\u001b[38;5;124m'\u001b[39m\u001b[38;5;241m.\u001b[39mjoin([\u001b[38;5;28mstr\u001b[39m(\u001b[38;5;28mint\u001b[39m(s)) \u001b[38;5;28;01mfor\u001b[39;00m s \u001b[38;5;129;01min\u001b[39;00m syndrome])\n\u001b[1;32m     11\u001b[0m prob \u001b[38;5;241m=\u001b[39m error_distribution_func(pauli_string, \u001b[38;5;241m*\u001b[39merror_rates)\n",
      "\u001b[0;31mKeyboardInterrupt\u001b[0m: "
     ]
    }
   ],
   "source": [
    "rates = [0.01, 0.01, 0.05]\n",
    "entropies = []\n",
    "for l in tqdm(lattices):\n",
    "    entropies.append(calculate_stabilizer_entropy_exact(l.parity_check_matrix(), error_distribution_func, rates))"
   ]
  },
  {
   "cell_type": "code",
   "execution_count": 15,
   "metadata": {},
   "outputs": [
    {
     "data": {
      "text/plain": [
       "[2.8027397537313523,\n",
       " 2.752759383454711,\n",
       " 3.105688937530992,\n",
       " 2.75275938345471,\n",
       " 2.670600410106795,\n",
       " 3.025327411576127]"
      ]
     },
     "execution_count": 15,
     "metadata": {},
     "output_type": "execute_result"
    }
   ],
   "source": [
    "entropies"
   ]
  },
  {
   "cell_type": "code",
   "execution_count": 16,
   "metadata": {},
   "outputs": [],
   "source": [
    "# get index of the max entropy\n",
    "max_idx = np.argmax(entropies)"
   ]
  },
  {
   "cell_type": "code",
   "execution_count": 17,
   "metadata": {},
   "outputs": [
    {
     "name": "stdout",
     "output_type": "stream",
     "text": [
      "000---001---002\n",
      " | \u001b[31m # \u001b[0m | \u001b[31m # \u001b[0m |\n",
      "003---004---005\n",
      " | \u001b[31m # \u001b[0m | \u001b[34m # \u001b[0m |\n",
      "006---007---008\n",
      "\n"
     ]
    }
   ],
   "source": [
    "print(lattices[max_idx])"
   ]
  },
  {
   "cell_type": "code",
   "execution_count": 18,
   "metadata": {},
   "outputs": [
    {
     "data": {
      "text/plain": [
       "3.105688937530992"
      ]
     },
     "execution_count": 18,
     "metadata": {},
     "output_type": "execute_result"
    }
   ],
   "source": [
    "entropies[max_idx]"
   ]
  },
  {
   "cell_type": "code",
   "execution_count": 19,
   "metadata": {},
   "outputs": [
    {
     "name": "stderr",
     "output_type": "stream",
     "text": [
      "  0%|          | 0/81 [00:00<?, ?it/s]"
     ]
    },
    {
     "name": "stderr",
     "output_type": "stream",
     "text": [
      "100%|██████████| 81/81 [00:17<00:00,  4.73it/s]\n"
     ]
    }
   ],
   "source": [
    "approx_entropies = []\n",
    "for l in tqdm(lattices):\n",
    "    approx_entropies.append(calculate_stabilizer_entropy_emperical(l.parity_check_matrix(), error_distribution_func, rates, 1000))"
   ]
  },
  {
   "cell_type": "code",
   "execution_count": 116,
   "metadata": {},
   "outputs": [
    {
     "name": "stdout",
     "output_type": "stream",
     "text": [
      "[ 0.0942314  -0.01324355 -0.01317728  0.04466563  0.10731451 -0.01910016\n",
      "  0.1173792   0.06466139  0.0646812  -0.06642519  0.03975739  0.05788281\n",
      "  0.01567762 -0.02077428  0.06427034  0.13222315  0.04971246  0.04451707\n",
      "  0.21948158  0.23199594  0.1129785   0.03430621  0.0890309   0.11141723\n",
      "  0.03032848  0.02830469  0.21107173  0.03580275  0.01091599  0.12962905\n",
      "  0.10690677  0.01019015  0.02187194  0.28211547 -0.09002567 -0.01684141\n",
      "  0.06623323  0.18221988 -0.04061239 -0.06656623 -0.01040847  0.04697581\n",
      " -0.06268592  0.09165467  0.13252082  0.00196252  0.06708011  0.19232651\n",
      "  0.04196153 -0.02699652  0.03912775  0.12915131  0.04742969  0.08174643\n",
      "  0.07484479 -0.02705361  0.08289333  0.07161465 -0.02039262 -0.02192278\n",
      "  0.13335347  0.10001687 -0.03744467  0.041375    0.1150174   0.18769854\n",
      "  0.03648673 -0.02785136  0.09073171 -0.01666327 -0.09942309  0.10885059\n",
      "  0.07475341 -0.05384888  0.12574001  0.00938418  0.03691722  0.00506064\n",
      "  0.22954643  0.11752144  0.13987416]\n"
     ]
    }
   ],
   "source": [
    "entropies = np.array(entropies)\n",
    "approx_entropies = np.array(approx_entropies)\n",
    "print(entropies-approx_entropies)"
   ]
  },
  {
   "cell_type": "code",
   "execution_count": null,
   "metadata": {},
   "outputs": [],
   "source": []
  }
 ],
 "metadata": {
  "kernelspec": {
   "display_name": "ErrorGenerators",
   "language": "python",
   "name": "python3"
  },
  "language_info": {
   "codemirror_mode": {
    "name": "ipython",
    "version": 3
   },
   "file_extension": ".py",
   "mimetype": "text/x-python",
   "name": "python",
   "nbconvert_exporter": "python",
   "pygments_lexer": "ipython3",
   "version": "3.10.11"
  }
 },
 "nbformat": 4,
 "nbformat_minor": 2
}
