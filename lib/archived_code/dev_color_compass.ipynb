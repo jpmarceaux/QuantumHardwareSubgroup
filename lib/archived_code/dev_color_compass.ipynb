{
 "cells": [
  {
   "cell_type": "markdown",
   "id": "6eb7a341-8a4d-45e3-8d6b-0af124753daf",
   "metadata": {},
   "source": [
    "This notebook is to develop and test lib/color_compass_code.py\n",
    "\n",
    "TO DO"
   ]
  },
  {
   "cell_type": "markdown",
   "id": "1bc8831a-369e-4c40-8279-03c999d87f7c",
   "metadata": {},
   "source": [
    "# color_compass.py"
   ]
  },
  {
   "cell_type": "code",
   "execution_count": 1,
   "id": "55185bb4-95d2-4364-8190-d207293edc1a",
   "metadata": {},
   "outputs": [],
   "source": [
    "### lib/color_compass.py ###\n",
    "import stim\n",
    "import numpy as np\n",
    "from pymatching import Matching\n",
    "import numpy as np\n",
    "from termcolor import colored"
   ]
  },
  {
   "cell_type": "code",
   "execution_count": 2,
   "id": "6e4daa88-523f-42b4-a24b-ab5dcfe6caf2",
   "metadata": {},
   "outputs": [],
   "source": [
    "from lib.color_compass import Lattice2D, compass_to_surface"
   ]
  },
  {
   "cell_type": "markdown",
   "id": "a129ac96-06f0-4825-b997-eedf08ae9456",
   "metadata": {},
   "source": [
    "# Surface code as a compass code"
   ]
  },
  {
   "cell_type": "code",
   "execution_count": 7,
   "id": "e4a894a5-afd6-4979-8271-ae7a10c67997",
   "metadata": {},
   "outputs": [
    {
     "name": "stdout",
     "output_type": "stream",
     "text": [
      "000---001---002\n",
      " | \u001b[34m # \u001b[0m | \u001b[31m # \u001b[0m |\n",
      "003---004---005\n",
      " | \u001b[31m # \u001b[0m | \u001b[34m # \u001b[0m |\n",
      "006---007---008\n",
      "\n",
      "\n",
      "X__\n",
      "X__\n",
      "___\n",
      "\n",
      "_XX\n",
      "_XX\n",
      "___\n",
      "\n",
      "___\n",
      "XX_\n",
      "XX_\n",
      "\n",
      "___\n",
      "__X\n",
      "__X\n",
      "\n",
      "_ZZ\n",
      "___\n",
      "___\n",
      "\n",
      "___\n",
      "_ZZ\n",
      "_ZZ\n",
      "\n",
      "ZZ_\n",
      "ZZ_\n",
      "___\n",
      "\n",
      "___\n",
      "___\n",
      "ZZ_\n"
     ]
    }
   ],
   "source": [
    "dim = 3\n",
    "dimX,dimZ = dim,dim\n",
    "lat = compass_to_surface(dimX,dimZ,'X')\n",
    "print(lat)\n",
    "for stab in lat.getS():\n",
    "    print()\n",
    "    for i in range(dimX):\n",
    "        print(stab[dimX*i:dimX*(i+1)])"
   ]
  },
  {
   "cell_type": "markdown",
   "id": "f959a380-276e-4347-8b76-9a861aa37418",
   "metadata": {},
   "source": [
    "# (Issue)"
   ]
  },
  {
   "cell_type": "code",
   "execution_count": null,
   "id": "d18c928c-6a2c-47da-9338-1fa7939c8009",
   "metadata": {},
   "outputs": [],
   "source": []
  }
 ],
 "metadata": {
  "kernelspec": {
   "display_name": "base",
   "language": "python",
   "name": "python3"
  },
  "language_info": {
   "codemirror_mode": {
    "name": "ipython",
    "version": 3
   },
   "file_extension": ".py",
   "mimetype": "text/x-python",
   "name": "python",
   "nbconvert_exporter": "python",
   "pygments_lexer": "ipython3",
   "version": "3.8.13"
  },
  "vscode": {
   "interpreter": {
    "hash": "11d38638bc765a05a2e9b017a5109585eca6fd1c9fd4081a2b2b4d2c8dd08d4c"
   }
  }
 },
 "nbformat": 4,
 "nbformat_minor": 5
}
