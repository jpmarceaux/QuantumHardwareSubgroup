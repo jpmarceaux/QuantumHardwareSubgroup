{
 "cells": [
  {
   "cell_type": "code",
   "execution_count": 1,
   "metadata": {},
   "outputs": [],
   "source": [
    "import numpy as np\n",
    "import matplotlib.pyplot as plt\n",
    "import stim\n",
    "from lib.stabilizer import measurement_gadgets, StabilizerCode, stabilizer_circuits\n",
    "from lib.color_compass import *\n",
    "from lib.decoder import checkmatrix,pL_from_checkmatrix\n",
    "from lib.stim2pymatching import estimate_pL_noisy_graph\n",
    "import stimcirq\n",
    "from typing import *\n",
    "from cirq.contrib.svg import SVGCircuit\n",
    "import networkx as nx\n",
    "import time\n",
    "from tqdm import tqdm\n",
    "import scipy.stats as ss\n",
    "import pickle\n",
    "from pymatching import Matching\n",
    "from ldpc import bposd_decoder\n",
    "from CompassCode import Lattice2D, choose_gauge_fixing, random_pauli, print_pauli_error, random_pauli_asym, pcheck_clipX, pcheck_clipZ\n",
    "\n",
    "%load_ext autoreload\n",
    "%autoreload 2"
   ]
  },
  {
   "cell_type": "markdown",
   "metadata": {},
   "source": [
    "## Depolarizing Noise"
   ]
  },
  {
   "cell_type": "code",
   "execution_count": 45,
   "metadata": {},
   "outputs": [],
   "source": [
    "dim = 10\n",
    "lat = Lattice2D(dim, dim)\n",
    "coloring = 1 * np.ones((dim - 1)**2)\n",
    "litmus_lat = compass_to_surface(dim ,dim)\n",
    "lat.color_lattice(coloring)\n",
    "rate = 0.02\n",
    "num_errors = 1000\n",
    "rates = [rate, rate, rate]\n",
    "synd_sens_abs_diff = []\n",
    "for err in range(num_errors):\n",
    "    E = random_pauli(lat.size(), rates)\n",
    "    while E == 'I' * lat.size():\n",
    "        E = random_pauli(lat.size(), rates)\n",
    "    error = pauli2vector(E)\n",
    "    pcheckX = litmus_lat.pcheckX() \n",
    "    pcheckZ = litmus_lat.pcheckZ() \n",
    "    pcheck = np.vstack((pcheckX, pcheckZ)) \n",
    "    syndromeZ = twisted_product(pcheckX, pauli2vector(E)) # Z-error syndrome \n",
    "    syndromeX = twisted_product(pcheckZ, pauli2vector(E)) # X-error syndrome \n",
    "    synd_sens_abs_diff.append(np.sum(syndromeZ) - np.sum(syndromeX))"
   ]
  },
  {
   "cell_type": "code",
   "execution_count": 46,
   "metadata": {},
   "outputs": [
    {
     "data": {
      "image/png": "[encoded data removed]",
      "text/plain": [
       "<Figure size 640x480 with 1 Axes>"
      ]
     },
     "metadata": {},
     "output_type": "display_data"
    }
   ],
   "source": [
    "fig, ax = plt.subplots()\n",
    "bins = np.linspace(-20,20,40)\n",
    "ax.hist(synd_sens_abs_diff, bins)\n",
    "ax.set_xlabel('Syndrome Sensitivity (Absolute Difference)')\n",
    "ax.set_ylabel('Counts')\n",
    "plt.show()"
   ]
  },
  {
   "cell_type": "markdown",
   "metadata": {},
   "source": [
    "## Biased Depolarizing Noise"
   ]
  },
  {
   "cell_type": "code",
   "execution_count": null,
   "metadata": {},
   "outputs": [],
   "source": [
    "# Compass Code Simulation\n",
    "dims = [3,5,7,9,11,15]\n",
    "phys_err_rates_range = np.linspace(0.0001, 0.1, 10)\n",
    "num_errors = 100 \n",
    "num_gauge_fixings = 10\n",
    "logical_errors = {dim: np.zeros((num_gauge_fixings, len(phys_err_rates_range),)) for dim in dims}\n",
    "\n",
    "for dim in tqdm(dims):\n",
    "    for gf in range(num_gauge_fixings):\n",
    "        lat = Lattice2D(dim, dim)\n",
    "        coloring = np.random.randint(-1, 2, size=(dim - 1)**2)\n",
    "        lat.color_lattice(coloring)\n",
    "        for i, phys_rate in enumerate(phys_err_rates_range):\n",
    "            rates = [phys_rate, phys_rate, phys_rate]\n",
    "            for err in range(num_errors):\n",
    "                E = random_pauli(lat.size(), rates)\n",
    "                while E == 'I' * lat.size():\n",
    "                    E = random_pauli(lat.size(), rates)\n",
    "                error = pauli2vector(E)\n",
    "                pcheckX = lat.pcheckX() \n",
    "                pcheckZ = lat.pcheckZ() \n",
    "                pcheck = np.vstack((pcheckX, pcheckZ)) \n",
    "                syndromeZ = twisted_product(pcheckX, pauli2vector(E)) # Z-error syndrome \n",
    "                syndromeX = twisted_product(pcheckZ, pauli2vector(E)) # X-error syndrome \n",
    "                Hx = pcheck_clipX(pcheckX)\n",
    "                Hz = pcheck_clipZ(pcheckZ)\n",
    "                decodingX = Matching.from_check_matrix(Hx)\n",
    "                decodingZ = Matching.from_check_matrix(Hz)\n",
    "                recoveryX = decodingX.decode(syndromeZ)\n",
    "                recoveryZ = decodingZ.decode(syndromeX)\n",
    "                recovery = np.concatenate((recoveryZ, recoveryX))\n",
    "                corrected_error = pauli2vector(E) + recovery % 2 \n",
    "\n",
    "                if (twisted_product(pauli2vector(lat.Lx), corrected_error) == 1) or (twisted_product(pauli2vector(lat.Lz), corrected_error) == 1):\n",
    "                    logical_errors[dim][gf][i] += 1"
   ]
  }
 ],
 "metadata": {
  "kernelspec": {
   "display_name": "qcenv",
   "language": "python",
   "name": "python3"
  },
  "language_info": {
   "codemirror_mode": {
    "name": "ipython",
    "version": 3
   },
   "file_extension": ".py",
   "mimetype": "text/x-python",
   "name": "python",
   "nbconvert_exporter": "python",
   "pygments_lexer": "ipython3",
   "version": "3.9.16"
  }
 },
 "nbformat": 4,
 "nbformat_minor": 2
}
