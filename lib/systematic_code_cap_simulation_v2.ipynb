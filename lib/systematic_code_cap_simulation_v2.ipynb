{
 "cells": [
  {
   "cell_type": "markdown",
   "metadata": {},
   "source": [
    "## Setup\n",
    "* 4 x 4 code sample all errors in Pauli noise regimes\n",
    "    * Low - less than $\\frac{L - 1}{2}$\n",
    "    * Medium - Between $\\frac{L - 1}{2}$ and $L$ \n",
    "    * High - From $L$ to $L^2$\n",
    "* Perform decoding process for each of these noise regimes, sampling many errors for each types of noise regime\n",
    "\n",
    "## Other Action Items\n",
    "* Weighted edges for graphs (negative log-likelihood)\n",
    "    * CHECK OTHER JUPYTER NOTEBOOK\n",
    "* Figuring out phenomenological & circuit-level"
   ]
  },
  {
   "cell_type": "code",
   "execution_count": 1,
   "metadata": {},
   "outputs": [],
   "source": [
    "import numpy as np\n",
    "import matplotlib.pyplot as plt\n",
    "import stim\n",
    "from lib.stabilizer import measurement_gadgets, StabilizerCode, stabilizer_circuits\n",
    "from lib.color_compass import *\n",
    "from lib.decoder import checkmatrix,pL_from_checkmatrix\n",
    "from lib.stim2pymatching import estimate_pL_noisy_graph\n",
    "import stimcirq\n",
    "from typing import *\n",
    "from cirq.contrib.svg import SVGCircuit\n",
    "import networkx as nx\n",
    "import time\n",
    "from tqdm import tqdm\n",
    "import scipy.stats as ss\n",
    "import pickle\n",
    "from pymatching import Matching\n",
    "from ldpc import bposd_decoder\n",
    "\n",
    "%load_ext autoreload\n",
    "%autoreload 2"
   ]
  },
  {
   "cell_type": "code",
   "execution_count": 2,
   "metadata": {},
   "outputs": [],
   "source": [
    "class Lattice2D():\n",
    "    \"\"\"\n",
    "    convention: \n",
    "    X coords extend vertically |\n",
    "    Z coords extend horizontally --\n",
    "    store the coloring as a list with values in {-1, 0, 1}\n",
    "    \n",
    "    Red  ~ -1 ~ Z-type cuts\n",
    "    Blue ~ +1 ~ X-type cuts\n",
    "    White ~ 0\n",
    "    \n",
    "    preallocate logical X and L as cuts accross the lattice\n",
    "    \"\"\"\n",
    "    def __init__(self, dimX, dimZ):\n",
    "        self.dimX = dimX\n",
    "        self.dimZ = dimZ\n",
    "        self.colors = [0] * (dimX-1)*(dimZ-1)\n",
    "        self.stabs = bacon_shor_group(dimX, dimZ)\n",
    "        self.gauge = bsgauge_group(dimX, dimZ)\n",
    "        self.Lx = ''.join(['X']*dimX+['_']*dimX*(dimZ-1))\n",
    "        self.Lz = ''.join((['Z']+['_']*(dimX-1))*dimZ)\n",
    "        self.logicals = [self.Lx,self.Lz]\n",
    "        \n",
    "    def size(self):\n",
    "        return self.dimX*self.dimZ\n",
    "        \n",
    "    def __str__(self):\n",
    "        vertex_rows = []\n",
    "        face_rows = []\n",
    "        dimX = self.dimX\n",
    "        dimZ = self.dimZ\n",
    "        for i in range(dimX):\n",
    "            vertex_string = ''\n",
    "            for j in range(dimZ):\n",
    "                vertex_string += str(i*dimZ + j).zfill(3)\n",
    "                if (j != dimZ-1):\n",
    "                    vertex_string += '---'\n",
    "            vertex_rows.append(vertex_string)\n",
    "                \n",
    "        for i in range(dimX-1):\n",
    "            face_string = ''\n",
    "            for j in range(dimZ-1):\n",
    "                if(self.colors[i*(dimZ-1) + j] == -1):\n",
    "                    # face_string += ' | '+colored(' # ', 'red')\n",
    "                    face_string += ' | ' + ' ░ '\n",
    "                elif(self.colors[i*(dimZ-1) + j] == +1):\n",
    "                    # face_string += ' | '+colored(' # ', 'blue')\n",
    "                    face_string += ' | ' + ' ▓ '\n",
    "                elif(self.colors[i*(dimZ-1) + j] == 0):\n",
    "                    face_string += ' |    '\n",
    "                else:\n",
    "                    raise ValueError(f'Invalid color type {self.colors[i*dimZ+j]}')\n",
    "                if j == dimZ-2:\n",
    "                    face_string += ' |'\n",
    "            face_rows.append(face_string)\n",
    "        sout = ''\n",
    "        for idx, row in enumerate(vertex_rows):\n",
    "            sout += row +'\\n'\n",
    "            if idx != len(vertex_rows)-1:\n",
    "                sout += face_rows[idx]+'\\n'\n",
    "        return sout\n",
    "    \n",
    "    def size(self):\n",
    "        return self.dimX*self.dimZ\n",
    "    \n",
    "    def getG(self):\n",
    "        return self.gauge[0]+self.gauge[1]\n",
    "    \n",
    "    def getGx(self):\n",
    "        return self.gauge[0]\n",
    "    \n",
    "    def getGz(self):\n",
    "        return self.gauge[1]\n",
    "    \n",
    "    def getS(self):\n",
    "        return self.stabs[0]+self.stabs[1]\n",
    "    \n",
    "    def getSx(self):\n",
    "        return self.stabs[0]\n",
    "    \n",
    "    def getSz(self):\n",
    "        return self.stabs[1]\n",
    "    \n",
    "    def getDims(self):\n",
    "        return (self.dimX, self.dimZ)\n",
    "    \n",
    "    def max_stab_number(self):\n",
    "        return self.dimX*self.dimZ - 1\n",
    "    \n",
    "    def pcheckZ(self):\n",
    "        \"\"\"returns the Z parity check matrix\"\"\"\n",
    "        return np.vstack([pauli2vector(s) for s in self.getSz()])\n",
    "        \n",
    "    def pcheckX(self):\n",
    "        \"\"\"returns the X parity check matrix\"\"\"\n",
    "        return np.vstack([pauli2vector(s) for s in self.getSx()])\n",
    "    \n",
    "    def display(self, pauli):\n",
    "        dimX = self.dimX\n",
    "        dimZ = self.dimZ\n",
    "        if (len(pauli) != dimX*dimZ):\n",
    "            raise ValueError(\"Pauli string dimension mismatch with lattice size\")\n",
    "        sout = ''\n",
    "        slist = list(pauli)\n",
    "        for i in range(dimX):\n",
    "            for j in range(dimZ):\n",
    "                if slist[i*dimZ+j] == 'X':\n",
    "                    sout += ' X '\n",
    "                elif slist[i*dimZ+j] == 'Z':\n",
    "                    sout += ' Z '\n",
    "                else:\n",
    "                    sout += '   '\n",
    "                if (j != dimZ-1):\n",
    "                    sout += '---'\n",
    "            if (i != dimX -1):\n",
    "                sout += '\\n'\n",
    "                sout += ' |    '*dimZ\n",
    "            sout += '\\n'\n",
    "        print(sout)\n",
    "        \n",
    "    def color_lattice(self, colors):\n",
    "        \"\"\"\n",
    "        replace color state with input and recalculate stab and gauge groups \n",
    "        \"\"\"\n",
    "        dimX = self.dimX-1\n",
    "        dimZ = self.dimZ-1\n",
    "        if(len(colors) != dimX*dimZ):\n",
    "            raise ValueError(\"Color dimension mismatch with lattice size\")\n",
    "        \n",
    "        self.stabs = bacon_shor_group(self.dimX, self.dimZ)\n",
    "        self.gauge = bsgauge_group(self.dimX, self.dimZ)\n",
    "        self.colors = colors\n",
    "        \n",
    "        \n",
    "        for cidx, c in enumerate(colors):\n",
    "            if c == -1:\n",
    "                self.update_groups((int(np.floor(cidx/dimZ)), cidx%dimZ), -1)\n",
    "            elif c == +1:\n",
    "                self.update_groups((int(np.floor(cidx/dimZ)), cidx%dimZ), +1)\n",
    "        \n",
    "        \n",
    "    def update_groups(self, coords, cut_type):\n",
    "        \"\"\"\n",
    "        cut the stabilizer group by coloring the face with the given type\n",
    "            AND\n",
    "        update the gauge group \n",
    "    \n",
    "        algo: \n",
    "        [0] pick the gauge operator g to cut around\n",
    "        [1] find s \\in S that has weight-2 overlap with g\n",
    "        [2] divide that s \n",
    "        [3] update the gauge group \n",
    "        \"\"\"\n",
    "        (i, j) = coords\n",
    "        dimX = self.dimX\n",
    "        dimZ = self.dimZ\n",
    "        [Sx, Sz] = self.getSx(), self.getSz()\n",
    "        [Gx, Gz] = self.getGx(), self.getGz()\n",
    "        \n",
    "        if cut_type == -1:\n",
    "            # -1 = red which is a Z-cut\n",
    "            g = ['_'] * dimX*dimZ\n",
    "            g[i*dimZ + j] = 'Z'\n",
    "            g[i*dimZ + j + 1] = 'Z'\n",
    "            \n",
    "            gvec = pauli2vector(''.join(g))\n",
    "            \n",
    "            # cut the relevant stabilizer\n",
    "            for idx, s in enumerate(Sz):\n",
    "                # find the overlapping stabilizer\n",
    "                if pauli_weight(np.bitwise_xor(gvec, pauli2vector(s))) == pauli_weight(s) - 2:\n",
    "                    # cut s into two vertical parts \n",
    "                    s1 = ['_'] * dimX*dimZ\n",
    "                    s2 = ['_'] * dimX*dimZ\n",
    "                    for k in range(0, i+1):\n",
    "                        s1[k*dimZ + j] = s[k*dimZ + j]\n",
    "                        s1[k*dimZ + j+1] = s[k*dimZ + j+1]\n",
    "                    for k in range(i+1, dimX):\n",
    "                        s2[k*dimZ + j] = s[k*dimZ + j]\n",
    "                        s2[k*dimZ + j+1] = s[k*dimZ + j+1]\n",
    "                    del Sz[idx]\n",
    "                    Sz.append(''.join(s1))\n",
    "                    Sz.append(''.join(s2))\n",
    "                    break\n",
    "            \n",
    "            # make new gauge operator and update gauge group \n",
    "            gauge = ['_'] * dimX*dimZ\n",
    "            for k in range(0, j+1):\n",
    "                gauge[k + i*dimZ] = 'Z'\n",
    "                gauge[k + i*dimZ + 1] = 'Z'\n",
    "            Gx_new = []\n",
    "            for g in Gx:\n",
    "                if twisted_product(pauli2vector(''.join(g)), pauli2vector(''.join(gauge))) == 0:\n",
    "                    Gx_new.append(g)\n",
    "            Gx = Gx_new\n",
    "                \n",
    "        elif cut_type == +1:\n",
    "            # +1 = blue that is a X-cut:\n",
    "            g = ['_'] * dimX*dimZ\n",
    "            g[i*dimZ + j] = 'X'\n",
    "            g[(i+1)*dimZ + j ] = 'X'\n",
    "            \n",
    "            gvec = pauli2vector(''.join(g))\n",
    "            \n",
    "            # cut the relevant stabilizer\n",
    "            for idx, s in enumerate(Sx):\n",
    "                # find the overlapping stabilizer\n",
    "                if pauli_weight(np.bitwise_xor(gvec, pauli2vector(s))) == pauli_weight(s) - 2:\n",
    "                    # cut s into two horizontal parts \n",
    "                    s1 = ['_'] * dimX*dimZ\n",
    "                    s2 = ['_'] * dimX*dimZ\n",
    "                    for k in range(0, j+1):\n",
    "                        s1[i*dimZ + k] = s[i*dimZ + k]\n",
    "                        s1[(i+1)*dimZ + k] = s[(i+1)*dimZ + k]\n",
    "                    for k in range(j+1, dimZ):\n",
    "                        s2[i*dimZ + k] = s[i*dimZ + k]\n",
    "                        s2[(i+1)*dimZ + k] = s[(i+1)*dimZ + k]\n",
    "                    del Sx[idx]\n",
    "                    Sx.append(''.join(s1))\n",
    "                    Sx.append(''.join(s2))\n",
    "                    break\n",
    "            \n",
    "            # make new gauge operator and update gauge group \n",
    "            gauge = ['_'] * dimX*dimZ\n",
    "            for k in range(0, j+1):\n",
    "                gauge[k + i*dimZ] = 'X'\n",
    "                gauge[k + (i+1)*dimZ] = 'X'\n",
    "            Gz_new = []\n",
    "            for g in Gz:\n",
    "                if twisted_product(pauli2vector(''.join(g)), pauli2vector(''.join(gauge))) == 0:\n",
    "                    Gz_new.append(g)\n",
    "            Gz = Gz_new\n",
    "\n",
    "        # update the groups\n",
    "        self.stabs = [Sx, Sz]\n",
    "        self.gauge = [Gx, Gz]\n",
    "        \n",
    "    def error_is_corrected(self, syn, l_1, l_2, l_op):\n",
    "        #syn is a vector of syndrome measurements, which has the Sx syndrome bits first\n",
    "        #l_1, l_2 are booleans corresponding to the logical operator measurement\n",
    "        #l_op is the logical operator we're measuring, written as a stim Pauli string\n",
    "\n",
    "        #also need to know the stabilizers to feed into the decoder\n",
    "\n",
    "        #check parity of l_1, l_2. If they are the same: no logical error\n",
    "        #If they are different: logical error\n",
    "        logical_error = ((l_1+l_2) % 2 == 0)\n",
    "\n",
    "        #syndrome measurement gives a syndrome s. Feed into decoder to get a correction operator c\n",
    "        #set up decoder\n",
    "        Sx = lat.getSx()\n",
    "        Sz = lat.getSz()\n",
    "        Hx = np.array([[1 if i != '_' else 0 for i in s] for s in Sx])\n",
    "        Hz = np.array([[1 if i != '_' else 0 for i in s] for s in Sz])\n",
    "        Mx = Matching(Hx)\n",
    "        Mz = Matching(Hz)\n",
    "\n",
    "        #obtain correction operator\n",
    "        cx = Mx.decode(syn[:len(Sx)])\n",
    "        cz = Mz.decode(syn[len(Sx):])\n",
    "        Rx = stim.PauliString(''.join(['X' if i == 1 else '_' for i in cx]))\n",
    "        Rz = stim.PauliString(''.join(['Z' if i == 1 else '_' for i in cz]))\n",
    "\n",
    "        correction_op = Rx*Rz\n",
    "\n",
    "\n",
    "\n",
    "        #check [c, l]\n",
    "            #If l_1 = l_2 and [c, l_op] = 0, then the error has been properly corrected\n",
    "            #in that c keeps the proper eigenstate\n",
    "            #If l_1 = l_2 and [c, l_op] \\neq 0, then the decoder takes the state out of the correct eigenstate\n",
    "            #If l_1 \\neq l_2 and [c,l_op] = 0, then the decoder fails to correct the error\n",
    "            #If l_1 \\neq l_2 and [c, l_op] \\neq 0, then the decoder properly corrects the error\n",
    "        is_corrected = (correction_op.commutes(l_op) != logical_error)\n",
    "\n",
    "        return is_corrected"
   ]
  },
  {
   "cell_type": "code",
   "execution_count": 3,
   "metadata": {},
   "outputs": [],
   "source": [
    "\"\"\"Sample a random Pauli error\n",
    "    for now, I'll assume biased, symmetric, uncorrelated Pauli channel\n",
    "\"\"\"\n",
    "import random\n",
    "\n",
    "def random_pauli(num_qubits : int, rates : list):\n",
    "    assert rates[0] + rates[1] + rates[2] <= 1, \"Error rate must not exceed 1\"\"\"\n",
    "    paulis = []\n",
    "    for i in range(num_qubits):\n",
    "        x = random.uniform(0, 1)\n",
    "        if x <= rates[0]: \n",
    "            paulis.append('X')\n",
    "        elif x <= rates[0] + rates[1]:\n",
    "            paulis.append('Y')\n",
    "        elif x <= rates[0] + rates[1] + rates[2]:\n",
    "            paulis.append('Z')\n",
    "        else:\n",
    "            paulis.append('_')\n",
    "    return ''.join(paulis)\n",
    "\n",
    "def random_pauli_of_weight(num_qubits : int, weight : int):\n",
    "    assert weight < num_qubits, \"Weight of error cannot exceed number of qubits\"\"\"\n",
    "    indices = [i for i in range(num_qubits)]\n",
    "    indices = np.random.choice(indices, weight)\n",
    "    paulis = ['_'] * num_qubits \n",
    "    for index in indices:\n",
    "        paulis[index] = np.random.choice(['X','Z','Y'])\n",
    "\n",
    "    return ''.join(paulis)\n",
    "\n",
    "\n",
    "\n",
    "\n",
    "def pcheck_clipZ(pcheck):\n",
    "    \"\"\"\n",
    "    clip (remove) the 1st half of the parity check matrix\n",
    "    \"\"\"\n",
    "    L = int(pcheck.shape[1]/2)\n",
    "    return pcheck[:, L:]\n",
    "\n",
    "def pcheck_clipX(pcheck):\n",
    "    \"\"\"\n",
    "    clip (remove) the 2nd half of the parity check matrix\n",
    "    \"\"\"\n",
    "    L = int(pcheck.shape[1]/2)\n",
    "    return pcheck[:, :L]"
   ]
  },
  {
   "cell_type": "markdown",
   "metadata": {},
   "source": [
    "### Low-Weight Errors"
   ]
  },
  {
   "cell_type": "code",
   "execution_count": 4,
   "metadata": {},
   "outputs": [
    {
     "name": "stderr",
     "output_type": "stream",
     "text": [
      "  0%|          | 0/100 [00:00<?, ?it/s]"
     ]
    },
    {
     "name": "stderr",
     "output_type": "stream",
     "text": [
      "100%|██████████| 100/100 [02:12<00:00,  1.32s/it]\n"
     ]
    }
   ],
   "source": [
    "dim = 4\n",
    "\n",
    "num_gauge_fixings = 100\n",
    "num_errors = 2000\n",
    "codespace_projection = np.zeros((num_gauge_fixings, num_errors))\n",
    "logical_errors = np.zeros((num_gauge_fixings, num_errors))\n",
    "uncorrected_logical_error_rate = np.zeros((num_gauge_fixings, num_errors))\n",
    "for fix_num in tqdm(range(num_gauge_fixings)):\n",
    "    lat = Lattice2D(dim, dim)\n",
    "    coloring = np.random.randint(-1, 2, size=(dim - 1)**2)\n",
    "    lat.color_lattice(coloring)\n",
    "    for num_error in range(num_errors):\n",
    "        w = np.random.choice(list(range((dim - 1)//2)))\n",
    "        E = random_pauli_of_weight(lat.size(), w)\n",
    "        error = pauli2vector(E)\n",
    "        pcheckX = lat.pcheckX()\n",
    "        pcheckZ = lat.pcheckZ() \n",
    "        pcheck = np.vstack((pcheckX, pcheckZ))\n",
    "        syndromeZ = twisted_product(pcheckX, pauli2vector(E)) # Z-error syndrome \n",
    "        syndromeX = twisted_product(pcheckZ, pauli2vector(E)) # X-error syndrome \n",
    "        Hx = pcheck_clipX(pcheckX)\n",
    "        Hz = pcheck_clipZ(pcheckZ)\n",
    "        decodingX = Matching.from_check_matrix(Hx)\n",
    "        decodingZ = Matching.from_check_matrix(Hz)\n",
    "        recoveryX = decodingX.decode(syndromeZ)\n",
    "        recoveryZ = decodingZ.decode(syndromeX)\n",
    "        recovery = np.concatenate((recoveryZ, recoveryX))\n",
    "        corrected_error = pauli2vector(E) + recovery % 2 \n",
    "\n",
    "        if sum(twisted_product(pcheck, corrected_error)) > 0:\n",
    "            codespace_projection[fix_num][num_error] = 1\n",
    "        if (twisted_product(pauli2vector(lat.Lx), corrected_error) == 1) or (twisted_product(pauli2vector(lat.Lz), corrected_error) == 1):\n",
    "            logical_errors[fix_num][num_error] = 1\n",
    "        if (twisted_product(pauli2vector(lat.Lx), error) == 1) or (twisted_product(pauli2vector(lat.Lz), error) == 1):\n",
    "            uncorrected_logical_error_rate[fix_num][num_error] = 1\n",
    "\n",
    "assert(np.sum(codespace_projection) == 0)"
   ]
  },
  {
   "cell_type": "code",
   "execution_count": 5,
   "metadata": {},
   "outputs": [],
   "source": [
    "logical_error_rates = []\n",
    "for row in logical_errors:\n",
    "    logical_error_rates.append(sum(row)/len(row))"
   ]
  },
  {
   "cell_type": "code",
   "execution_count": 6,
   "metadata": {},
   "outputs": [
    {
     "data": {
      "text/plain": [
       "Text(0.5, 1.0, 'Average Logical Error Rate over Uniformly-Random Gauge Fixings')"
      ]
     },
     "execution_count": 6,
     "metadata": {},
     "output_type": "execute_result"
    },
    {
     "data": {
      "image/png": "[encoded data removed]",
      "text/plain": [
       "<Figure size 640x480 with 1 Axes>"
      ]
     },
     "metadata": {},
     "output_type": "display_data"
    }
   ],
   "source": [
    "bins = np.linspace(0,0.4, 30)\n",
    "plt.hist(logical_error_rates, bins, color='c', edgecolor='k')\n",
    "plt.xlabel(\"Logical Error Rate\")\n",
    "plt.ylabel(\"Counts\")\n",
    "plt.axvline(np.mean(logical_error_rates), color='b')\n",
    "plt.title(\"Average Logical Error Rate over Uniformly-Random Gauge Fixings\")"
   ]
  },
  {
   "cell_type": "markdown",
   "metadata": {},
   "source": [
    "### Medium-Weight Errors"
   ]
  },
  {
   "cell_type": "code",
   "execution_count": 7,
   "metadata": {},
   "outputs": [
    {
     "name": "stderr",
     "output_type": "stream",
     "text": [
      "  0%|          | 0/100 [00:00<?, ?it/s]"
     ]
    },
    {
     "name": "stderr",
     "output_type": "stream",
     "text": [
      "100%|██████████| 100/100 [01:56<00:00,  1.17s/it]\n"
     ]
    }
   ],
   "source": [
    "dim = 4\n",
    "\n",
    "num_gauge_fixings = 100\n",
    "num_errors = 2000\n",
    "codespace_projection = np.zeros((num_gauge_fixings, num_errors))\n",
    "logical_errors = np.zeros((num_gauge_fixings, num_errors))\n",
    "uncorrected_logical_error_rate = np.zeros((num_gauge_fixings, num_errors))\n",
    "for fix_num in tqdm(range(num_gauge_fixings)):\n",
    "    lat = Lattice2D(dim, dim)\n",
    "    coloring = np.random.randint(-1, 2, size=(dim - 1)**2)\n",
    "    lat.color_lattice(coloring)\n",
    "    for num_error in range(num_errors):\n",
    "        w = np.random.choice(list(range((dim - 1)//2 + 1, (dim - 1)//2 + 2)))\n",
    "        E = random_pauli_of_weight(lat.size(), w)\n",
    "        error = pauli2vector(E)\n",
    "        pcheckX = lat.pcheckX()\n",
    "        pcheckZ = lat.pcheckZ() \n",
    "        pcheck = np.vstack((pcheckX, pcheckZ))\n",
    "        syndromeZ = twisted_product(pcheckX, pauli2vector(E)) # Z-error syndrome \n",
    "        syndromeX = twisted_product(pcheckZ, pauli2vector(E)) # X-error syndrome \n",
    "        Hx = pcheck_clipX(pcheckX)\n",
    "        Hz = pcheck_clipZ(pcheckZ)\n",
    "        decodingX = Matching.from_check_matrix(Hx)\n",
    "        decodingZ = Matching.from_check_matrix(Hz)\n",
    "        recoveryX = decodingX.decode(syndromeZ)\n",
    "        recoveryZ = decodingZ.decode(syndromeX)\n",
    "        recovery = np.concatenate((recoveryZ, recoveryX))\n",
    "        corrected_error = pauli2vector(E) + recovery % 2 \n",
    "\n",
    "        if sum(twisted_product(pcheck, corrected_error)) > 0:\n",
    "            codespace_projection[fix_num][num_error] = 1\n",
    "        if (twisted_product(pauli2vector(lat.Lx), corrected_error) == 1) or (twisted_product(pauli2vector(lat.Lz), corrected_error) == 1):\n",
    "            logical_errors[fix_num][num_error] = 1\n",
    "        if (twisted_product(pauli2vector(lat.Lx), error) == 1) or (twisted_product(pauli2vector(lat.Lz), error) == 1):\n",
    "            uncorrected_logical_error_rate[fix_num][num_error] = 1\n",
    "\n",
    "assert(np.sum(codespace_projection) == 0)"
   ]
  },
  {
   "cell_type": "code",
   "execution_count": 43,
   "metadata": {},
   "outputs": [],
   "source": [
    "logical_error_rates = []\n",
    "for row in logical_errors:\n",
    "    logical_error_rates.append(sum(row)/len(row))"
   ]
  },
  {
   "cell_type": "code",
   "execution_count": 44,
   "metadata": {},
   "outputs": [
    {
     "name": "stdout",
     "output_type": "stream",
     "text": [
      "0.24059000000000005\n"
     ]
    },
    {
     "data": {
      "text/plain": [
       "Text(0.5, 1.0, 'Average Logical Error Rate over Uniformly-Random Gauge Fixings')"
      ]
     },
     "execution_count": 44,
     "metadata": {},
     "output_type": "execute_result"
    },
    {
     "data": {
      "image/png": "[encoded data removed]",
      "text/plain": [
       "<Figure size 640x480 with 1 Axes>"
      ]
     },
     "metadata": {},
     "output_type": "display_data"
    }
   ],
   "source": [
    "bins = np.linspace(0,0.6, 30)\n",
    "plt.hist(logical_error_rates, bins, color='c', edgecolor='k')\n",
    "plt.xlabel(\"Logical Error Rate\")\n",
    "plt.ylabel(\"Counts\")\n",
    "plt.axvline(np.mean(logical_error_rates), color='b')\n",
    "print(np.mean(logical_error_rates))\n",
    "plt.title(\"Average Logical Error Rate over Uniformly-Random Gauge Fixings\")"
   ]
  },
  {
   "cell_type": "code",
   "execution_count": 31,
   "metadata": {},
   "outputs": [
    {
     "name": "stderr",
     "output_type": "stream",
     "text": [
      "  0%|          | 0/100 [00:00<?, ?it/s]"
     ]
    },
    {
     "name": "stderr",
     "output_type": "stream",
     "text": [
      "100%|██████████| 100/100 [01:49<00:00,  1.09s/it]\n"
     ]
    }
   ],
   "source": [
    "dim = 4\n",
    "\n",
    "num_gauge_fixings = 100\n",
    "num_errors = 2000\n",
    "codespace_projection = np.zeros((num_gauge_fixings, num_errors))\n",
    "logical_errors = np.zeros((num_gauge_fixings, num_errors))\n",
    "uncorrected_logical_error_rate = np.zeros((num_gauge_fixings, num_errors))\n",
    "for fix_num in tqdm(range(num_gauge_fixings)):\n",
    "    lat = Lattice2D(dim, dim)\n",
    "    coloring = np.random.randint(-1, 2, size=(dim - 1)**2)\n",
    "    lat.color_lattice(coloring)\n",
    "    for num_error in range(num_errors):\n",
    "        w = np.random.choice(list(range(dim, (dim - 1)**2)))\n",
    "        E = random_pauli_of_weight(lat.size(), w)\n",
    "        error = pauli2vector(E)\n",
    "        pcheckX = lat.pcheckX()\n",
    "        pcheckZ = lat.pcheckZ() \n",
    "        pcheck = np.vstack((pcheckX, pcheckZ))\n",
    "        syndromeZ = twisted_product(pcheckX, pauli2vector(E)) # Z-error syndrome \n",
    "        syndromeX = twisted_product(pcheckZ, pauli2vector(E)) # X-error syndrome \n",
    "        Hx = pcheck_clipX(pcheckX)\n",
    "        Hz = pcheck_clipZ(pcheckZ)\n",
    "        decodingX = Matching.from_check_matrix(Hx)\n",
    "        decodingZ = Matching.from_check_matrix(Hz)\n",
    "        recoveryX = decodingX.decode(syndromeZ)\n",
    "        recoveryZ = decodingZ.decode(syndromeX)\n",
    "        recovery = np.concatenate((recoveryZ, recoveryX))\n",
    "        corrected_error = pauli2vector(E) + recovery % 2 \n",
    "\n",
    "        if sum(twisted_product(pcheck, corrected_error)) > 0:\n",
    "            codespace_projection[fix_num][num_error] = 1\n",
    "        if (twisted_product(pauli2vector(lat.Lx), corrected_error) == 1) or (twisted_product(pauli2vector(lat.Lz), corrected_error) == 1):\n",
    "            logical_errors[fix_num][num_error] = 1\n",
    "        if (twisted_product(pauli2vector(lat.Lx), error) == 1) or (twisted_product(pauli2vector(lat.Lz), error) == 1):\n",
    "            uncorrected_logical_error_rate[fix_num][num_error] = 1\n",
    "\n",
    "assert(np.sum(codespace_projection) == 0)"
   ]
  },
  {
   "cell_type": "code",
   "execution_count": 32,
   "metadata": {},
   "outputs": [],
   "source": [
    "logical_error_rates = []\n",
    "for row in logical_errors:\n",
    "    logical_error_rates.append(sum(row)/len(row))"
   ]
  },
  {
   "cell_type": "code",
   "execution_count": 35,
   "metadata": {},
   "outputs": [
    {
     "data": {
      "text/plain": [
       "Text(0.5, 1.0, 'Average Logical Error Rate over Uniformly-Random Gauge Fixings')"
      ]
     },
     "execution_count": 35,
     "metadata": {},
     "output_type": "execute_result"
    },
    {
     "data": {
      "image/png": "[encoded data removed]",
      "text/plain": [
       "<Figure size 640x480 with 1 Axes>"
      ]
     },
     "metadata": {},
     "output_type": "display_data"
    }
   ],
   "source": [
    "bins = np.linspace(0.4,1.0, 30)\n",
    "plt.hist(logical_error_rates, bins, color='c', edgecolor='k')\n",
    "plt.xlabel(\"Logical Error Rate\")\n",
    "plt.ylabel(\"Counts\")\n",
    "plt.axvline(np.mean(logical_error_rates), color='b')\n",
    "plt.title(\"Average Logical Error Rate over Uniformly-Random Gauge Fixings\")"
   ]
  },
  {
   "cell_type": "markdown",
   "metadata": {},
   "source": [
    "### See how logical error rate changes for changing weight\n",
    "* Want graph with weights on x-axis and logical error rate on z-axis"
   ]
  },
  {
   "cell_type": "code",
   "execution_count": 66,
   "metadata": {},
   "outputs": [
    {
     "name": "stderr",
     "output_type": "stream",
     "text": [
      "100%|██████████| 100/100 [00:47<00:00,  2.13it/s]\n"
     ]
    }
   ],
   "source": [
    "dim = 7\n",
    "num_gauge_fixings = 100\n",
    "num_errors = 500\n",
    "codespace_projection = np.zeros((num_gauge_fixings, num_errors))\n",
    "logical_errors = []\n",
    "uncorrected_logical_error_rate = np.zeros((num_gauge_fixings, num_errors))\n",
    "for fix_num in tqdm(range(num_gauge_fixings)):\n",
    "    lat = Lattice2D(dim, dim)\n",
    "    coloring = np.random.randint(-1, 2, size=(dim - 1)**2)\n",
    "    lat.color_lattice(coloring)\n",
    "    for num_error in range(num_errors):\n",
    "        w = np.random.choice(list(range((dim - 1)**2)))\n",
    "        E = random_pauli_of_weight(lat.size(), w)\n",
    "        error = pauli2vector(E)\n",
    "        pcheckX = lat.pcheckX()\n",
    "        pcheckZ = lat.pcheckZ() \n",
    "        pcheck = np.vstack((pcheckX, pcheckZ))\n",
    "        syndromeZ = twisted_product(pcheckX, pauli2vector(E)) # Z-error syndrome \n",
    "        syndromeX = twisted_product(pcheckZ, pauli2vector(E)) # X-error syndrome \n",
    "        Hx = pcheck_clipX(pcheckX)\n",
    "        Hz = pcheck_clipZ(pcheckZ)\n",
    "        decodingX = Matching.from_check_matrix(Hx)\n",
    "        decodingZ = Matching.from_check_matrix(Hz)\n",
    "        recoveryX = decodingX.decode(syndromeZ)\n",
    "        recoveryZ = decodingZ.decode(syndromeX)\n",
    "        recovery = np.concatenate((recoveryZ, recoveryX))\n",
    "        corrected_error = pauli2vector(E) + recovery % 2 \n",
    "\n",
    "        if sum(twisted_product(pcheck, corrected_error)) > 0:\n",
    "            codespace_projection[fix_num][num_error] = 1\n",
    "        if (twisted_product(pauli2vector(lat.Lx), corrected_error) == 1) or (twisted_product(pauli2vector(lat.Lz), corrected_error) == 1):\n",
    "            logical_errors.append((w, 1))\n",
    "        else:\n",
    "            logical_errors.append((w, 0))\n",
    "        if (twisted_product(pauli2vector(lat.Lx), error) == 1) or (twisted_product(pauli2vector(lat.Lz), error) == 1):\n",
    "            uncorrected_logical_error_rate[fix_num][num_error] = 1\n",
    "\n",
    "assert(np.sum(codespace_projection) == 0)"
   ]
  },
  {
   "cell_type": "code",
   "execution_count": 67,
   "metadata": {},
   "outputs": [],
   "source": [
    "logical_errors_dict = {k : [] for k in range((dim - 1)**2)}\n",
    "for weight_err in logical_errors:\n",
    "    logical_errors_dict[weight_err[0]].append(weight_err[1])\n",
    "\n",
    "\n",
    "logical_error_rates_dict = {k : np.sum(logical_errors_dict[k])/len(logical_errors_dict[k]) for k in logical_errors_dict.keys()}"
   ]
  },
  {
   "cell_type": "code",
   "execution_count": 68,
   "metadata": {},
   "outputs": [
    {
     "data": {
      "image/png": "[encoded data removed]",
      "text/plain": [
       "<Figure size 640x480 with 1 Axes>"
      ]
     },
     "metadata": {},
     "output_type": "display_data"
    }
   ],
   "source": [
    "plt.figure()\n",
    "for w in logical_error_rates_dict.keys():\n",
    "    plt.plot(w, logical_error_rates_dict[w], 'om-')\n",
    "plt.title(\"Logical Error Rates by Error Weight - Dimension \" + str(dim))\n",
    "plt.xlabel(\"Weight\")\n",
    "plt.ylabel(\"Logical Error Rate\")\n",
    "plt.show()"
   ]
  }
 ],
 "metadata": {
  "kernelspec": {
   "display_name": "qcenv",
   "language": "python",
   "name": "python3"
  },
  "language_info": {
   "codemirror_mode": {
    "name": "ipython",
    "version": 3
   },
   "file_extension": ".py",
   "mimetype": "text/x-python",
   "name": "python",
   "nbconvert_exporter": "python",
   "pygments_lexer": "ipython3",
   "version": "3.9.16"
  }
 },
 "nbformat": 4,
 "nbformat_minor": 2
}
