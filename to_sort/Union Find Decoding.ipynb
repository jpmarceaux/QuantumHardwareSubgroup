{
 "cells": [
  {
   "cell_type": "code",
   "execution_count": 2,
   "metadata": {},
   "outputs": [],
   "source": [
    "import unionfind #do \"pip install unionfind\" to get this\n",
    "import itertools"
   ]
  },
  {
   "cell_type": "markdown",
   "metadata": {},
   "source": [
    "# Data Structures"
   ]
  },
  {
   "cell_type": "code",
   "execution_count": 3,
   "metadata": {},
   "outputs": [],
   "source": [
    "class edgedict(dict):\n",
    "    def __getitem__(self, key):\n",
    "        if key in self:\n",
    "            return super().__getitem__(key)\n",
    "        return super().__getitem__(tuple(reversed(key)))\n",
    "    def __setitem__(self, key, value):\n",
    "        if tuple(reversed(key)) in self:\n",
    "            return super().__setitem__(tuple(reversed(key)), value)\n",
    "        else: \n",
    "            return super().__setitem__(key, value)"
   ]
  },
  {
   "cell_type": "code",
   "execution_count": 4,
   "metadata": {},
   "outputs": [],
   "source": [
    "### graph data structure\n",
    "class graph:\n",
    "    def __init__(self, vertexlist, edgelist):\n",
    "\n",
    "        self.vertices = vertexlist\n",
    "        self.edges = edgelist\n",
    "        self.neighbors = {v: [] for v in self.vertices}\n",
    "        self.leaves = vertexlist.copy()\n",
    "        for (u,v) in edgelist:\n",
    "            if v not in self.neighbors[u]:\n",
    "                self.neighbors[u].append(v)\n",
    "                self.neighbors[v].append(u)\n",
    "                if len(self.neighbors[u]) == 2:\n",
    "                    self.leaves.remove(u)\n",
    "                if len(self.neighbors[v]) == 2:\n",
    "                    self.leaves.remove(v)\n",
    "\n",
    "    def incident_edges(self, u):\n",
    "        incident = []\n",
    "        for v in self.vertices:\n",
    "            if (u,v) in self.edges: \n",
    "                incident.append({u,v})\n",
    "        return incident\n",
    "\n",
    "    def find_neighbors(self, u):\n",
    "        neighbors = []\n",
    "        for v in self.vertices:\n",
    "            if (u,v) in self.edges or (v,u) in self.edges: \n",
    "                neighbors.append(v)\n",
    "        return neighbors\n",
    "    \n",
    "    def add_vertex(self, u):\n",
    "        if u not in self.vertices:\n",
    "            self.vertices.append(u)\n",
    "            self.neighbors[u] = []\n",
    "            \n",
    "    def add_edge(self, e):\n",
    "        if e not in self.edges:\n",
    "            (u,v) = e\n",
    "            if u not in self.vertices:\n",
    "                self.add_vertex(u)\n",
    "            if v not in self.vertices:\n",
    "                self.add_vertex(v)\n",
    "            self.neighbors[u].append(v)\n",
    "            self.neighbors[v].append(u)\n",
    "            if u in self.leaves and len(self.neighbors[u]) > 1:\n",
    "                self.leaves.remove(u)\n",
    "            if v in self.leaves and len(self.neighbors[v]) > 1:\n",
    "                self.leaves.remove(v)\n",
    "            if u not in self.leaves and len(self.neighbors[u]) == 1:\n",
    "                self.leaves.append(u)\n",
    "            if v not in self.leaves and len(self.neighbors[v]) == 1:\n",
    "                self.leaves.append(v)\n",
    "            \n",
    "            self.edges.append(e)\n",
    "        \n",
    "    def remove_edge(self, e):\n",
    "        (u,v) = e\n",
    "        if len(self.neighbors[u]) == 1:\n",
    "            self.leaves.remove(u)\n",
    "        if len(self.neighbors[v]) == 1:\n",
    "            self.leaves.remove(v)\n",
    "        if len(self.neighbors[u]) == 2:\n",
    "            self.leaves.append(u)\n",
    "        if len(self.neighbors[v]) == 2:\n",
    "            self.leaves.append(v)    \n",
    "        self.neighbors[u].remove(v)\n",
    "        self.neighbors[v].remove(u)\n",
    "        self.edges.remove(e)"
   ]
  },
  {
   "cell_type": "code",
   "execution_count": 5,
   "metadata": {},
   "outputs": [],
   "source": [
    "def make_decoder_graph(S):\n",
    "    n = len(S[0])\n",
    "    vertices = [s for s in S]\n",
    "    vertices.append('b')\n",
    "    edges_by_qubit = edgedict({})\n",
    "    edges = []\n",
    "    unused_qs = list(range(n))\n",
    "    for s1, s2 in itertools.combinations(S, 2):\n",
    "        for q in range(n):\n",
    "            if s1[q] =='1' and  s2[q]=='1':\n",
    "                if (s1,s2) not in edges_by_qubit.keys():\n",
    "                    edges_by_qubit[(s1,s2)] = []\n",
    "                edges_by_qubit[(s1,s2)].append(q)\n",
    "                edges.append((s1,s2))\n",
    "                if q in unused_qs:\n",
    "                    unused_qs.remove(q)\n",
    "    for q in unused_qs:\n",
    "        for s1 in S:\n",
    "            if s1[q]=='1':\n",
    "                if (s1,'b') not in edges_by_qubit.keys():\n",
    "                    edges_by_qubit[(s1,'b')] = []\n",
    "                edges_by_qubit[(s1,'b')].append(q)\n",
    "                edges.append((s1,'b'))\n",
    "    return((graph(vertices, edges), edges_by_qubit))"
   ]
  },
  {
   "cell_type": "markdown",
   "metadata": {},
   "source": [
    "# Union Find Decoder Part 1 (Construct Modified Erasure)"
   ]
  },
  {
   "cell_type": "code",
   "execution_count": 9,
   "metadata": {},
   "outputs": [],
   "source": [
    "def construct_modified_erasure(decoder_graph, syn, erasure):\n",
    "    #1: initialize clusers, support list, boundary lists\n",
    "    syndrome=syn.copy()\n",
    "    syndrome['b'] = sum(syndrome.values()) % 2\n",
    "\n",
    "    #print(syndrome)\n",
    "    clusters = unionfind.UnionFind(decoder_graph.vertices) #I'm assuming the initial erasure is empty here\n",
    "    support = edgedict({e: 1 if e in erasure else 0 for e in decoder_graph.edges})\n",
    "    boundaries = {s: [s] for s in decoder_graph.vertices}\n",
    "    \n",
    "    #2: list all clusters with an odd number of marked vertices\n",
    "    L = [clusters[clusters.find(list(v)[0])] for v in clusters.components() if sum(syndrome[i] for i in v) % 2 == 1]\n",
    "\n",
    "    #3 while there are odd clusters \n",
    "    #This refers to the number of *marked* vertices being odd\n",
    "    while L != []:\n",
    "        #print(\"current L:\", L)\n",
    "        #4: initialize empty fusion list\n",
    "        fusion = []\n",
    "        #5 for all u in L, grow the cluster by half an edge\n",
    "        for u in L:\n",
    "            #grow the cluster\n",
    "            root_u = clusters[clusters.find(u)]\n",
    "            for b in boundaries[root_u]:\n",
    "                for n in decoder_graph.neighbors[b]:\n",
    "                    #grow each edge from the boundary by 0.5\n",
    "                    if support[(b,n)] < 1:\n",
    "                        support[(b, n)] += 0.5\n",
    "                        #add new edges to fusion list\n",
    "                        if support[(b,n)] == 1:\n",
    "                            fusion.append((b,n))\n",
    "        #6: for all edges in fusion list, union the clusters if needed\n",
    "        for edge in fusion:\n",
    "            #print(edge)\n",
    "            u = edge[0]\n",
    "            v = edge[1]\n",
    "            if u not in clusters._elts:\n",
    "                clusters.add(u)\n",
    "                boundaries[u] = [u]\n",
    "            if v not in clusters._elts:\n",
    "                clusters.add(v)\n",
    "                boundaries[v] = [v]\n",
    "            if not clusters.connected(u,v):\n",
    "                #7 for all edges in fusion list, update the boundary lists\n",
    "                root_u = clusters[clusters.find(u)]\n",
    "                root_v = clusters[clusters.find(v)]\n",
    "                if len(clusters.component(root_u)) > len(clusters.component(root_v)):\n",
    "                #append boundary list of v to boundary list of u\n",
    "                #later we will update boundary lists to remove anything that isn't on the boundary anymore\n",
    "                    boundaries[root_u].extend(boundaries[root_v])\n",
    "                else:\n",
    "                #append boundary list of u to boundary list of v\n",
    "                    boundaries[root_v].extend(boundaries[root_u])\n",
    "                clusters.union(u,v)\n",
    "        fusion = []\n",
    "\n",
    "        #8 replace each u in L with find(u) (new root)\n",
    "        Lnew = []\n",
    "        for u in L:\n",
    "            if sum(syndrome[i] for i in clusters.component(u)) % 2 == 1: #this checks the number of -1 syndromes (marked vertices) in a cluster\n",
    "                u_new = clusters[clusters.find(u)]\n",
    "                if u_new not in Lnew:\n",
    "                    Lnew.append(u_new)\n",
    "                    ####9: remove vertices in boundary list of u that are not boundary vertices\n",
    "                    for v in boundaries[u_new]:\n",
    "                        #if all edges have support 1 (and there's at least one edge, remove from boundary\n",
    "                        if len(decoder_graph.incident_edges(v)) > 0:\n",
    "                            if all(support[tuple(s)]==1 for s in decoder_graph.incident_edges(v)): boundaries[u_new].remove(v)\n",
    "\n",
    "\n",
    "        L = Lnew\n",
    "        #10 remove even components from the list of components to grow\n",
    "        if len(clusters.component(u)) % 2 == 0 and u in L:\n",
    "            L.remove(u)\n",
    "    #11 add edges to the modified erasure\n",
    "    for edge in support.keys():\n",
    "        if support[edge] == 1: #fully-grown edge\n",
    "            erasure.append(edge)\n",
    "    \n",
    "    #result at this point is a list of edges making up the modified erasure\n",
    "    return erasure"
   ]
  },
  {
   "cell_type": "markdown",
   "metadata": {},
   "source": [
    "# Union Find Decoder Part 2 (Apply Peeling Decoder)"
   ]
  },
  {
   "cell_type": "code",
   "execution_count": 37,
   "metadata": {},
   "outputs": [],
   "source": [
    "####12 apply peeling decoder to the erasure\n",
    "def peeling_decoder(erasure, edges_to_qubits, num_qs, decoder_graph, syn):\n",
    "    syndrome=syn.copy()\n",
    "    syndrome['b'] = sum(syndrome.values()) % 2\n",
    "    \n",
    "    if len(erasure) == 0:\n",
    "        correction = ''\n",
    "    else:\n",
    "        erasure_vertices = set(list(zip(*erasure))[0])\n",
    "        erasure_vertices.update(set(list(zip(*erasure))[1]))\n",
    "        erasure_vertices = list(erasure_vertices)\n",
    "        #1: construct spanning forest of erasure\n",
    "        erasure_graph = graph(erasure_vertices, erasure)\n",
    "        erasure_forest = graph([],[]) #need vertex list for modified erasure\n",
    "        r = erasure_vertices[0] #pick a root\n",
    "        remaining_vertices = erasure_vertices\n",
    "        visited = set()\n",
    "        queue = []\n",
    "        \n",
    "        #erasure forest should not have isolated vertices\n",
    "        #we should remove vertices that have no neighbors or not call them leaves\n",
    "\n",
    "        while remaining_vertices: \n",
    "            #find a connected component\n",
    "            queue.append(remaining_vertices.pop(0))\n",
    "            while queue:\n",
    "                u = queue.pop(0)\n",
    "                if u not in visited:\n",
    "                    erasure_forest.add_vertex(u)\n",
    "                    visited.add(u)\n",
    "                    neighbors = erasure_graph.neighbors[u]\n",
    "                    for v in neighbors:\n",
    "                        if v in remaining_vertices:\n",
    "                            erasure_forest.add_edge({u,v}) #modify add_edge to do this automatically\n",
    "                            queue.append(v)\n",
    "                            remaining_vertices.remove(v)\n",
    "                \n",
    "            \n",
    "\n",
    "        #2 initialize A\n",
    "        A = []\n",
    "        #3: while the forest is nonempty\n",
    "        while erasure_forest.edges != []:\n",
    "            #pick a leaf and remove e, with pendant vertex u\n",
    "            #get vertices, id pendant vertex\n",
    "            u = erasure_forest.leaves[0]\n",
    "            v = erasure_forest.neighbors[u][0]\n",
    "            e = {u,v}\n",
    "            erasure_forest.remove_edge(e)\n",
    "            #4: if u is in the syndrome, add e to A, remove u from syndrome, and flip v in syndrome\n",
    "            if syndrome[u]==1:\n",
    "                A.append(edges_to_qubits[(u,v)][0])\n",
    "                syndrome[u]=1\n",
    "                if syndrome[v]==1:\n",
    "                    syndrome[v]=0\n",
    "                else:\n",
    "                    syndrome[v]=1   \n",
    "        P = str()\n",
    "        correction = [0 for i in range(num_qs)]\n",
    "        for e in A:\n",
    "            P += 'Z'+str(e)\n",
    "            correction[e] = 1\n",
    "    return correction\n"
   ]
  },
  {
   "cell_type": "markdown",
   "metadata": {},
   "source": [
    "# Testing"
   ]
  },
  {
   "cell_type": "code",
   "execution_count": 19,
   "metadata": {},
   "outputs": [],
   "source": [
    "decoder_graph, edges_by_qubit =make_decoder_graph(['111111111111110000000000000000000000000000', '000000011111111111111000000000000000000000', '000000000000001111111111111100000000000000', '000000000000000000000111111111111110000000', '000000000000000000000000000011111111111111'])"
   ]
  },
  {
   "cell_type": "code",
   "execution_count": 16,
   "metadata": {},
   "outputs": [
    {
     "data": {
      "text/plain": [
       "{('111111111111110000000000000000000000000000',\n",
       "  '000000011111111111111000000000000000000000'): [7, 8, 9, 10, 11, 12, 13],\n",
       " ('000000011111111111111000000000000000000000',\n",
       "  '000000000000001111111111111100000000000000'): [14, 15, 16, 17, 18, 19, 20],\n",
       " ('000000000000001111111111111100000000000000',\n",
       "  '000000000000000000000111111111111110000000'): [21, 22, 23, 24, 25, 26, 27],\n",
       " ('000000000000000000000111111111111110000000',\n",
       "  '000000000000000000000000000011111111111111'): [28, 29, 30, 31, 32, 33, 34],\n",
       " ('111111111111110000000000000000000000000000', 'b'): [0, 1, 2, 3, 4, 5, 6],\n",
       " ('000000000000000000000000000011111111111111', 'b'): [35,\n",
       "  36,\n",
       "  37,\n",
       "  38,\n",
       "  39,\n",
       "  40,\n",
       "  41]}"
      ]
     },
     "execution_count": 16,
     "metadata": {},
     "output_type": "execute_result"
    }
   ],
   "source": [
    "edges_by_qubit"
   ]
  },
  {
   "cell_type": "code",
   "execution_count": 17,
   "metadata": {},
   "outputs": [],
   "source": [
    "syndrome = {'111111111111110000000000000000000000000000':1, \n",
    "            '000000011111111111111000000000000000000000': 0, \n",
    "            '000000000000001111111111111100000000000000': 0, \n",
    "            '000000000000000000000111111111111110000000': 0, \n",
    "            '000000000000000000000000000011111111111111': 0}"
   ]
  },
  {
   "cell_type": "code",
   "execution_count": 20,
   "metadata": {},
   "outputs": [],
   "source": [
    "new_erasure =construct_modified_erasure(decoder_graph, syndrome, [])\n"
   ]
  },
  {
   "cell_type": "code",
   "execution_count": 21,
   "metadata": {},
   "outputs": [
    {
     "data": {
      "text/plain": [
       "[('111111111111110000000000000000000000000000', 'b')]"
      ]
     },
     "execution_count": 21,
     "metadata": {},
     "output_type": "execute_result"
    }
   ],
   "source": [
    "new_erasure"
   ]
  },
  {
   "cell_type": "code",
   "execution_count": 22,
   "metadata": {},
   "outputs": [],
   "source": [
    "num_qs = len(new_erasure[0][0])"
   ]
  },
  {
   "cell_type": "code",
   "execution_count": 38,
   "metadata": {},
   "outputs": [
    {
     "name": "stdout",
     "output_type": "stream",
     "text": [
      "111111111111110000000000000000000000000000\n",
      "neighbors ['b']\n",
      "b\n",
      "neighbors ['111111111111110000000000000000000000000000']\n",
      "[{'111111111111110000000000000000000000000000', 'b'}]\n"
     ]
    },
    {
     "data": {
      "text/plain": [
       "[1,\n",
       " 0,\n",
       " 0,\n",
       " 0,\n",
       " 0,\n",
       " 0,\n",
       " 0,\n",
       " 0,\n",
       " 0,\n",
       " 0,\n",
       " 0,\n",
       " 0,\n",
       " 0,\n",
       " 0,\n",
       " 0,\n",
       " 0,\n",
       " 0,\n",
       " 0,\n",
       " 0,\n",
       " 0,\n",
       " 0,\n",
       " 0,\n",
       " 0,\n",
       " 0,\n",
       " 0,\n",
       " 0,\n",
       " 0,\n",
       " 0,\n",
       " 0,\n",
       " 0,\n",
       " 0,\n",
       " 0,\n",
       " 0,\n",
       " 0,\n",
       " 0,\n",
       " 0,\n",
       " 0,\n",
       " 0,\n",
       " 0,\n",
       " 0,\n",
       " 0,\n",
       " 0]"
      ]
     },
     "execution_count": 38,
     "metadata": {},
     "output_type": "execute_result"
    }
   ],
   "source": [
    "peeling_decoder(new_erasure, edges_by_qubit, num_qs, decoder_graph, syndrome)"
   ]
  },
  {
   "cell_type": "code",
   "execution_count": null,
   "metadata": {},
   "outputs": [],
   "source": []
  }
 ],
 "metadata": {
  "kernelspec": {
   "display_name": "Python 3",
   "language": "python",
   "name": "python3"
  },
  "language_info": {
   "codemirror_mode": {
    "name": "ipython",
    "version": 3
   },
   "file_extension": ".py",
   "mimetype": "text/x-python",
   "name": "python",
   "nbconvert_exporter": "python",
   "pygments_lexer": "ipython3",
   "version": "3.9.16"
  }
 },
 "nbformat": 4,
 "nbformat_minor": 4
}
